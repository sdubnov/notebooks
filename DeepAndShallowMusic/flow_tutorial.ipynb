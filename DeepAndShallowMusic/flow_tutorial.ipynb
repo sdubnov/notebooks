{
  "nbformat": 4,
  "nbformat_minor": 0,
  "metadata": {
    "colab": {
      "name": "flow-tutorial.ipynb",
      "provenance": []
    },
    "kernelspec": {
      "name": "python3",
      "display_name": "Python 3"
    }
  },
  "cells": [
    {
      "cell_type": "code",
      "metadata": {
        "id": "Vp4Rl5NiN8lL",
        "colab_type": "code",
        "colab": {
          "base_uri": "https://localhost:8080/",
          "height": 69
        },
        "outputId": "c8d3cad0-54de-4ea7-8ec9-c9c76418b239"
      },
      "source": [
        "import numpy as np\n",
        "import matplotlib.pyplot as plt\n",
        "import tensorflow as tf\n",
        "import tensorflow_probability as tfp\n",
        "import os\n",
        "\n",
        "tfd = tfp.distributions\n",
        "tfb = tfp.bijectors\n",
        "\n",
        "print('tensorflow: ', tf.__version__)\n",
        "print('tensorflow-probability: ', tfp.__version__)\n",
        "\n",
        "print(type(tfd))"
      ],
      "execution_count": 172,
      "outputs": [
        {
          "output_type": "stream",
          "text": [
            "tensorflow:  2.2.0-rc2\n",
            "tensorflow-probability:  0.9.0\n",
            "<class 'module'>\n"
          ],
          "name": "stdout"
        }
      ]
    },
    {
      "cell_type": "code",
      "metadata": {
        "id": "hJ4KK04UOQsS",
        "colab_type": "code",
        "colab": {}
      },
      "source": [
        "target_dist = tfd.Normal(loc=10., scale=5.)"
      ],
      "execution_count": 0,
      "outputs": []
    },
    {
      "cell_type": "code",
      "metadata": {
        "id": "b5pBjyveOdg9",
        "colab_type": "code",
        "colab": {
          "base_uri": "https://localhost:8080/",
          "height": 295
        },
        "outputId": "5a0efc9f-8993-40ff-c2c8-9d8cc9721f4d"
      },
      "source": [
        "samples = 512\n",
        "target_samples = target_dist.sample(samples)\n",
        "\n",
        "plt.hist(target_samples, bins=30)\n",
        "plt.title('Values')\n",
        "plt.xlabel('x')\n",
        "plt.show()"
      ],
      "execution_count": 186,
      "outputs": [
        {
          "output_type": "display_data",
          "data": {
            "image/png": "[encoded data removed]",
            "text/plain": [
              "<Figure size 432x288 with 1 Axes>"
            ]
          },
          "metadata": {
            "tags": []
          }
        }
      ]
    },
    {
      "cell_type": "code",
      "metadata": {
        "id": "DMErKt3SU8sE",
        "colab_type": "code",
        "colab": {}
      },
      "source": [
        "base_dist = tfd.Normal(loc=0., scale=1.)"
      ],
      "execution_count": 0,
      "outputs": []
    },
    {
      "cell_type": "code",
      "metadata": {
        "id": "d2b0Tumj4Aux",
        "colab_type": "code",
        "colab": {}
      },
      "source": [
        "def forward(x, sigma, mu):\n",
        "        return x * sigma + mu"
      ],
      "execution_count": 0,
      "outputs": []
    },
    {
      "cell_type": "code",
      "metadata": {
        "id": "hMB2ckgV4Luf",
        "colab_type": "code",
        "colab": {}
      },
      "source": [
        "x_samples = base_dist.sample(1000)\n",
        "y_samples = forward(x_samples,10,5)"
      ],
      "execution_count": 0,
      "outputs": []
    },
    {
      "cell_type": "code",
      "metadata": {
        "id": "xFL5S-K44nZY",
        "colab_type": "code",
        "colab": {
          "base_uri": "https://localhost:8080/",
          "height": 308
        },
        "outputId": "ee31dabb-268f-4123-e965-0a0d2e4beb29"
      },
      "source": [
        "fig, (ax1, ax2) = plt.subplots(1, 2)\n",
        "fig.suptitle('Horizontally stacked subplots')\n",
        "ax1.hist(x_samples, bins=30)\n",
        "ax2.hist(y_samples, bins=30)\n",
        "plt.title('Values')\n",
        "plt.xlabel('x')\n",
        "plt.show()"
      ],
      "execution_count": 193,
      "outputs": [
        {
          "output_type": "display_data",
          "data": {
            "image/png": "[encoded data removed]",
            "text/plain": [
              "<Figure size 432x288 with 2 Axes>"
            ]
          },
          "metadata": {
            "tags": []
          }
        }
      ]
    },
    {
      "cell_type": "code",
      "metadata": {
        "id": "rhjOScWgOkiW",
        "colab_type": "code",
        "colab": {}
      },
      "source": [
        "class ScaleAndShift(tfb.Bijector):\n",
        "    def __init__(\n",
        "        self, mu=0.0, sigma=0.0, name = \"SAS\"):\n",
        "        super(ScaleAndShift, self).__init__(\n",
        "            forward_min_event_ndims=0\n",
        "        ) \n",
        "        self.mu = tf.Variable(mu)\n",
        "        self.sigma = tf.Variable(sigma)\n",
        "\n",
        "    def _forward(self, x):\n",
        "        return x * self.sigma + self.mu\n",
        "\n",
        "    def _inverse(self, y):\n",
        "        return (y - self.mu) / self.sigma\n",
        "\n",
        "    def _forward_log_det_jacobian(self, x):\n",
        "        return tf.math.log(self.sigma)\n",
        "\n",
        "    def _inverse_log_det_jacobian(self, y):\n",
        "        return -self._forward_log_det_jacobian(self._inverse)"
      ],
      "execution_count": 0,
      "outputs": []
    },
    {
      "cell_type": "code",
      "metadata": {
        "id": "bZeyJ11gX5je",
        "colab_type": "code",
        "colab": {
          "base_uri": "https://localhost:8080/",
          "height": 52
        },
        "outputId": "4625240a-eaf3-4f17-c531-8b11410f0cc7"
      },
      "source": [
        "flow.trainable_variables"
      ],
      "execution_count": 195,
      "outputs": [
        {
          "output_type": "execute_result",
          "data": {
            "text/plain": [
              "(<tf.Variable 'Variable:0' shape=() dtype=float32, numpy=10.0>,\n",
              " <tf.Variable 'Variable:0' shape=() dtype=float32, numpy=5.0>)"
            ]
          },
          "metadata": {
            "tags": []
          },
          "execution_count": 195
        }
      ]
    },
    {
      "cell_type": "code",
      "metadata": {
        "id": "Zfqyr_acW7VT",
        "colab_type": "code",
        "colab": {}
      },
      "source": [
        "mu = 10.\n",
        "sigma = 5.\n",
        "flow = tfd.TransformedDistribution(\n",
        "    distribution=base_dist,\n",
        "    bijector=ScaleAndShift(mu,sigma)\n",
        ")"
      ],
      "execution_count": 0,
      "outputs": []
    },
    {
      "cell_type": "code",
      "metadata": {
        "id": "e9DqD4dh6Dor",
        "colab_type": "code",
        "colab": {}
      },
      "source": [
        "samples = flow.sample(100)"
      ],
      "execution_count": 0,
      "outputs": []
    },
    {
      "cell_type": "code",
      "metadata": {
        "id": "fvEsXpgC6tFp",
        "colab_type": "code",
        "colab": {
          "base_uri": "https://localhost:8080/",
          "height": 397
        },
        "outputId": "4a2da429-4631-4b2d-d741-7db9f9174930"
      },
      "source": [
        "samples"
      ],
      "execution_count": 198,
      "outputs": [
        {
          "output_type": "execute_result",
          "data": {
            "text/plain": [
              "<tf.Tensor: shape=(100,), dtype=float32, numpy=\n",
              "array([14.929456 , 17.917053 ,  8.784349 ,  9.886037 , 11.857322 ,\n",
              "       10.686563 ,  8.196699 , 13.098691 , 18.171791 , 11.356592 ,\n",
              "       11.646851 , 14.516755 , 10.44997  ,  6.6656876,  9.345794 ,\n",
              "        5.776679 ,  2.9360409,  3.373228 , 11.228735 ,  5.136765 ,\n",
              "        7.308134 , 11.9695   , 18.211483 ,  9.262958 ,  9.220659 ,\n",
              "       13.195953 ,  5.094659 , 13.7744255, 13.966337 , 11.886994 ,\n",
              "       15.547244 ,  8.2387905,  9.111947 , 11.839856 , 11.498459 ,\n",
              "        5.280225 , 13.739067 , 19.517738 ,  7.5635357, 11.977386 ,\n",
              "        9.127735 , 14.750052 ,  3.309176 ,  8.734244 ,  1.6567364,\n",
              "       15.167282 ,  6.2200036,  7.222101 ,  8.569493 ,  7.8500504,\n",
              "       13.530845 , 13.338967 , 10.859578 ,  8.716095 , 15.613031 ,\n",
              "       11.781448 ,  6.9610553, 13.981207 ,  7.9985857,  7.8403296,\n",
              "        5.0010524,  1.5907755,  7.934286 , 18.11919  ,  2.994032 ,\n",
              "       11.482359 , 14.621969 , 12.624559 , 16.195831 ,  4.7729063,\n",
              "        0.5481796, 10.935103 ,  5.5099306, 14.980873 ,  8.04047  ,\n",
              "       10.167173 ,  9.791887 ,  5.1610675, 16.747879 ,  3.373776 ,\n",
              "       13.126774 , 17.047733 ,  7.737255 ,  4.864137 ,  4.151799 ,\n",
              "       10.211415 ,  3.4561625, 11.0974045, 18.583618 ,  6.576741 ,\n",
              "        9.518039 , 17.432072 , 12.967351 ,  8.38771  ,  8.659411 ,\n",
              "       12.6886215,  8.088149 , 12.33635  , 14.791518 ,  6.9426193],\n",
              "      dtype=float32)>"
            ]
          },
          "metadata": {
            "tags": []
          },
          "execution_count": 198
        }
      ]
    },
    {
      "cell_type": "code",
      "metadata": {
        "id": "WlHntr-20r8q",
        "colab_type": "code",
        "colab": {
          "base_uri": "https://localhost:8080/",
          "height": 295
        },
        "outputId": "548960c7-72c0-4be4-cd9e-ba1770bd4ee5"
      },
      "source": [
        "plt.hist(samples, bins=30)\n",
        "plt.title('Values')\n",
        "plt.xlabel('x')\n",
        "plt.show()"
      ],
      "execution_count": 199,
      "outputs": [
        {
          "output_type": "display_data",
          "data": {
            "image/png": "[encoded data removed]",
            "text/plain": [
              "<Figure size 432x288 with 1 Axes>"
            ]
          },
          "metadata": {
            "tags": []
          }
        }
      ]
    },
    {
      "cell_type": "code",
      "metadata": {
        "id": "NcByk7UzHDTx",
        "colab_type": "code",
        "colab": {
          "base_uri": "https://localhost:8080/",
          "height": 52
        },
        "outputId": "bebb57a0-8cf0-4719-bb9d-d282da74ebe9"
      },
      "source": [
        "flow.trainable_variables\n"
      ],
      "execution_count": 200,
      "outputs": [
        {
          "output_type": "execute_result",
          "data": {
            "text/plain": [
              "(<tf.Variable 'Variable:0' shape=() dtype=float32, numpy=10.0>,\n",
              " <tf.Variable 'Variable:0' shape=() dtype=float32, numpy=5.0>)"
            ]
          },
          "metadata": {
            "tags": []
          },
          "execution_count": 200
        }
      ]
    },
    {
      "cell_type": "code",
      "metadata": {
        "id": "zh5-gQHkMzYP",
        "colab_type": "code",
        "colab": {
          "base_uri": "https://localhost:8080/",
          "height": 86
        },
        "outputId": "2b2964d2-b198-4a29-fd3f-55803a76d9d1"
      },
      "source": [
        "%tensorflow_version"
      ],
      "execution_count": 201,
      "outputs": [
        {
          "output_type": "stream",
          "text": [
            "Currently selected TF version: 2.x\n",
            "Available versions:\n",
            "* 1.x\n",
            "* 2.x\n"
          ],
          "name": "stdout"
        }
      ]
    },
    {
      "cell_type": "code",
      "metadata": {
        "id": "6SfrjiP3M4lx",
        "colab_type": "code",
        "colab": {
          "base_uri": "https://localhost:8080/",
          "height": 35
        },
        "outputId": "b7a0f13f-1f7d-4fd4-da21-8a38a3bfc92d"
      },
      "source": [
        "tf.executing_eagerly()"
      ],
      "execution_count": 202,
      "outputs": [
        {
          "output_type": "execute_result",
          "data": {
            "text/plain": [
              "True"
            ]
          },
          "metadata": {
            "tags": []
          },
          "execution_count": 202
        }
      ]
    },
    {
      "cell_type": "code",
      "metadata": {
        "id": "jQ0a9W6INWJ5",
        "colab_type": "code",
        "colab": {
          "base_uri": "https://localhost:8080/",
          "height": 282
        },
        "outputId": "7af9ed9d-37e7-4496-fcbc-d4e992084291"
      },
      "source": [
        "plt.plot(flow.log_prob(target_samples))"
      ],
      "execution_count": 203,
      "outputs": [
        {
          "output_type": "execute_result",
          "data": {
            "text/plain": [
              "[<matplotlib.lines.Line2D at 0x7f505590f3c8>]"
            ]
          },
          "metadata": {
            "tags": []
          },
          "execution_count": 203
        },
        {
          "output_type": "display_data",
          "data": {
            "image/png": "[encoded data removed]",
            "text/plain": [
              "<Figure size 432x288 with 1 Axes>"
            ]
          },
          "metadata": {
            "tags": []
          }
        }
      ]
    },
    {
      "cell_type": "code",
      "metadata": {
        "id": "SZZhQ-Y-PA66",
        "colab_type": "code",
        "colab": {
          "base_uri": "https://localhost:8080/",
          "height": 282
        },
        "outputId": "9596366d-5e0a-49a6-fd0a-fd1fd75d7124"
      },
      "source": [
        "plt.plot(flow.log_prob(x_samples))"
      ],
      "execution_count": 204,
      "outputs": [
        {
          "output_type": "execute_result",
          "data": {
            "text/plain": [
              "[<matplotlib.lines.Line2D at 0x7f505691da90>]"
            ]
          },
          "metadata": {
            "tags": []
          },
          "execution_count": 204
        },
        {
          "output_type": "display_data",
          "data": {
            "image/png": "[encoded data removed]",
            "text/plain": [
              "<Figure size 432x288 with 1 Axes>"
            ]
          },
          "metadata": {
            "tags": []
          }
        }
      ]
    },
    {
      "cell_type": "code",
      "metadata": {
        "id": "EpKxeFUD0yLD",
        "colab_type": "code",
        "colab": {
          "base_uri": "https://localhost:8080/",
          "height": 35
        },
        "outputId": "a9972704-19e0-463f-c2fd-07d210a27fe8"
      },
      "source": [
        "losses = []\n",
        "\n",
        "def loss():\n",
        "    loss = -tf.reduce_mean(flow.log_prob(target_samples))\n",
        "    losses.append(loss)\n",
        "    return loss\n",
        "\n",
        "optimizer = tf.optimizers.Adam(learning_rate=0.2)\n",
        "\n",
        "checkpoint = tf.train.Checkpoint(\n",
        "    model=flow, optimizer=optimizer, optimizer_step=optimizer.iterations\n",
        ")\n",
        "checkpoint.restore(tf.train.latest_checkpoint(\"checkpoints\"))\n",
        "\n",
        "for i in range(10000):\n",
        "    optimizer.minimize(loss, var_list=flow.trainable_variables)\n",
        "    if i % 100 == 0:\n",
        "        checkpoint.save(os.path.join(\"checkpoints\", \"ckpt\"))\n",
        "print(flow.trainable_variables)"
      ],
      "execution_count": 205,
      "outputs": [
        {
          "output_type": "stream",
          "text": [
            "(<tf.Variable 'Variable:0' shape=() dtype=float32, numpy=9.842745>, <tf.Variable 'Variable:0' shape=() dtype=float32, numpy=5.057694>)\n"
          ],
          "name": "stdout"
        }
      ]
    },
    {
      "cell_type": "code",
      "metadata": {
        "id": "R5tytxXE1bNh",
        "colab_type": "code",
        "colab": {
          "base_uri": "https://localhost:8080/",
          "height": 282
        },
        "outputId": "204c3dca-7775-4da4-a6c0-aed87776a203"
      },
      "source": [
        "plt.plot(losses)"
      ],
      "execution_count": 206,
      "outputs": [
        {
          "output_type": "execute_result",
          "data": {
            "text/plain": [
              "[<matplotlib.lines.Line2D at 0x7f5055c2c320>]"
            ]
          },
          "metadata": {
            "tags": []
          },
          "execution_count": 206
        },
        {
          "output_type": "display_data",
          "data": {
            "image/png": "[encoded data removed]",
            "text/plain": [
              "<Figure size 432x288 with 1 Axes>"
            ]
          },
          "metadata": {
            "tags": []
          }
        }
      ]
    },
    {
      "cell_type": "code",
      "metadata": {
        "id": "whWTD8ToPt-j",
        "colab_type": "code",
        "colab": {
          "base_uri": "https://localhost:8080/",
          "height": 285
        },
        "outputId": "7a1a138c-82c5-42ac-8838-e717e1287316"
      },
      "source": [
        "plt.plot(losses[10:200])\n"
      ],
      "execution_count": 207,
      "outputs": [
        {
          "output_type": "execute_result",
          "data": {
            "text/plain": [
              "[<matplotlib.lines.Line2D at 0x7f5055d0db70>]"
            ]
          },
          "metadata": {
            "tags": []
          },
          "execution_count": 207
        },
        {
          "output_type": "display_data",
          "data": {
            "image/png": "[encoded data removed]",
            "text/plain": [
              "<Figure size 432x288 with 1 Axes>"
            ]
          },
          "metadata": {
            "tags": []
          }
        }
      ]
    },
    {
      "cell_type": "code",
      "metadata": {
        "id": "bQomHXJ9PzFG",
        "colab_type": "code",
        "colab": {}
      },
      "source": [
        ""
      ],
      "execution_count": 0,
      "outputs": []
    }
  ]
}