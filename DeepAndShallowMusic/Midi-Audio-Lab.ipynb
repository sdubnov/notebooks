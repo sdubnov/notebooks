{
 "cells": [
  {
   "cell_type": "code",
   "execution_count": 30,
   "metadata": {
    "collapsed": true,
    "deletable": true,
    "editable": true
   },
   "outputs": [],
   "source": [
    "from __future__ import division\n",
    "import sys\n",
    "import argparse\n",
    "import numpy as np\n",
    "import pretty_midi\n",
    "import librosa"
   ]
  },
  {
   "cell_type": "code",
   "execution_count": 31,
   "metadata": {
    "collapsed": true,
    "deletable": true,
    "editable": true
   },
   "outputs": [],
   "source": [
    "def piano_roll_to_pretty_midi(piano_roll, fs=100, program=0):\n",
    "    '''Convert a Piano Roll array into a PrettyMidi object\n",
    "     with a single instrument.\n",
    "\n",
    "    Parameters\n",
    "    ----------\n",
    "    piano_roll : np.ndarray, shape=(128,frames), dtype=int\n",
    "        Piano roll of one instrument\n",
    "    fs : int\n",
    "        Sampling frequency of the columns, i.e. each column is spaced apart\n",
    "        by ``1./fs`` seconds.\n",
    "    program : int\n",
    "        The program number of the instrument.\n",
    "\n",
    "    Returns\n",
    "    -------\n",
    "    midi_object : pretty_midi.PrettyMIDI\n",
    "        A pretty_midi.PrettyMIDI class instance describing\n",
    "        the piano roll.\n",
    "\n",
    "    '''\n",
    "    notes, frames = piano_roll.shape\n",
    "    pm = pretty_midi.PrettyMIDI()\n",
    "    instrument = pretty_midi.Instrument(program=program)\n",
    "\n",
    "    # pad 1 column of zeros so we can acknowledge inital and ending events\n",
    "    piano_roll = np.pad(piano_roll, [(0, 0), (1, 1)], 'constant')\n",
    "\n",
    "    # use changes in velocities to find note on / note off events\n",
    "    velocity_changes = np.nonzero(np.diff(piano_roll).T)\n",
    "\n",
    "    # keep track on velocities and note on times\n",
    "    prev_velocities = np.zeros(notes, dtype=int)\n",
    "    note_on_time = np.zeros(notes)\n",
    "\n",
    "    for time, note in zip(*velocity_changes):\n",
    "        # use time + 1 because of padding above\n",
    "        velocity = piano_roll[note, time + 1]\n",
    "        time = time / fs\n",
    "        if velocity > 0:\n",
    "            if prev_velocities[note] == 0:\n",
    "                note_on_time[note] = time\n",
    "                prev_velocities[note] = velocity\n",
    "        else:\n",
    "            pm_note = pretty_midi.Note(\n",
    "                velocity=prev_velocities[note],\n",
    "                pitch=note,\n",
    "                start=note_on_time[note],\n",
    "                end=time)\n",
    "            instrument.notes.append(pm_note)\n",
    "            prev_velocities[note] = 0\n",
    "    pm.instruments.append(instrument)\n",
    "    return pm\n"
   ]
  },
  {
   "cell_type": "code",
   "execution_count": 32,
   "metadata": {
    "collapsed": true,
    "deletable": true,
    "editable": true
   },
   "outputs": [],
   "source": [
    "def cqt_to_piano_roll(cqt, min_midi, max_midi, threshold):\n",
    "    '''Convert a CQT spectrogram into a piano roll representation by\n",
    "     thresholding scaled magnitudes.\n",
    "\n",
    "    Parameters\n",
    "    ----------\n",
    "    cqt : np.ndarray, shape=(max_midi-min_midi,frames), dtype=complex64\n",
    "        CQT spectrogram of audio.\n",
    "    min_midi : int\n",
    "        Minimum MIDI note to transcribe.\n",
    "    max_midi : int\n",
    "        Maximum MIDI note to transcribe.\n",
    "    threshold : int\n",
    "        Threshold value to activate note on event, 0-127\n",
    "\n",
    "    Returns\n",
    "    -------\n",
    "    piano_roll : np.ndarray, shape=(128,frames), dtype=int\n",
    "        Piano roll representation on audio.\n",
    "\n",
    "    '''\n",
    "    piano_roll = np.abs(cqt)\n",
    "    piano_roll = np.digitize(piano_roll,\n",
    "                             np.linspace(piano_roll.min(),\n",
    "                                         piano_roll.max(),\n",
    "                                         127))\n",
    "    piano_roll[piano_roll < threshold] = 0\n",
    "    piano_roll = np.pad(piano_roll,\n",
    "                        [(128 - max_midi, min_midi), (0, 0)],\n",
    "                        'constant')\n",
    "    return piano_roll\n"
   ]
  },
  {
   "cell_type": "code",
   "execution_count": 33,
   "metadata": {
    "collapsed": false,
    "deletable": true,
    "editable": true
   },
   "outputs": [],
   "source": [
    "# Replace sample.wav with your sound file\n",
    "y, sr = librosa.load(\"sample.wav\")\n",
    "\n",
    "import matplotlib.pyplot as plt\n",
    "%matplotlib inline\n",
    "\n",
    "#plt.plot(y)"
   ]
  },
  {
   "cell_type": "code",
   "execution_count": 34,
   "metadata": {
    "collapsed": false,
    "deletable": true,
    "editable": true
   },
   "outputs": [],
   "source": [
    "#import IPython.display as ipd\n",
    "#ipd.Audio(data=y, rate=sr)"
   ]
  },
  {
   "cell_type": "code",
   "execution_count": 35,
   "metadata": {
    "collapsed": true,
    "deletable": true,
    "editable": true
   },
   "outputs": [],
   "source": [
    "# Set a threshold 0-127 to find the notes \n",
    "min_midi = 24 # Minimum MIDI note to transcribe\n",
    "max_midi = 107 # Maximum MIDI note to transcribe\n",
    "threshold = 64 # Threshold to activate note on event, 0-127\n",
    "\n",
    "cqt = librosa.cqt(y, sr=sr, fmin=min_midi, n_bins=max_midi - min_midi)"
   ]
  },
  {
   "cell_type": "code",
   "execution_count": 36,
   "metadata": {
    "collapsed": true,
    "deletable": true,
    "editable": true
   },
   "outputs": [],
   "source": [
    "# Call the appropriate function to translate cqt to piano roll\n",
    "#pr = NAME_OF_FUNCTION(cqt, min_midi, max_midi, threshold)"
   ]
  },
  {
   "cell_type": "code",
   "execution_count": 37,
   "metadata": {
    "collapsed": false,
    "deletable": true,
    "editable": true
   },
   "outputs": [],
   "source": [
    "#plt.figure(figsize=(10,20))\n",
    "#plt.imshow(pr)"
   ]
  },
  {
   "cell_type": "code",
   "execution_count": 39,
   "metadata": {
    "collapsed": true,
    "deletable": true,
    "editable": true
   },
   "outputs": [],
   "source": [
    "# get audio time\n",
    "#use len(y) to determine the number of samples is y and use sampling rate sr\n",
    "#to determine how long y lasts in seconds\n",
    "## --- WRITE YOUR EQUATION HERE\n",
    "#audio_time = "
   ]
  },
  {
   "cell_type": "code",
   "execution_count": 40,
   "metadata": {
    "collapsed": false,
    "deletable": true,
    "editable": true
   },
   "outputs": [],
   "source": [
    "# get sampling frequency for midi reconstruction from cqt spectrogram\n",
    "fs = pr.shape[1]/audio_time\n",
    "\n",
    "## --- CALL THE RIGHT FUNCTION TO TRANSLATE PIANO ROLL TO MIDI\n",
    "#pm = NAME_OF_FUNCTION(pr, fs=fs,program=0)\n",
    "pm.write(\"sample_to_midi.mid\")"
   ]
  },
  {
   "cell_type": "code",
   "execution_count": null,
   "metadata": {
    "collapsed": true
   },
   "outputs": [],
   "source": []
  }
 ],
 "metadata": {
  "kernelspec": {
   "display_name": "Python 2",
   "language": "python",
   "name": "python2"
  },
  "language_info": {
   "codemirror_mode": {
    "name": "ipython",
    "version": 2
   },
   "file_extension": ".py",
   "mimetype": "text/x-python",
   "name": "python",
   "nbconvert_exporter": "python",
   "pygments_lexer": "ipython2",
   "version": "2.7.13"
  }
 },
 "nbformat": 4,
 "nbformat_minor": 2
}
