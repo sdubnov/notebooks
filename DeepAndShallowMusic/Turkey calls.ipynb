{
 "cells": [
  {
   "cell_type": "code",
   "execution_count": 1,
   "metadata": {},
   "outputs": [],
   "source": [
    "import numpy as np\n",
    "import pandas as pd \n",
    "import os\n",
    "import seaborn as sns\n",
    "import matplotlib.pyplot as plt\n",
    "import seaborn as sns\n",
    "from tqdm import tqdm"
   ]
  },
  {
   "cell_type": "markdown",
   "metadata": {},
   "source": [
    "The data can be obtained from https://www.kaggle.com/c/dont-call-me-turkey"
   ]
  },
  {
   "cell_type": "code",
   "execution_count": 2,
   "metadata": {},
   "outputs": [
    {
     "name": "stdout",
     "output_type": "stream",
     "text": [
      "/Users/sdubnov\r\n"
     ]
    }
   ],
   "source": [
    "!pwd"
   ]
  },
  {
   "cell_type": "code",
   "execution_count": 3,
   "metadata": {},
   "outputs": [
    {
     "name": "stdout",
     "output_type": "stream",
     "text": [
      "/Users/sdubnov/Downloads\n"
     ]
    }
   ],
   "source": [
    "cd Downloads/dont-call-me-turkey/"
   ]
  },
  {
   "cell_type": "code",
   "execution_count": 5,
   "metadata": {},
   "outputs": [
    {
     "name": "stdout",
     "output_type": "stream",
     "text": [
      "model.h5              \u001b[31msample_submission.csv\u001b[m\u001b[m \u001b[31mtrain.json\u001b[m\u001b[m\r\n",
      "model.json            \u001b[31mtest.json\u001b[m\u001b[m\r\n"
     ]
    }
   ],
   "source": [
    "!ls"
   ]
  },
  {
   "cell_type": "markdown",
   "metadata": {},
   "source": [
    "Other possible pretrained embeddings: L3open, EdgeL3, YAMnet\n",
    "Can try also traditional audio features from librosa: spectrogram, melspect, mfcc"
   ]
  },
  {
   "cell_type": "code",
   "execution_count": 6,
   "metadata": {},
   "outputs": [
    {
     "name": "stderr",
     "output_type": "stream",
     "text": [
      "Using TensorFlow backend.\n"
     ]
    }
   ],
   "source": [
    "from keras import Sequential\n",
    "from keras import optimizers\n",
    "from keras.preprocessing.sequence import pad_sequences\n",
    "from keras.models import Sequential,Model\n",
    "#from keras.layers import LSTM, Dense, Bidirectional, Input,Dropout,BatchNormalization,CuDNNLSTM, GRU, CuDNNGRU, Embedding, GlobalMaxPooling1D, GlobalAveragePooling1D, Flatten\n",
    "from keras.layers import LSTM, Dense, Bidirectional, Input,Dropout,BatchNormalization,LSTM, GRU, Embedding, GlobalMaxPooling1D, GlobalAveragePooling1D, Flatten\n",
    "from keras import backend as K\n",
    "from keras.engine.topology import Layer\n",
    "from keras import initializers, regularizers, constraints\n",
    "from sklearn.model_selection import KFold, cross_val_score, train_test_split"
   ]
  },
  {
   "cell_type": "code",
   "execution_count": 7,
   "metadata": {},
   "outputs": [
    {
     "data": {
      "text/plain": [
       "(1195, 5)"
      ]
     },
     "metadata": {},
     "output_type": "display_data"
    }
   ],
   "source": [
    "train = pd.read_json('train.json')\n",
    "display(train.shape)"
   ]
  },
  {
   "cell_type": "code",
   "execution_count": 8,
   "metadata": {},
   "outputs": [
    {
     "data": {
      "text/plain": [
       "pandas.core.frame.DataFrame"
      ]
     },
     "execution_count": 8,
     "metadata": {},
     "output_type": "execute_result"
    }
   ],
   "source": [
    "type(train)"
   ]
  },
  {
   "cell_type": "code",
   "execution_count": 9,
   "metadata": {},
   "outputs": [
    {
     "data": {
      "text/html": [
       "<div>\n",
       "<style scoped>\n",
       "    .dataframe tbody tr th:only-of-type {\n",
       "        vertical-align: middle;\n",
       "    }\n",
       "\n",
       "    .dataframe tbody tr th {\n",
       "        vertical-align: top;\n",
       "    }\n",
       "\n",
       "    .dataframe thead th {\n",
       "        text-align: right;\n",
       "    }\n",
       "</style>\n",
       "<table border=\"1\" class=\"dataframe\">\n",
       "  <thead>\n",
       "    <tr style=\"text-align: right;\">\n",
       "      <th></th>\n",
       "      <th>audio_embedding</th>\n",
       "      <th>is_turkey</th>\n",
       "      <th>vid_id</th>\n",
       "      <th>end_time_seconds_youtube_clip</th>\n",
       "      <th>start_time_seconds_youtube_clip</th>\n",
       "    </tr>\n",
       "  </thead>\n",
       "  <tbody>\n",
       "    <tr>\n",
       "      <td>0</td>\n",
       "      <td>[[172, 34, 216, 110, 208, 46, 95, 66, 161, 125...</td>\n",
       "      <td>0</td>\n",
       "      <td>kDCk3hLIVXo</td>\n",
       "      <td>70</td>\n",
       "      <td>60</td>\n",
       "    </tr>\n",
       "    <tr>\n",
       "      <td>1</td>\n",
       "      <td>[[169, 20, 165, 102, 205, 62, 110, 103, 211, 1...</td>\n",
       "      <td>1</td>\n",
       "      <td>DPcGzqHoo7Y</td>\n",
       "      <td>40</td>\n",
       "      <td>30</td>\n",
       "    </tr>\n",
       "    <tr>\n",
       "      <td>2</td>\n",
       "      <td>[[148, 8, 138, 60, 237, 48, 121, 108, 145, 177...</td>\n",
       "      <td>1</td>\n",
       "      <td>7yM63MTHh5k</td>\n",
       "      <td>240</td>\n",
       "      <td>230</td>\n",
       "    </tr>\n",
       "    <tr>\n",
       "      <td>3</td>\n",
       "      <td>[[151, 0, 162, 88, 171, 71, 47, 90, 179, 190, ...</td>\n",
       "      <td>1</td>\n",
       "      <td>luG3RmUAxxM</td>\n",
       "      <td>520</td>\n",
       "      <td>510</td>\n",
       "    </tr>\n",
       "    <tr>\n",
       "      <td>4</td>\n",
       "      <td>[[162, 17, 187, 111, 211, 105, 92, 67, 203, 15...</td>\n",
       "      <td>0</td>\n",
       "      <td>PIm3cjxTpOk</td>\n",
       "      <td>10</td>\n",
       "      <td>0</td>\n",
       "    </tr>\n",
       "  </tbody>\n",
       "</table>\n",
       "</div>"
      ],
      "text/plain": [
       "                                     audio_embedding  is_turkey       vid_id  \\\n",
       "0  [[172, 34, 216, 110, 208, 46, 95, 66, 161, 125...          0  kDCk3hLIVXo   \n",
       "1  [[169, 20, 165, 102, 205, 62, 110, 103, 211, 1...          1  DPcGzqHoo7Y   \n",
       "2  [[148, 8, 138, 60, 237, 48, 121, 108, 145, 177...          1  7yM63MTHh5k   \n",
       "3  [[151, 0, 162, 88, 171, 71, 47, 90, 179, 190, ...          1  luG3RmUAxxM   \n",
       "4  [[162, 17, 187, 111, 211, 105, 92, 67, 203, 15...          0  PIm3cjxTpOk   \n",
       "\n",
       "   end_time_seconds_youtube_clip  start_time_seconds_youtube_clip  \n",
       "0                             70                               60  \n",
       "1                             40                               30  \n",
       "2                            240                              230  \n",
       "3                            520                              510  \n",
       "4                             10                                0  "
      ]
     },
     "execution_count": 9,
     "metadata": {},
     "output_type": "execute_result"
    }
   ],
   "source": [
    "train.head()"
   ]
  },
  {
   "cell_type": "code",
   "execution_count": 10,
   "metadata": {},
   "outputs": [],
   "source": [
    "train_train, train_val = train_test_split(train, random_state = 42)\n",
    "xtrain = [k for k in train_train['audio_embedding']]\n",
    "ytrain = train_train['is_turkey'].values\n",
    "xval = [k for k in train_val['audio_embedding']]\n",
    "yval = train_val['is_turkey'].values"
   ]
  },
  {
   "cell_type": "code",
   "execution_count": 12,
   "metadata": {},
   "outputs": [],
   "source": [
    "x_train = pad_sequences(xtrain)\n",
    "x_val = pad_sequences(xval, maxlen=10)\n",
    "y_train = np.asarray(ytrain)\n",
    "y_val = np.asarray(yval)"
   ]
  },
  {
   "cell_type": "code",
   "execution_count": 13,
   "metadata": {},
   "outputs": [
    {
     "data": {
      "text/plain": [
       "(10, 128)"
      ]
     },
     "execution_count": 13,
     "metadata": {},
     "output_type": "execute_result"
    }
   ],
   "source": [
    "mat = x_train[2]\n",
    "type(x_train)\n",
    "x_train[1].shape"
   ]
  },
  {
   "cell_type": "code",
   "execution_count": 14,
   "metadata": {},
   "outputs": [
    {
     "data": {
      "text/plain": [
       "<matplotlib.image.AxesImage at 0x1a3676d9e8>"
      ]
     },
     "execution_count": 14,
     "metadata": {},
     "output_type": "execute_result"
    },
    {
     "data": {
      "image/png": "[encoded data removed]",
      "text/plain": [
       "<Figure size 144x288 with 1 Axes>"
      ]
     },
     "metadata": {
      "needs_background": "light"
     },
     "output_type": "display_data"
    }
   ],
   "source": [
    "plt.figure(figsize=(2,4))\n",
    "plt.imshow(mat.T)"
   ]
  },
  {
   "cell_type": "code",
   "execution_count": 15,
   "metadata": {},
   "outputs": [
    {
     "name": "stderr",
     "output_type": "stream",
     "text": [
      "WARNING: Logging before flag parsing goes to stderr.\n",
      "W0412 11:02:45.318011 140735614509952 deprecation.py:506] From /anaconda2/envs/Python37/lib/python3.7/site-packages/tensorflow_core/python/ops/resource_variable_ops.py:1630: calling BaseResourceVariable.__init__ (from tensorflow.python.ops.resource_variable_ops) with constraint is deprecated and will be removed in a future version.\n",
      "Instructions for updating:\n",
      "If using Keras pass *_constraint arguments to layers.\n",
      "W0412 11:02:46.091561 140735614509952 deprecation.py:323] From /anaconda2/envs/Python37/lib/python3.7/site-packages/tensorflow_core/python/ops/nn_impl.py:183: where (from tensorflow.python.ops.array_ops) is deprecated and will be removed in a future version.\n",
      "Instructions for updating:\n",
      "Use tf.where in 2.0, which has the same broadcast rule as np.where\n"
     ]
    },
    {
     "name": "stdout",
     "output_type": "stream",
     "text": [
      "Model: \"sequential_1\"\n",
      "_________________________________________________________________\n",
      "Layer (type)                 Output Shape              Param #   \n",
      "=================================================================\n",
      "batch_normalization_1 (Batch (None, 10, 128)           512       \n",
      "_________________________________________________________________\n",
      "bidirectional_1 (Bidirection (None, 10, 256)           197376    \n",
      "_________________________________________________________________\n",
      "bidirectional_2 (Bidirection (None, 10, 128)           123264    \n",
      "_________________________________________________________________\n",
      "flatten_1 (Flatten)          (None, 1280)              0         \n",
      "_________________________________________________________________\n",
      "dense_1 (Dense)              (None, 1)                 1281      \n",
      "=================================================================\n",
      "Total params: 322,433\n",
      "Trainable params: 322,177\n",
      "Non-trainable params: 256\n",
      "_________________________________________________________________\n",
      "None\n"
     ]
    }
   ],
   "source": [
    "model = Sequential()\n",
    "model.add(BatchNormalization(momentum=0.98,input_shape=(10, 128)))\n",
    "#model.add(Bidirectional(CuDNNGRU(128, return_sequences = True)))\n",
    "model.add(Bidirectional(GRU(128, return_sequences = True)))\n",
    "model.add(Bidirectional(GRU(64, return_sequences = True)))\n",
    "model.add(Flatten())\n",
    "model.add(Dense(1,activation='sigmoid'))\n",
    "model.compile(loss='binary_crossentropy', optimizer = optimizers.Nadam(lr=0.001), metrics=['accuracy'])\n",
    "print(model.summary())"
   ]
  },
  {
   "cell_type": "code",
   "execution_count": 16,
   "metadata": {},
   "outputs": [],
   "source": [
    "Winit = model.get_weights()"
   ]
  },
  {
   "cell_type": "code",
   "execution_count": 17,
   "metadata": {},
   "outputs": [
    {
     "name": "stdout",
     "output_type": "stream",
     "text": [
      "Saved model to disk\n"
     ]
    }
   ],
   "source": [
    "# serialize model to JSON\n",
    "model_json = model.to_json()\n",
    "with open(\"model.json\", \"w\") as json_file:\n",
    "    json_file.write(model_json)\n",
    "# serialize weights to HDF5\n",
    "model.save_weights(\"model.h5\")\n",
    "print(\"Saved model to disk\")"
   ]
  },
  {
   "cell_type": "code",
   "execution_count": 18,
   "metadata": {},
   "outputs": [
    {
     "name": "stderr",
     "output_type": "stream",
     "text": [
      "W0412 11:02:48.297266 140735614509952 module_wrapper.py:139] From /anaconda2/envs/Python37/lib/python3.7/site-packages/keras/backend/tensorflow_backend.py:422: The name tf.global_variables is deprecated. Please use tf.compat.v1.global_variables instead.\n",
      "\n"
     ]
    },
    {
     "name": "stdout",
     "output_type": "stream",
     "text": [
      "Train on 896 samples, validate on 299 samples\n",
      "Epoch 1/16\n",
      " - 2s - loss: 0.5552 - accuracy: 0.7355 - val_loss: 0.4800 - val_accuracy: 0.8629\n",
      "Epoch 2/16\n",
      " - 0s - loss: 0.2858 - accuracy: 0.9319 - val_loss: 0.3908 - val_accuracy: 0.8997\n",
      "Epoch 3/16\n",
      " - 0s - loss: 0.1970 - accuracy: 0.9509 - val_loss: 0.3250 - val_accuracy: 0.9097\n",
      "Epoch 4/16\n",
      " - 0s - loss: 0.1489 - accuracy: 0.9531 - val_loss: 0.2765 - val_accuracy: 0.9130\n",
      "Epoch 5/16\n",
      " - 0s - loss: 0.1224 - accuracy: 0.9609 - val_loss: 0.2474 - val_accuracy: 0.9197\n",
      "Epoch 6/16\n",
      " - 0s - loss: 0.1036 - accuracy: 0.9676 - val_loss: 0.2298 - val_accuracy: 0.9097\n",
      "Epoch 7/16\n",
      " - 0s - loss: 0.0924 - accuracy: 0.9643 - val_loss: 0.2274 - val_accuracy: 0.9130\n",
      "Epoch 8/16\n",
      " - 0s - loss: 0.0799 - accuracy: 0.9754 - val_loss: 0.1942 - val_accuracy: 0.9197\n",
      "Epoch 9/16\n",
      " - 0s - loss: 0.0691 - accuracy: 0.9788 - val_loss: 0.2081 - val_accuracy: 0.9030\n",
      "Epoch 10/16\n",
      " - 0s - loss: 0.0562 - accuracy: 0.9833 - val_loss: 0.2074 - val_accuracy: 0.9064\n",
      "Epoch 11/16\n",
      " - 0s - loss: 0.0456 - accuracy: 0.9877 - val_loss: 0.2234 - val_accuracy: 0.8930\n",
      "Epoch 12/16\n",
      " - 0s - loss: 0.0367 - accuracy: 0.9933 - val_loss: 0.2600 - val_accuracy: 0.8662\n",
      "Epoch 13/16\n",
      " - 0s - loss: 0.0328 - accuracy: 0.9888 - val_loss: 0.2191 - val_accuracy: 0.8896\n",
      "Epoch 14/16\n",
      " - 0s - loss: 0.0292 - accuracy: 0.9944 - val_loss: 0.2236 - val_accuracy: 0.8829\n",
      "Epoch 15/16\n",
      " - 0s - loss: 0.0180 - accuracy: 0.9989 - val_loss: 0.3187 - val_accuracy: 0.8495\n",
      "Epoch 16/16\n",
      " - 0s - loss: 0.0129 - accuracy: 1.0000 - val_loss: 0.3143 - val_accuracy: 0.8528\n"
     ]
    }
   ],
   "source": [
    "#fit on a portion of the training data, and validate on the rest\n",
    "history = model.fit(x_train, y_train,batch_size=512, epochs=16, validation_data=[x_val, y_val],verbose = 2)"
   ]
  },
  {
   "cell_type": "code",
   "execution_count": 19,
   "metadata": {},
   "outputs": [
    {
     "data": {
      "text/plain": [
       "dict_keys(['val_loss', 'val_accuracy', 'loss', 'accuracy'])"
      ]
     },
     "execution_count": 19,
     "metadata": {},
     "output_type": "execute_result"
    }
   ],
   "source": [
    "history_dict=history.history\n",
    "history_dict.keys()"
   ]
  },
  {
   "cell_type": "code",
   "execution_count": 20,
   "metadata": {},
   "outputs": [],
   "source": [
    "def plot_history(history):\n",
    "    history_dict=history.history\n",
    "    history_dict.keys()\n",
    "    loss_values = history_dict['loss']\n",
    "    val_loss_values = history_dict['val_loss']\n",
    "    epochs = range(1, len(loss_values) + 1)\n",
    "    # \"bo\" is for \"blue dot\"\n",
    "    plt.plot(epochs, loss_values, '-bo')\n",
    "    # b+ is for \"blue crosses\"\n",
    "    plt.plot(epochs, val_loss_values, '-b+')\n",
    "    plt.xlabel('Epochs')\n",
    "    plt.ylabel('Loss')\n",
    "    plt.figure()\n",
    "    acc_values = history_dict['accuracy']\n",
    "    val_acc_values = history_dict['val_accuracy']\n",
    "    plt.plot(epochs, acc_values, '-bo')\n",
    "    plt.plot(epochs, val_acc_values, '-b+')\n",
    "    plt.xlabel('Epochs')\n",
    "    plt.ylabel('Accuracy')"
   ]
  },
  {
   "cell_type": "code",
   "execution_count": 21,
   "metadata": {},
   "outputs": [
    {
     "data": {
      "image/png": "[encoded data removed]",
      "text/plain": [
       "<Figure size 432x288 with 1 Axes>"
      ]
     },
     "metadata": {
      "needs_background": "light"
     },
     "output_type": "display_data"
    },
    {
     "data": {
      "image/png": "[encoded data removed]",
      "text/plain": [
       "<Figure size 432x288 with 1 Axes>"
      ]
     },
     "metadata": {
      "needs_background": "light"
     },
     "output_type": "display_data"
    }
   ],
   "source": [
    "plot_history(history)"
   ]
  },
  {
   "cell_type": "code",
   "execution_count": 22,
   "metadata": {},
   "outputs": [],
   "source": [
    "if 0:\n",
    "    # load json and create model\n",
    "    json_file = open('model.json', 'r')\n",
    "    loaded_model_json = json_file.read()\n",
    "    json_file.close()\n",
    "    loaded_model = model_from_json(loaded_model_json)\n",
    "    # load weights into new model\n",
    "    loaded_model.load_weights(\"model.h5\")\n",
    "    print(\"Loaded model from disk\")\n"
   ]
  },
  {
   "cell_type": "markdown",
   "metadata": {},
   "source": [
    "### Early Stopping "
   ]
  },
  {
   "cell_type": "code",
   "execution_count": 23,
   "metadata": {},
   "outputs": [],
   "source": [
    "model.set_weights(Winit)"
   ]
  },
  {
   "cell_type": "code",
   "execution_count": 25,
   "metadata": {},
   "outputs": [
    {
     "name": "stdout",
     "output_type": "stream",
     "text": [
      "Train on 896 samples, validate on 299 samples\n",
      "Epoch 1/16\n",
      " - 0s - loss: 0.5130 - accuracy: 0.7400 - val_loss: 0.4170 - val_accuracy: 0.8896\n",
      "Epoch 2/16\n",
      " - 0s - loss: 0.2080 - accuracy: 0.9397 - val_loss: 0.3197 - val_accuracy: 0.9130\n",
      "Epoch 3/16\n",
      " - 0s - loss: 0.1403 - accuracy: 0.9587 - val_loss: 0.2695 - val_accuracy: 0.9197\n",
      "Epoch 4/16\n",
      " - 0s - loss: 0.1124 - accuracy: 0.9665 - val_loss: 0.2472 - val_accuracy: 0.9064\n",
      "Epoch 5/16\n",
      " - 0s - loss: 0.0953 - accuracy: 0.9654 - val_loss: 0.2332 - val_accuracy: 0.9164\n",
      "Epoch 6/16\n",
      " - 0s - loss: 0.0772 - accuracy: 0.9766 - val_loss: 0.2167 - val_accuracy: 0.9130\n",
      "Epoch 7/16\n",
      " - 0s - loss: 0.0693 - accuracy: 0.9743 - val_loss: 0.2444 - val_accuracy: 0.8763\n",
      "Epoch 8/16\n",
      " - 0s - loss: 0.0526 - accuracy: 0.9855 - val_loss: 0.2127 - val_accuracy: 0.8963\n",
      "Epoch 9/16\n",
      " - 0s - loss: 0.0409 - accuracy: 0.9900 - val_loss: 0.2568 - val_accuracy: 0.8595\n",
      "Epoch 10/16\n",
      " - 0s - loss: 0.0318 - accuracy: 0.9933 - val_loss: 0.2587 - val_accuracy: 0.8662\n",
      "Epoch 11/16\n",
      " - 0s - loss: 0.0247 - accuracy: 0.9944 - val_loss: 0.2884 - val_accuracy: 0.8495\n",
      "Restoring model weights from the end of the best epoch\n",
      "Epoch 00011: early stopping\n"
     ]
    }
   ],
   "source": [
    "from keras.callbacks import EarlyStopping, ModelCheckpoint, ReduceLROnPlateau\n",
    "early_stop = EarlyStopping(monitor='val_loss', verbose=1, patience=3,  restore_best_weights=True)\n",
    "\n",
    "history = model.fit(x_train, y_train,batch_size=512, epochs=16, validation_data=[x_val, y_val],verbose = 2,callbacks=[early_stop])"
   ]
  },
  {
   "cell_type": "code",
   "execution_count": 26,
   "metadata": {},
   "outputs": [
    {
     "data": {
      "image/png": "[encoded data removed]",
      "text/plain": [
       "<Figure size 432x288 with 1 Axes>"
      ]
     },
     "metadata": {
      "needs_background": "light"
     },
     "output_type": "display_data"
    },
    {
     "data": {
      "image/png": "[encoded data removed]",
      "text/plain": [
       "<Figure size 432x288 with 1 Axes>"
      ]
     },
     "metadata": {
      "needs_background": "light"
     },
     "output_type": "display_data"
    }
   ],
   "source": [
    "plot_history(history)"
   ]
  },
  {
   "cell_type": "markdown",
   "metadata": {},
   "source": [
    "### Reduce Learning Rate"
   ]
  },
  {
   "cell_type": "code",
   "execution_count": 27,
   "metadata": {},
   "outputs": [],
   "source": [
    "model.set_weights(Winit)"
   ]
  },
  {
   "cell_type": "code",
   "execution_count": 28,
   "metadata": {},
   "outputs": [
    {
     "name": "stdout",
     "output_type": "stream",
     "text": [
      "Train on 896 samples, validate on 299 samples\n",
      "Epoch 1/16\n",
      " - 0s - loss: 0.5073 - accuracy: 0.7556 - val_loss: 0.4052 - val_accuracy: 0.8963\n",
      "Epoch 2/16\n",
      " - 0s - loss: 0.1996 - accuracy: 0.9431 - val_loss: 0.3081 - val_accuracy: 0.9097\n",
      "Epoch 3/16\n",
      " - 0s - loss: 0.1346 - accuracy: 0.9576 - val_loss: 0.2626 - val_accuracy: 0.9197\n",
      "Epoch 4/16\n",
      " - 0s - loss: 0.1060 - accuracy: 0.9609 - val_loss: 0.2486 - val_accuracy: 0.8997\n",
      "Epoch 5/16\n",
      " - 0s - loss: 0.0866 - accuracy: 0.9710 - val_loss: 0.2276 - val_accuracy: 0.9097\n",
      "\n",
      "Epoch 00005: ReduceLROnPlateau reducing learning rate to 0.00010000000474974513.\n",
      "Epoch 6/16\n",
      " - 0s - loss: 0.0716 - accuracy: 0.9777 - val_loss: 0.2216 - val_accuracy: 0.9097\n",
      "Epoch 7/16\n",
      " - 0s - loss: 0.0696 - accuracy: 0.9777 - val_loss: 0.2171 - val_accuracy: 0.9097\n",
      "\n",
      "Epoch 00007: ReduceLROnPlateau reducing learning rate to 1.0000000474974514e-05.\n",
      "Epoch 8/16\n",
      " - 0s - loss: 0.0682 - accuracy: 0.9777 - val_loss: 0.2127 - val_accuracy: 0.9064\n",
      "Epoch 9/16\n",
      " - 0s - loss: 0.0683 - accuracy: 0.9777 - val_loss: 0.2090 - val_accuracy: 0.9064\n",
      "\n",
      "Epoch 00009: ReduceLROnPlateau reducing learning rate to 1.0000000656873453e-06.\n",
      "Epoch 10/16\n",
      " - 0s - loss: 0.0718 - accuracy: 0.9743 - val_loss: 0.2058 - val_accuracy: 0.9097\n",
      "Epoch 11/16\n",
      " - 0s - loss: 0.0692 - accuracy: 0.9799 - val_loss: 0.2031 - val_accuracy: 0.9097\n",
      "\n",
      "Epoch 00011: ReduceLROnPlateau reducing learning rate to 1.0000001111620805e-07.\n",
      "Epoch 12/16\n",
      " - 0s - loss: 0.0684 - accuracy: 0.9810 - val_loss: 0.2009 - val_accuracy: 0.9097\n",
      "Epoch 13/16\n",
      " - 0s - loss: 0.0701 - accuracy: 0.9777 - val_loss: 0.1990 - val_accuracy: 0.9064\n",
      "\n",
      "Epoch 00013: ReduceLROnPlateau reducing learning rate to 1.000000082740371e-08.\n",
      "Epoch 14/16\n",
      " - 0s - loss: 0.0674 - accuracy: 0.9788 - val_loss: 0.1975 - val_accuracy: 0.9064\n",
      "Epoch 15/16\n",
      " - 0s - loss: 0.0681 - accuracy: 0.9777 - val_loss: 0.1962 - val_accuracy: 0.9064\n",
      "\n",
      "Epoch 00015: ReduceLROnPlateau reducing learning rate to 1e-08.\n",
      "Epoch 16/16\n",
      " - 0s - loss: 0.0681 - accuracy: 0.9799 - val_loss: 0.1952 - val_accuracy: 0.9030\n"
     ]
    }
   ],
   "source": [
    "#early_stop = EarlyStopping(monitor='val_loss', verbose=1, patience=3,  restore_best_weights=True)\n",
    "reduce_lr = ReduceLROnPlateau(monitor='val_accuracy', factor=0.1, patience=2, verbose=1, min_lr=1e-8)\n",
    "\n",
    "history = model.fit(x_train, y_train,batch_size=512, epochs=16, validation_data=[x_val, y_val],verbose = 2,callbacks=[reduce_lr,early_stop])"
   ]
  },
  {
   "cell_type": "code",
   "execution_count": 29,
   "metadata": {},
   "outputs": [
    {
     "data": {
      "image/png": "[encoded data removed]",
      "text/plain": [
       "<Figure size 432x288 with 1 Axes>"
      ]
     },
     "metadata": {
      "needs_background": "light"
     },
     "output_type": "display_data"
    },
    {
     "data": {
      "image/png": "[encoded data removed]",
      "text/plain": [
       "<Figure size 432x288 with 1 Axes>"
      ]
     },
     "metadata": {
      "needs_background": "light"
     },
     "output_type": "display_data"
    }
   ],
   "source": [
    "plot_history(history)"
   ]
  },
  {
   "cell_type": "markdown",
   "metadata": {},
   "source": [
    "### ROC"
   ]
  },
  {
   "cell_type": "code",
   "execution_count": 141,
   "metadata": {},
   "outputs": [],
   "source": [
    "from sklearn.metrics import roc_curve\n",
    "y_pred = model.predict(x_val).ravel()\n",
    "fpr, tpr, thresholds = roc_curve(yval, y_pred)"
   ]
  },
  {
   "cell_type": "code",
   "execution_count": 142,
   "metadata": {},
   "outputs": [
    {
     "name": "stderr",
     "output_type": "stream",
     "text": [
      "W0412 17:27:28.172221 140735614509952 legend.py:1282] No handles with labels found to put in legend.\n"
     ]
    },
    {
     "data": {
      "text/plain": [
       "<matplotlib.legend.Legend at 0x1a393fc8d0>"
      ]
     },
     "execution_count": 142,
     "metadata": {},
     "output_type": "execute_result"
    },
    {
     "data": {
      "image/png": "[encoded data removed]",
      "text/plain": [
       "<Figure size 432x288 with 1 Axes>"
      ]
     },
     "metadata": {
      "needs_background": "light"
     },
     "output_type": "display_data"
    }
   ],
   "source": [
    "plt.plot([0, 1], [0, 1], 'k--')\n",
    "plt.plot(fpr, tpr) # label='Keras (area = {:.3f})'.format(auc_keras))\n",
    "#plt.plot(fpr_rf, tpr_rf, label='RF (area = {:.3f})'.format(auc_rf))\n",
    "plt.xlabel('False positive rate')\n",
    "plt.ylabel('True positive rate')\n",
    "plt.title('ROC curve')\n",
    "plt.legend(loc='best')"
   ]
  },
  {
   "cell_type": "code",
   "execution_count": 166,
   "metadata": {},
   "outputs": [
    {
     "name": "stdout",
     "output_type": "stream",
     "text": [
      "For threshold 0.33313876 we get: tpr:  0.9225352112676056 fpr:  0.05732484076433121\n"
     ]
    },
    {
     "data": {
      "image/png": "[encoded data removed]",
      "text/plain": [
       "<Figure size 432x288 with 1 Axes>"
      ]
     },
     "metadata": {
      "needs_background": "light"
     },
     "output_type": "display_data"
    }
   ],
   "source": [
    "ind = [i for i, val in enumerate(tpr) if val>0.5] \n",
    "plt.plot(thresholds[ind],tpr[ind])\n",
    "#plt.plot(fpr_rf, tpr_rf, label='RF (area = {:.3f})'.format(auc_rf))\n",
    "plt.xlabel('Threshold')\n",
    "plt.ylabel('True positive rate')\n",
    "plt.grid(b=True)\n",
    "\n",
    "tpr_percentage = 0.90\n",
    "indval = [i for i, val in enumerate(tpr) if val>=tpr_percentage]\n",
    "print(\"For threshold\", thresholds[indval[0]], \"we get: tpr: \",tpr[indval[0]], \"fpr: \", fpr[indval[0]])\n",
    "threshold_percentage = thresholds[indval[0]]"
   ]
  },
  {
   "cell_type": "code",
   "execution_count": 174,
   "metadata": {},
   "outputs": [
    {
     "name": "stdout",
     "output_type": "stream",
     "text": [
      "Confusion Matrix: \n",
      "  [[148   9]\n",
      " [ 11 131]]\n",
      "tpr from Confusion Matrix: 0.9225352112676056\n"
     ]
    }
   ],
   "source": [
    "#jdemonstrate the concept of tpr in terms of confusion matrix\n",
    "from sklearn.metrics import confusion_matrix\n",
    "yres = np.zeros(np.shape(yval))\n",
    "yind = [i for i, res in enumerate(y_pred) if res >= threshold_percentage]\n",
    "yres[yind] = 1\n",
    "conf_mat = confusion_matrix(yval, yres)\n",
    "tn, fp, fn, tp = conf_mat.ravel()\n",
    "print(\"Confusion Matrix: \\n \", conf_mat)\n",
    "print(\"tpr from Confusion Matrix:\", tp/(tp+fn))"
   ]
  },
  {
   "attachments": {
    "1_6Vy8J9kL_iXZeAh5KrZgCw.png": {
     "image/png": "[encoded data removed]"
    }
   },
   "cell_type": "markdown",
   "metadata": {},
   "source": [
    "#### About differences between accuracy and ROC check \n",
    "\n",
    "![1_6Vy8J9kL_iXZeAh5KrZgCw.png](attachment:1_6Vy8J9kL_iXZeAh5KrZgCw.png)\n",
    "\n",
    "\n",
    "https://towardsdatascience.com/understanding-data-science-classification-metrics-in-scikit-learn-in-python-3bc336865019"
   ]
  },
  {
   "cell_type": "markdown",
   "metadata": {},
   "source": [
    "### Classifier with alternative threshold"
   ]
  },
  {
   "cell_type": "code",
   "execution_count": 81,
   "metadata": {},
   "outputs": [
    {
     "data": {
      "text/html": [
       "<div>\n",
       "<style scoped>\n",
       "    .dataframe tbody tr th:only-of-type {\n",
       "        vertical-align: middle;\n",
       "    }\n",
       "\n",
       "    .dataframe tbody tr th {\n",
       "        vertical-align: top;\n",
       "    }\n",
       "\n",
       "    .dataframe thead th {\n",
       "        text-align: right;\n",
       "    }\n",
       "</style>\n",
       "<table border=\"1\" class=\"dataframe\">\n",
       "  <thead>\n",
       "    <tr style=\"text-align: right;\">\n",
       "      <th></th>\n",
       "      <th>audio_embedding</th>\n",
       "      <th>vid_id</th>\n",
       "      <th>end_time_seconds_youtube_clip</th>\n",
       "      <th>start_time_seconds_youtube_clip</th>\n",
       "    </tr>\n",
       "  </thead>\n",
       "  <tbody>\n",
       "    <tr>\n",
       "      <td>0</td>\n",
       "      <td>[[177, 20, 226, 132, 198, 81, 111, 59, 132, 18...</td>\n",
       "      <td>pyKh38FXD3E</td>\n",
       "      <td>10</td>\n",
       "      <td>0</td>\n",
       "    </tr>\n",
       "    <tr>\n",
       "      <td>1</td>\n",
       "      <td>[[169, 21, 204, 161, 195, 72, 60, 39, 152, 184...</td>\n",
       "      <td>THhP1idrWXA</td>\n",
       "      <td>40</td>\n",
       "      <td>30</td>\n",
       "    </tr>\n",
       "    <tr>\n",
       "      <td>2</td>\n",
       "      <td>[[165, 13, 198, 141, 199, 81, 173, 54, 119, 11...</td>\n",
       "      <td>jsw3T6GY2Nw</td>\n",
       "      <td>40</td>\n",
       "      <td>30</td>\n",
       "    </tr>\n",
       "    <tr>\n",
       "      <td>3</td>\n",
       "      <td>[[167, 18, 188, 159, 198, 63, 156, 36, 179, 22...</td>\n",
       "      <td>nFkXTMHcjMU</td>\n",
       "      <td>24</td>\n",
       "      <td>14</td>\n",
       "    </tr>\n",
       "    <tr>\n",
       "      <td>4</td>\n",
       "      <td>[[178, 32, 181, 100, 198, 46, 82, 83, 136, 227...</td>\n",
       "      <td>Au8g9kAlrLQ</td>\n",
       "      <td>40</td>\n",
       "      <td>30</td>\n",
       "    </tr>\n",
       "  </tbody>\n",
       "</table>\n",
       "</div>"
      ],
      "text/plain": [
       "                                     audio_embedding       vid_id  \\\n",
       "0  [[177, 20, 226, 132, 198, 81, 111, 59, 132, 18...  pyKh38FXD3E   \n",
       "1  [[169, 21, 204, 161, 195, 72, 60, 39, 152, 184...  THhP1idrWXA   \n",
       "2  [[165, 13, 198, 141, 199, 81, 173, 54, 119, 11...  jsw3T6GY2Nw   \n",
       "3  [[167, 18, 188, 159, 198, 63, 156, 36, 179, 22...  nFkXTMHcjMU   \n",
       "4  [[178, 32, 181, 100, 198, 46, 82, 83, 136, 227...  Au8g9kAlrLQ   \n",
       "\n",
       "   end_time_seconds_youtube_clip  start_time_seconds_youtube_clip  \n",
       "0                             10                                0  \n",
       "1                             40                               30  \n",
       "2                             40                               30  \n",
       "3                             24                               14  \n",
       "4                             40                               30  "
      ]
     },
     "execution_count": 81,
     "metadata": {},
     "output_type": "execute_result"
    }
   ],
   "source": [
    "test = pd.read_json('test.json')\n",
    "test.head()"
   ]
  },
  {
   "cell_type": "code",
   "execution_count": 116,
   "metadata": {},
   "outputs": [],
   "source": [
    "xtest = [k for k in test['audio_embedding']]\n",
    "x_test = pad_sequences(xtest)"
   ]
  },
  {
   "cell_type": "code",
   "execution_count": 106,
   "metadata": {},
   "outputs": [
    {
     "data": {
      "text/plain": [
       "array([0.00334969], dtype=float32)"
      ]
     },
     "execution_count": 106,
     "metadata": {},
     "output_type": "execute_result"
    }
   ],
   "source": [
    "results = model.predict(np.array(x_test))\n",
    "results[0]"
   ]
  },
  {
   "cell_type": "code",
   "execution_count": 126,
   "metadata": {},
   "outputs": [
    {
     "name": "stdout",
     "output_type": "stream",
     "text": [
      "0 : Don't call me turkey\n",
      "1 : Don't call me turkey\n",
      "2 : Don't call me turkey\n",
      "3 : Don't call me turkey\n",
      "4 : Call me turkey\n",
      "5 : Don't call me turkey\n",
      "6 : Don't call me turkey\n",
      "7 : Don't call me turkey\n",
      "8 : Call me turkey\n",
      "9 : Call me turkey\n"
     ]
    }
   ],
   "source": [
    "#yres = [1 for i, res in enumerate(results) if res > threshold_percentage]\n",
    "\n",
    "for i, res in enumerate(results[0:10]):\n",
    "    if res > threshold_percentage:\n",
    "        print(i, ': Call me turkey')\n",
    "    else:\n",
    "        print(i, ': Don\\'t call me turkey')\n",
    "        "
   ]
  },
  {
   "cell_type": "markdown",
   "metadata": {},
   "source": [
    "### Inspecting individual layers"
   ]
  },
  {
   "cell_type": "code",
   "execution_count": null,
   "metadata": {},
   "outputs": [],
   "source": [
    "layer_names=[layer.name for layer in model.layers]"
   ]
  },
  {
   "cell_type": "code",
   "execution_count": null,
   "metadata": {},
   "outputs": [],
   "source": [
    "print(layer_names)"
   ]
  },
  {
   "cell_type": "code",
   "execution_count": null,
   "metadata": {},
   "outputs": [],
   "source": [
    "layer_name = 'bidirectional_2'\n",
    "intermediate_layer_model = Model(inputs=model.input,\n",
    "                                 outputs=model.get_layer(layer_name).output)\n",
    "intermediate_output = intermediate_layer_model.predict(x_train)"
   ]
  },
  {
   "cell_type": "code",
   "execution_count": null,
   "metadata": {},
   "outputs": [],
   "source": [
    "mat_GRU=intermediate_output[2]\n",
    "mat_GRU.shape"
   ]
  },
  {
   "cell_type": "code",
   "execution_count": null,
   "metadata": {},
   "outputs": [],
   "source": [
    "plt.subplot(221)\n",
    "plt.imshow(mat.T)\n",
    "plt.subplot(222)\n",
    "plt.imshow(mat_GRU.T)"
   ]
  },
  {
   "cell_type": "code",
   "execution_count": null,
   "metadata": {},
   "outputs": [],
   "source": []
  }
 ],
 "metadata": {
  "kernelspec": {
   "display_name": "Python 3",
   "language": "python",
   "name": "python3"
  },
  "language_info": {
   "codemirror_mode": {
    "name": "ipython",
    "version": 3
   },
   "file_extension": ".py",
   "mimetype": "text/x-python",
   "name": "python",
   "nbconvert_exporter": "python",
   "pygments_lexer": "ipython3",
   "version": "3.7.3"
  }
 },
 "nbformat": 4,
 "nbformat_minor": 2
}
