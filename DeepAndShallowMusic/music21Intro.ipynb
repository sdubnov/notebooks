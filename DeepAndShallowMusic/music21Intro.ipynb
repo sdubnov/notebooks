{
 "cells": [
  {
   "cell_type": "code",
   "execution_count": 1,
   "metadata": {
    "collapsed": true,
    "deletable": true,
    "editable": true
   },
   "outputs": [],
   "source": [
    "import music21 as mus"
   ]
  },
  {
   "cell_type": "code",
   "execution_count": 2,
   "metadata": {
    "collapsed": true,
    "deletable": true,
    "editable": true
   },
   "outputs": [],
   "source": [
    "tnc = mus.converter.parse('tinynotation: 3/4 E4 r f# g4 trip{b-8 a g} c4 ~c)')"
   ]
  },
  {
   "cell_type": "code",
   "execution_count": 3,
   "metadata": {
    "collapsed": false,
    "deletable": true,
    "editable": true
   },
   "outputs": [
    {
     "data": {
      "image/png": "[encoded data removed]",
      "text/plain": [
       "<music21.ipython21.objects.IPythonPNGObject at 0x10fe17290>"
      ]
     },
     "execution_count": 3,
     "metadata": {},
     "output_type": "execute_result"
    }
   ],
   "source": [
    "tnc.show()"
   ]
  },
  {
   "cell_type": "code",
   "execution_count": 4,
   "metadata": {
    "collapsed": false,
    "deletable": true,
    "editable": true
   },
   "outputs": [
    {
     "data": {
      "text/html": [
       "\n",
       "                <div id='midiPlayerDiv427'></div>\n",
       "                <link rel=\"stylesheet\" href=\"http://artusi.xyz/music21j/css/m21.css\" \n",
       "                    type=\"text/css\" />\n",
       "                <script>\n",
       "                require.config({\n",
       "                    paths: {'music21': 'http://artusi.xyz/music21j/src/music21'} \n",
       "                }); \n",
       "                require(['music21'], function() { \n",
       "                               mp = new music21.miditools.MidiPlayer();\n",
       "                               mp.addPlayer('#midiPlayerDiv427'); \n",
       "                               mp.base64Load('data:audio/midi;base64,TVRoZAAAAAYAAQABBABNVHJrAAAAXwD/AwAA4ABAAP9YBAMCGAiIAJA0WogAgDQAiACQQlqIAIBCAACQQ1qIAIBDAACQRlqCVYBGAACQRVqCVYBFAAGQQ1qCVYBDAACQPFqIAIA8AACQPFqIAIA8AIgA/y8A'); \n",
       "                        });\n",
       "                </script>"
      ],
      "text/plain": [
       "<IPython.core.display.HTML object>"
      ]
     },
     "metadata": {},
     "output_type": "display_data"
    }
   ],
   "source": [
    "tnc.show('midi')"
   ]
  },
  {
   "cell_type": "code",
   "execution_count": 5,
   "metadata": {
    "collapsed": false,
    "deletable": true,
    "editable": true
   },
   "outputs": [
    {
     "data": {
      "text/plain": [
       "{'_activeSite': <weakref at 0x10fe2f578; dead>,\n",
       " '_activeSiteStoredOffset': 0.0,\n",
       " '_atSoundingPitch': 'unknown',\n",
       " '_cache': {},\n",
       " '_derivation': <Derivation of <music21.stream.Part 0x111206950> from None via \"None\">,\n",
       " '_duration': None,\n",
       " '_elements': [<music21.stream.Measure 1 offset=0.0>,\n",
       "  <music21.stream.Measure 2 offset=3.0>,\n",
       "  <music21.stream.Measure 3 offset=6.0>],\n",
       " '_endElements': [],\n",
       " '_mutable': True,\n",
       " '_naiveOffset': 0.0,\n",
       " '_offsetDict': {4561399888: (Fraction(14, 3), <music21.note.Note G>),\n",
       "  4561400528: (Fraction(5, 1), <music21.note.Note C>),\n",
       "  4561400912: (Fraction(6, 1), <music21.note.Note C>),\n",
       "  4561492432: (0.0, <music21.stream.Measure 1 offset=0.0>),\n",
       "  4561492752: (6.0, <music21.stream.Measure 3 offset=6.0>),\n",
       "  4582157968: (3.0, <music21.stream.Measure 2 offset=3.0>),\n",
       "  4582158096: (0.0, <music21.note.Note E>),\n",
       "  4582304272: (0.0, <music21.meter.TimeSignature 3/4>),\n",
       "  4582304464: (1.0, <music21.note.Rest rest>),\n",
       "  4582304528: (2.0, <music21.note.Note F#>),\n",
       "  4582304720: (3.0, <music21.note.Note G>),\n",
       "  4582304976: (Fraction(13, 3), <music21.note.Note A>),\n",
       "  4582305040: (4.0, <music21.note.Note B->)},\n",
       " '_partAbbreviation': None,\n",
       " '_partName': None,\n",
       " '_priority': 0,\n",
       " '_unlinkedDuration': None,\n",
       " 'autoSort': True,\n",
       " 'definesExplicitPageBreaks': False,\n",
       " 'definesExplicitSystemBreaks': False,\n",
       " 'groups': [],\n",
       " 'hideObjectOnPrint': False,\n",
       " 'id': 4582304080,\n",
       " 'isFlat': False,\n",
       " 'isSorted': False,\n",
       " 'sites': <music21.sites.Sites at 0x1111a8488>,\n",
       " 'staffLines': 5,\n",
       " 'streamStatus': <music21.stream.streamStatus.StreamStatus at 0x111200350>,\n",
       " 'xPosition': None}"
      ]
     },
     "execution_count": 5,
     "metadata": {},
     "output_type": "execute_result"
    }
   ],
   "source": [
    "tnc.__dict__"
   ]
  },
  {
   "cell_type": "code",
   "execution_count": 7,
   "metadata": {
    "collapsed": false,
    "deletable": true,
    "editable": true
   },
   "outputs": [
    {
     "name": "stdout",
     "output_type": "stream",
     "text": [
      "<music21.clef.TrebleClef>\n",
      "<music21.meter.TimeSignature 3/4>\n",
      "<music21.note.Note E>\n",
      "<music21.note.Rest rest>\n",
      "<music21.note.Note F#>\n",
      "<music21.note.Note G>\n",
      "<music21.note.Note B->\n",
      "<music21.note.Note A>\n",
      "<music21.note.Note G>\n",
      "<music21.note.Note C>\n",
      "<music21.note.Note C>\n",
      "<music21.bar.Barline style=final>\n"
     ]
    }
   ],
   "source": [
    "for meas in tnc.elements:\n",
    "    for note in meas:\n",
    "        print(note)"
   ]
  },
  {
   "cell_type": "code",
   "execution_count": 8,
   "metadata": {
    "collapsed": true,
    "deletable": true,
    "editable": true
   },
   "outputs": [],
   "source": [
    "f = mus.note.Note('F5')"
   ]
  },
  {
   "cell_type": "code",
   "execution_count": 9,
   "metadata": {
    "collapsed": false,
    "deletable": true,
    "editable": true
   },
   "outputs": [
    {
     "data": {
      "image/png": "[encoded data removed]",
      "text/plain": [
       "<music21.ipython21.objects.IPythonPNGObject at 0x10fe2da90>"
      ]
     },
     "execution_count": 9,
     "metadata": {},
     "output_type": "execute_result"
    }
   ],
   "source": [
    "f.show()"
   ]
  },
  {
   "cell_type": "code",
   "execution_count": 10,
   "metadata": {
    "collapsed": false,
    "deletable": true,
    "editable": true
   },
   "outputs": [
    {
     "data": {
      "text/plain": [
       "698.456462866008"
      ]
     },
     "execution_count": 10,
     "metadata": {},
     "output_type": "execute_result"
    }
   ],
   "source": [
    "f.name\n",
    "f.octave\n",
    "f.pitch.frequency"
   ]
  },
  {
   "cell_type": "code",
   "execution_count": 2,
   "metadata": {
    "collapsed": false,
    "deletable": true,
    "editable": true
   },
   "outputs": [],
   "source": [
    "cMinor = mus.chord.Chord(['C3','E4','G4', ])"
   ]
  },
  {
   "cell_type": "code",
   "execution_count": 3,
   "metadata": {
    "collapsed": false,
    "deletable": true,
    "editable": true
   },
   "outputs": [
    {
     "data": {
      "text/html": [
       "\n",
       "                <div id='midiPlayerDiv7'></div>\n",
       "                <link rel=\"stylesheet\" href=\"http://artusi.xyz/music21j/css/m21.css\" \n",
       "                    type=\"text/css\" />\n",
       "                <script>\n",
       "                require.config({\n",
       "                    paths: {'music21': 'http://artusi.xyz/music21j/src/music21'} \n",
       "                }); \n",
       "                require(['music21'], function() { \n",
       "                               mp = new music21.miditools.MidiPlayer();\n",
       "                               mp.addPlayer('#midiPlayerDiv7'); \n",
       "                               mp.base64Load('data:audio/midi;base64,TVRoZAAAAAYAAQABBABNVHJrAAAAJwD/AwAA4ABAiACQMFoAkEBaAJBDWogAgDAAAIBAAACAQwCIAP8vAA=='); \n",
       "                        });\n",
       "                </script>"
      ],
      "text/plain": [
       "<IPython.core.display.HTML object>"
      ]
     },
     "metadata": {},
     "output_type": "display_data"
    }
   ],
   "source": [
    "cMinor.show('midi')"
   ]
  },
  {
   "cell_type": "code",
   "execution_count": null,
   "metadata": {
    "collapsed": true,
    "deletable": true,
    "editable": true
   },
   "outputs": [],
   "source": []
  }
 ],
 "metadata": {
  "kernelspec": {
   "display_name": "Python 2",
   "language": "python",
   "name": "python2"
  },
  "language_info": {
   "codemirror_mode": {
    "name": "ipython",
    "version": 2
   },
   "file_extension": ".py",
   "mimetype": "text/x-python",
   "name": "python",
   "nbconvert_exporter": "python",
   "pygments_lexer": "ipython2",
   "version": "2.7.13"
  }
 },
 "nbformat": 4,
 "nbformat_minor": 2
}
