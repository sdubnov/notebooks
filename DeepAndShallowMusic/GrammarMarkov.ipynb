{
 "cells": [
  {
   "cell_type": "markdown",
   "metadata": {
    "deletable": true,
    "editable": true
   },
   "source": [
    "## Grammar\n",
    "Is music a language? One of the first approaches to composition with computers was to consider the parallel between music and language in terms of both having a \"grammatic\" structure, or in other words, very much like we expect phrases in language to be built in certain ways, we might consider music to obey similar rules. For instance phrases in laguage could be noun phrases, or verb phrases, and the sentence \"He ate the pizza\" can be decomposed or \"parsed\" with the respect to the grammar with rules S → NP VP, NP → PRO, NP → ART N, VP → V NP, with a lexicon (\"ate\" V) (\"he\" PRO) (\"pizza\" N) (\"the\" ART). \n",
    "\n",
    "Can we apply same type of thinking to music? What we have here is an example of rewrite rules, which also found applications in biology as a way to describe growth process of plants. These systems are known as L-systems.\n",
    "\n",
    "http://en.wikipedia.org/wiki/L-system\n",
    "\n",
    "Let's explore an example of such rewrite system for composing music."
   ]
  },
  {
   "cell_type": "code",
   "execution_count": 16,
   "metadata": {
    "collapsed": false,
    "deletable": true,
    "editable": true
   },
   "outputs": [],
   "source": [
    "from athenaCL.libATH import grammar\n",
    "#help(grammar)\n",
    "g = grammar.Grammar()\n",
    "g.load('c{60}e{64}g{67}f{65} @ c{ece}e{cge}g{cfg}f{fcf} @ cegg') #cegg\n"
   ]
  },
  {
   "cell_type": "markdown",
   "metadata": {
    "deletable": true,
    "editable": true
   },
   "source": [
    "Define a grammar in two required parts:\n",
    "\n",
    "* alphabet and rules\n",
    "* Both are specified in key{value} pairs \n",
    "* Rules are specified as source{destination} pairs\n",
    "\n",
    "a{3}b{-2} @ a{b} b{a}\n",
    "this is like writing a -> b, b-> a\n",
    "\n",
    "* Optionally include the axiom, which is the starting sequence (one chosen at random otherwise)\n",
    "a{3}b{-2} @ a{b} b{a} @ baba\n",
    "\n",
    "To generate a sequnece, we first define the grammar, then call the next() function to iterate.\n",
    "Note that the lenght of the sequence grows exponentially, since at every iteration all the rules are applied to all existing elements in the sequence. This is why we do not want to have too many iterations..."
   ]
  },
  {
   "cell_type": "markdown",
   "metadata": {
    "deletable": true,
    "editable": true
   },
   "source": [
    "Let use the grammar to create a melody from an initial melody (axiom) \"adc\" make "
   ]
  },
  {
   "cell_type": "code",
   "execution_count": 18,
   "metadata": {
    "collapsed": false,
    "deletable": true,
    "editable": true
   },
   "outputs": [
    {
     "name": "stdout",
     "output_type": "stream",
     "text": [
      "[60, 67, 64, 64, 60, 64, 60, 67, 64, 64, 60, 64, 65, 60, 65, 60, 65, 67, 64, 60, 64, 60, 65, 67, 60, 67, 64, 64, 60, 64, 60, 65, 67, 60, 67, 64, 60, 67, 64, 64, 60, 64, 60, 67, 64, 64, 60, 64, 60, 65, 67, 60, 67, 64, 60, 67, 64, 64, 60, 64, 60, 67, 64, 64, 60, 64, 65, 60, 65, 60, 65, 67, 64, 60, 64, 60, 65, 67, 60, 67, 64, 64, 60, 64, 60, 65, 67, 60, 67, 64, 60, 67, 64, 64, 60, 64, 60, 67, 64, 64, 60, 64, 60, 65, 67, 60, 67, 64, 65, 60, 65, 64, 60, 64, 65, 60, 65, 60, 67, 64, 64, 60, 64, 60, 67, 64, 65, 60, 65, 64, 60, 64, 65, 60, 65, 60, 67, 64, 64, 60, 64, 60, 67, 64, 65, 60, 65, 64, 60, 64, 65, 60, 65, 64, 60, 64, 65, 60, 65, 60, 65, 67, 64, 60, 64, 60, 65, 67, 60, 67, 64, 60, 67, 64, 64, 60, 64, 60, 67, 64, 64, 60, 64, 60, 65, 67, 60, 67, 64, 60, 67, 64, 64, 60, 64, 60, 67, 64, 65, 60, 65, 64, 60, 64, 65, 60, 65, 64, 60, 64, 65, 60, 65, 60, 65, 67, 60, 67, 64, 64, 60, 64, 60, 67, 64, 64, 60, 64, 65, 60, 65, 60, 65, 67, 64, 60, 64, 60, 65, 67, 60, 67, 64, 64, 60, 64, 60, 65, 67, 60, 67, 64, 60, 67, 64, 64, 60, 64, 60, 67, 64, 64, 60, 64, 60, 65, 67, 60, 67, 64, 60, 67, 64, 64, 60, 64, 60, 67, 64, 65, 60, 65, 64, 60, 64, 65, 60, 65, 64, 60, 64, 65, 60, 65, 60, 65, 67, 60, 67, 64, 64, 60, 64, 60, 67, 64, 64, 60, 64, 65, 60, 65, 60, 65, 67, 64, 60, 64, 60, 65, 67, 60, 67, 64, 60, 67, 64, 64, 60, 64, 60, 67, 64, 64, 60, 64, 65, 60, 65, 60, 65, 67, 64, 60, 64, 60, 65, 67, 60, 67, 64, 64, 60, 64, 60, 65, 67, 60, 67, 64, 60, 67, 64, 64, 60, 64, 60, 67, 64, 64, 60, 64, 60, 65, 67, 60, 67, 64, 60, 67, 64, 64, 60, 64, 60, 67, 64, 64, 60, 64, 65, 60, 65, 60, 65, 67, 64, 60, 64, 60, 65, 67, 60, 67, 64, 64, 60, 64, 60, 65, 67, 60, 67, 64, 60, 67, 64, 64, 60, 64, 60, 67, 64, 64, 60, 64, 60, 65, 67, 60, 67, 64, 60, 67, 64, 64, 60, 64, 60, 67, 64, 65, 60, 65, 64, 60, 64, 65, 60, 65, 64, 60, 64, 65, 60, 65, 60, 65, 67, 60, 67, 64, 64, 60, 64, 60, 67, 64, 64, 60, 64, 65, 60, 65, 60, 65, 67, 64, 60, 64, 60, 65, 67, 60, 67, 64, 60, 67, 64, 64, 60, 64, 60, 67, 64, 64, 60, 64, 65, 60, 65, 60, 65, 67, 64, 60, 64, 60, 65, 67, 60, 67, 64, 64, 60, 64, 60, 65, 67, 60, 67, 64, 60, 67, 64, 64, 60, 64, 60, 67, 64, 64, 60, 64, 60, 65, 67, 60, 67, 64, 60, 67, 64, 64, 60, 64, 60, 67, 64, 64, 60, 64, 65, 60, 65, 60, 65, 67, 64, 60, 64, 60, 65, 67, 60, 67, 64, 64, 60, 64, 60, 65, 67, 60, 67, 64, 60, 67, 64, 64, 60, 64, 60, 67, 64, 64, 60, 64, 60, 65, 67, 60, 67, 64, 65, 60, 65, 64, 60, 64, 65, 60, 65, 60, 67, 64, 64, 60, 64, 60, 67, 64, 65, 60, 65, 64, 60, 64, 65, 60, 65, 60, 67, 64, 64, 60, 64, 60, 67, 64, 65, 60, 65, 64, 60, 64, 65, 60, 65, 64, 60, 64, 65, 60, 65, 60, 65, 67, 64, 60, 64, 60, 65, 67, 60, 67, 64, 60, 67, 64, 64, 60, 64, 60, 67, 64, 64, 60, 64, 60, 65, 67, 60, 67, 64, 60, 67, 64, 64, 60, 64, 60, 67, 64, 65, 60, 65, 64, 60, 64, 65, 60, 65, 64, 60, 64, 65, 60, 65, 60, 65, 67, 60, 67, 64, 64, 60, 64, 60, 67, 64, 64, 60, 64, 65, 60, 65, 60, 65, 67, 64, 60, 64, 60, 65, 67, 60, 67, 64, 64, 60, 64, 60, 65, 67, 60, 67, 64, 60, 67, 64, 64, 60, 64, 60, 67, 64, 64, 60, 64, 60, 65, 67, 60, 67, 64, 60, 67, 64, 64, 60, 64, 60, 67, 64, 65, 60, 65, 64, 60, 64, 65, 60, 65, 64, 60, 64, 65, 60, 65, 60, 65, 67, 60, 67, 64, 64, 60, 64, 60, 67, 64, 64, 60, 64, 65, 60, 65, 60, 65, 67, 64, 60, 64, 60, 65, 67, 60, 67, 64, 60, 67, 64, 64, 60, 64, 60, 67, 64, 64, 60, 64, 65, 60, 65, 60, 65, 67, 64, 60, 64, 60, 65, 67, 60, 67, 64, 64, 60, 64, 60, 65, 67, 60, 67, 64, 60, 67, 64, 64, 60, 64, 60, 67, 64, 64, 60, 64, 60, 65, 67, 60, 67, 64, 60, 67, 64, 64, 60, 64, 60, 67, 64, 64, 60, 64, 65, 60, 65, 60, 65, 67, 64, 60, 64, 60, 65, 67, 60, 67, 64, 64, 60, 64, 60, 65, 67, 60, 67, 64, 60, 67, 64, 64, 60, 64, 60, 67, 64, 64, 60, 64, 60, 65, 67, 60, 67, 64, 60, 67, 64, 64, 60, 64, 60, 67, 64, 65, 60, 65, 64, 60, 64, 65, 60, 65, 64, 60, 64, 65, 60, 65, 60, 65, 67, 60, 67, 64, 64, 60, 64, 60, 67, 64, 64, 60, 64, 65, 60, 65, 60, 65, 67, 64, 60, 64, 60, 65, 67, 60, 67, 64, 60, 67, 64, 64, 60, 64, 60, 67, 64, 64, 60, 64, 65, 60, 65, 60, 65, 67, 64, 60, 64, 60, 65, 67, 60, 67, 64, 64, 60, 64, 60, 65, 67, 60, 67, 64, 60, 67, 64, 64, 60, 64, 60, 67, 64, 64, 60, 64, 60, 65, 67, 60, 67, 64, 60, 67, 64, 64, 60, 64, 60, 67, 64, 64, 60, 64, 65, 60, 65, 60, 65, 67, 64, 60, 64, 60, 65, 67, 60, 67, 64, 65, 60, 65, 64, 60, 64, 65, 60, 65, 60, 67, 64, 64, 60, 64, 60, 67, 64, 65, 60, 65, 64, 60, 64, 65, 60, 65, 64, 60, 64, 60, 65, 67, 60, 67, 64, 60, 67, 64, 64, 60, 64, 60, 67, 64, 64, 60, 64, 60, 65, 67, 60, 67, 64, 65, 60, 65, 64, 60, 64, 65, 60, 65, 60, 67, 64, 64, 60, 64, 60, 67, 64, 65, 60, 65, 64, 60, 64, 65, 60, 65, 64, 60, 64, 60, 65, 67, 60, 67, 64, 60, 67, 64, 64, 60, 64, 60, 67, 64, 64, 60, 64, 60, 65, 67, 60, 67, 64, 65, 60, 65, 64, 60, 64, 65, 60, 65, 60, 67, 64, 64, 60, 64, 60, 67, 64, 65, 60, 65, 64, 60, 64, 65, 60, 65, 60, 67, 64, 64, 60, 64, 60, 67, 64, 65, 60, 65, 64, 60, 64, 65, 60, 65, 64, 60, 64, 65, 60, 65, 60, 65, 67, 60, 67, 64, 64, 60, 64, 60, 67, 64, 64, 60, 64, 65, 60, 65, 60, 65, 67, 64, 60, 64, 60, 65, 67, 60, 67, 64, 64, 60, 64, 60, 65, 67, 60, 67, 64, 60, 67, 64, 64, 60, 64, 60, 67, 64, 64, 60, 64, 60, 65, 67, 60, 67, 64, 60, 67, 64, 64, 60, 64, 60, 67, 64, 64, 60, 64, 65, 60, 65, 60, 65, 67, 64, 60, 64, 60, 65, 67, 60, 67, 64, 64, 60, 64, 60, 65, 67, 60, 67, 64, 60, 67, 64, 64, 60, 64, 60, 67, 64, 64, 60, 64, 60, 65, 67, 60, 67, 64, 65, 60, 65, 64, 60, 64, 65, 60, 65, 60, 67, 64, 64, 60, 64, 60, 67, 64, 65, 60, 65, 64, 60, 64, 65, 60, 65, 60, 67, 64, 64, 60, 64, 60, 67, 64, 65, 60, 65, 64, 60, 64, 65, 60, 65, 64, 60, 64, 65, 60, 65, 60, 65, 67, 64, 60, 64, 60, 65, 67, 60, 67, 64, 60, 67, 64, 64, 60, 64, 60, 67, 64, 64, 60, 64, 60, 65, 67, 60, 67, 64, 60, 67, 64, 64, 60, 64, 60, 67, 64, 65, 60, 65, 64, 60, 64, 65, 60, 65, 64, 60, 64, 65, 60, 65, 60, 65, 67, 60, 67, 64, 64, 60, 64, 60, 67, 64, 64, 60, 64, 65, 60, 65, 60, 65, 67, 64, 60, 64, 60, 65, 67, 60, 67, 64, 64, 60, 64, 60, 65, 67, 60, 67, 64, 60, 67, 64, 64, 60, 64, 60, 67, 64, 64, 60, 64, 60, 65, 67, 60, 67, 64, 60, 67, 64, 64, 60, 64, 60, 67, 64, 65, 60, 65, 64, 60, 64, 65, 60, 65, 64, 60, 64, 65, 60, 65, 60, 65, 67, 60, 67, 64, 64, 60, 64, 60, 67, 64, 64, 60, 64, 65, 60, 65, 60, 65, 67, 64, 60, 64, 60, 65, 67, 60, 67, 64, 60, 67, 64, 64, 60, 64, 60, 67, 64, 64, 60, 64, 65, 60, 65, 60, 65, 67, 64, 60, 64, 60, 65, 67, 60, 67, 64, 64, 60, 64, 60, 65, 67, 60, 67, 64, 60, 67, 64, 64, 60, 64, 60, 67, 64, 64, 60, 64, 60, 65, 67, 60, 67, 64, 60, 67, 64, 64, 60, 64, 60, 67, 64, 64, 60, 64, 65, 60, 65, 60, 65, 67, 64, 60, 64, 60, 65, 67, 60, 67, 64, 64, 60, 64, 60, 65, 67, 60, 67, 64, 60, 67, 64, 64, 60, 64, 60, 67, 64, 64, 60, 64, 60, 65, 67, 60, 67, 64, 60, 67, 64, 64, 60, 64, 60, 67, 64, 65, 60, 65, 64, 60, 64, 65, 60, 65, 64, 60, 64, 65, 60, 65, 60, 65, 67, 60, 67, 64, 64, 60, 64, 60, 67, 64, 64, 60, 64, 65, 60, 65, 60, 65, 67, 64, 60, 64, 60, 65, 67, 60, 67, 64, 65, 60, 65, 64, 60, 64, 65, 60, 65, 60, 67, 64, 64, 60, 64, 60, 67, 64, 65, 60, 65, 64, 60, 64, 65, 60, 65, 64, 60, 64, 60, 65, 67, 60, 67, 64, 60, 67, 64, 64, 60, 64, 60, 67, 64, 64, 60, 64, 60, 65, 67, 60, 67, 64, 65, 60, 65, 64, 60, 64, 65, 60, 65, 60, 67, 64, 64, 60, 64, 60, 67, 64, 65, 60, 65, 64, 60, 64, 65, 60, 65, 60, 67, 64, 64, 60, 64, 60, 67, 64, 64, 60, 64, 65, 60, 65, 60, 65, 67, 64, 60, 64, 60, 65, 67, 60, 67, 64, 64, 60, 64, 60, 65, 67, 60, 67, 64, 60, 67, 64, 64, 60, 64, 60, 67, 64, 64, 60, 64, 60, 65, 67, 60, 67, 64, 60, 67, 64, 64, 60, 64, 60, 67, 64, 64, 60, 64, 65, 60, 65, 60, 65, 67, 64, 60, 64, 60, 65, 67, 60, 67, 64, 65, 60, 65, 64, 60, 64, 65, 60, 65, 60, 67, 64, 64, 60, 64, 60, 67, 64, 65, 60, 65, 64, 60, 64, 65, 60, 65, 64, 60, 64, 60, 65, 67, 60, 67, 64, 60, 67, 64, 64, 60, 64, 60, 67, 64, 64, 60, 64, 60, 65, 67, 60, 67, 64, 65, 60, 65, 64, 60, 64, 65, 60, 65, 60, 67, 64, 64, 60, 64, 60, 67, 64, 65, 60, 65, 64, 60, 64, 65, 60, 65, 60, 67, 64, 64, 60, 64, 60, 67, 64, 64, 60, 64, 65, 60, 65, 60, 65, 67, 64, 60, 64, 60, 65, 67, 60, 67, 64, 64, 60, 64, 60, 65, 67, 60, 67, 64, 60, 67, 64, 64, 60, 64, 60, 67, 64, 64, 60, 64, 60, 65, 67, 60, 67, 64, 60, 67, 64, 64, 60, 64, 60, 67, 64, 64, 60, 64, 65, 60, 65, 60, 65, 67, 64, 60, 64, 60, 65, 67, 60, 67, 64, 65, 60, 65, 64, 60, 64, 65, 60, 65, 60, 67, 64, 64, 60, 64, 60, 67, 64, 65, 60, 65, 64, 60, 64, 65, 60, 65, 64, 60, 64, 60, 65, 67, 60, 67, 64, 60, 67, 64, 64, 60, 64, 60, 67, 64, 64, 60, 64, 60, 65, 67, 60, 67, 64, 65, 60, 65, 64, 60, 64, 65, 60, 65, 60, 67, 64, 64, 60, 64, 60, 67, 64, 65, 60, 65, 64, 60, 64, 65, 60, 65, 64, 60, 64, 60, 65, 67, 60, 67, 64, 60, 67, 64, 64, 60, 64, 60, 67, 64, 64, 60, 64, 60, 65, 67, 60, 67, 64, 65, 60, 65, 64, 60, 64, 65, 60, 65, 60, 67, 64, 64, 60, 64, 60, 67, 64, 65, 60, 65, 64, 60, 64, 65, 60, 65, 60, 67, 64, 64, 60, 64, 60, 67, 64, 65, 60, 65, 64, 60, 64, 65, 60, 65, 64, 60, 64, 65, 60, 65, 60, 65, 67, 64, 60, 64, 60, 65, 67, 60, 67, 64, 60, 67, 64, 64, 60, 64, 60, 67, 64, 64, 60, 64, 60, 65, 67, 60, 67, 64, 60, 67, 64, 64, 60, 64, 60, 67, 64, 65, 60, 65, 64, 60, 64, 65, 60, 65, 64, 60, 64, 65, 60, 65, 60, 65, 67, 60, 67, 64, 64, 60, 64, 60, 67, 64, 64, 60, 64, 65, 60, 65, 60, 65, 67, 64, 60, 64, 60, 65, 67, 60, 67, 64, 60, 67, 64, 64, 60, 64, 60, 67, 64, 64, 60, 64, 65, 60, 65, 60, 65, 67, 64, 60, 64, 60, 65, 67, 60, 67, 64, 64, 60, 64, 60, 65, 67, 60, 67, 64, 60, 67, 64, 64, 60, 64, 60, 67, 64, 64, 60, 64, 60, 65, 67, 60, 67, 64, 60, 67, 64, 64, 60, 64, 60, 67, 64, 64, 60, 64, 65, 60, 65, 60, 65, 67, 64, 60, 64, 60, 65, 67, 60, 67, 64, 64, 60, 64, 60, 65, 67, 60, 67, 64, 60, 67, 64, 64, 60, 64, 60, 67, 64, 64, 60, 64, 60, 65, 67, 60, 67, 64, 60, 67, 64, 64, 60, 64, 60, 67, 64, 65, 60, 65, 64, 60, 64, 65, 60, 65, 64, 60, 64, 65, 60, 65, 60, 65, 67, 60, 67, 64, 64, 60, 64, 60, 67, 64, 64, 60, 64, 65, 60, 65, 60, 65, 67, 64, 60, 64, 60, 65, 67, 60, 67, 64, 65, 60, 65, 64, 60, 64, 65, 60, 65, 60, 67, 64, 64, 60, 64, 60, 67, 64, 65, 60, 65, 64, 60, 64, 65, 60, 65, 64, 60, 64, 60, 65, 67, 60, 67, 64, 60, 67, 64, 64, 60, 64, 60, 67, 64, 64, 60, 64, 60, 65, 67, 60, 67, 64, 65, 60, 65, 64, 60, 64, 65, 60, 65, 60, 67, 64, 64, 60, 64, 60, 67, 64, 65, 60, 65, 64, 60, 64, 65, 60, 65, 60, 67, 64, 64, 60, 64, 60, 67, 64, 64, 60, 64, 65, 60, 65, 60, 65, 67, 64, 60, 64, 60, 65, 67, 60, 67, 64, 64, 60, 64, 60, 65, 67, 60, 67, 64, 60, 67, 64, 64, 60, 64, 60, 67, 64, 64, 60, 64, 60, 65, 67, 60, 67, 64, 60, 67, 64, 64, 60, 64, 60, 67, 64, 64, 60, 64, 65, 60, 65, 60, 65, 67, 64, 60, 64, 60, 65, 67, 60, 67, 64, 65, 60, 65, 64, 60, 64, 65, 60, 65, 60, 67, 64, 64, 60, 64, 60, 67, 64, 65, 60, 65, 64, 60, 64, 65, 60, 65, 64, 60, 64, 60, 65, 67, 60, 67, 64, 60, 67, 64, 64, 60, 64, 60, 67, 64, 64, 60, 64, 60, 65, 67, 60, 67, 64, 65, 60, 65, 64, 60, 64, 65, 60, 65, 60, 67, 64, 64, 60, 64, 60, 67, 64, 65, 60, 65, 64, 60, 64, 65, 60, 65, 60, 67, 64, 64, 60, 64, 60, 67, 64, 64, 60, 64, 65, 60, 65, 60, 65, 67, 64, 60, 64, 60, 65, 67, 60, 67, 64, 64, 60, 64, 60, 65, 67, 60, 67, 64, 60, 67, 64, 64, 60, 64, 60, 67, 64, 64, 60, 64, 60, 65, 67, 60, 67, 64, 60, 67, 64, 64, 60, 64, 60, 67, 64, 64, 60, 64, 65, 60, 65, 60, 65, 67, 64, 60, 64, 60, 65, 67, 60, 67, 64, 65, 60, 65, 64, 60, 64, 65, 60, 65, 60, 67, 64, 64, 60, 64, 60, 67, 64, 65, 60, 65, 64, 60, 64, 65, 60, 65, 64, 60, 64, 60, 65, 67, 60, 67, 64, 60, 67, 64, 64, 60, 64, 60, 67, 64, 64, 60, 64, 60, 65, 67, 60, 67, 64, 65, 60, 65, 64, 60, 64, 65, 60, 65, 60, 67, 64, 64, 60, 64, 60, 67, 64, 65, 60, 65, 64, 60, 64, 65, 60, 65, 64, 60, 64, 60, 65, 67, 60, 67, 64, 60, 67, 64, 64, 60, 64, 60, 67, 64, 64, 60, 64, 60, 65, 67, 60, 67, 64, 65, 60, 65, 64, 60, 64, 65, 60, 65, 60, 67, 64, 64, 60, 64, 60, 67, 64, 65, 60, 65, 64, 60, 64, 65, 60, 65, 60, 67, 64, 64, 60, 64, 60, 67, 64, 65, 60, 65, 64, 60, 64, 65, 60, 65, 64, 60, 64, 65, 60, 65, 60, 65, 67]\n"
     ]
    }
   ],
   "source": [
    "for i in range(5):\n",
    "    g.next()\n",
    "    \n",
    "notes = g.getState(values=True)\n",
    "notes = [int(i) for i in notes]\n",
    "\n",
    "print notes"
   ]
  },
  {
   "cell_type": "markdown",
   "metadata": {
    "deletable": true,
    "editable": true
   },
   "source": [
    "To turn this into sound we will need to create a score that will be converted next to a midi file"
   ]
  },
  {
   "cell_type": "code",
   "execution_count": 19,
   "metadata": {
    "collapsed": false,
    "deletable": true,
    "editable": true
   },
   "outputs": [],
   "source": [
    "start = 0.5*arange(len(notes))\n",
    "dur = [0.4]*len(notes)\n",
    "vel = [127]*len(notes)\n",
    "pan = [60]*len(notes)\n",
    "scoreTmp = tuple(zip(start, dur, vel, notes, pan))\n"
   ]
  },
  {
   "cell_type": "markdown",
   "metadata": {
    "deletable": true,
    "editable": true
   },
   "source": [
    "To create MIDI file we need a set of note start times, duration, velocities, the midi pitches and panning.\n",
    "We can also have multiple tracks by putting together several melodies or scores into parallel tracks."
   ]
  },
  {
   "cell_type": "code",
   "execution_count": 48,
   "metadata": {
    "collapsed": false,
    "deletable": true,
    "editable": true
   },
   "outputs": [],
   "source": [
    "from athenaCL.libATH import midiTools\n",
    "\n",
    "trackTmp = (('Tmp', 0, None, scoreTmp),)\n",
    "\n",
    "m = midiTools.MidiScore(trackTmp)\n",
    "m.write('./tmp.mid')"
   ]
  },
  {
   "cell_type": "markdown",
   "metadata": {
    "deletable": true,
    "editable": true
   },
   "source": [
    "# Markov Example"
   ]
  },
  {
   "cell_type": "code",
   "execution_count": 49,
   "metadata": {
    "collapsed": false,
    "deletable": true,
    "editable": true
   },
   "outputs": [
    {
     "data": {
      "text/plain": [
       "'a{a}b{b}c{c}:{a=7|b=8|c=4}a:{a=1|b=5|c=1}b:{a=6|b=1|c=1}c:{b=2|c=2}a:a:{b=1}a:b:{a=3|b=1|c=1}a:c:{c=1}b:a:{a=1|b=4|c=1}b:b:{a=1}b:c:{c=1}c:b:{a=2}c:c:{b=2}'"
      ]
     },
     "execution_count": 49,
     "metadata": {},
     "output_type": "execute_result"
    }
   ],
   "source": [
    "from athenaCL.libATH import markov\n",
    "mo = markov.Transition()\n",
    "mo.loadString('a b c c b a c c b a a b a b a b b a b',2)\n",
    "mo.repr()"
   ]
  },
  {
   "cell_type": "markdown",
   "metadata": {
    "deletable": true,
    "editable": true
   },
   "source": [
    "This \"grammar\" is the result of anaysis of the string example"
   ]
  },
  {
   "cell_type": "code",
   "execution_count": 50,
   "metadata": {
    "collapsed": false,
    "deletable": true,
    "editable": true
   },
   "outputs": [
    {
     "name": "stdout",
     "output_type": "stream",
     "text": [
      "['c', 'b', 'a', 'b', 'c', 'c', 'b', 'a', 'c', 'c', 'b', 'a', 'a', 'b', 'b', 'a', 'c', 'c', 'b', 'a', 'b', 'a', 'b', 'a', 'b', 'a', 'b', 'a', 'a', 'b']\n"
     ]
    }
   ],
   "source": [
    "out = []\n",
    "for i in range(30):\n",
    "    out.append(mo.next(random.random(), out, 2))\n",
    "print out"
   ]
  },
  {
   "cell_type": "code",
   "execution_count": 51,
   "metadata": {
    "collapsed": false,
    "deletable": true,
    "editable": true
   },
   "outputs": [
    {
     "data": {
      "text/plain": [
       "'a{Far}b{far}c{away,}d{behind}e{the}f{word}g{mountains,}h{from}i{countries}j{Vokalia}k{and}l{Consonantia,}m{there}n{live}o{blind}p{texts.}q{Separated}r{they}s{in}t{Bookmarksgrove}u{right}v{at}w{coast}x{of}y{Semantics,}z{a}aa{large}ab{language}ac{ocean.}ad{A}ae{small}af{river}ag{named}ah{Duden}ai{flows}aj{by}ak{their}al{place}am{supplies}an{it}ao{with}ap{necessary}aq{regelialia.}ar{It}as{is}at{paradisematic}au{country,}av{which}aw{roasted}ax{parts}ay{sentences}az{fly}ba{into}bb{your}bc{mouth.}bd{Even}be{all}bf{powerful}bg{Pointing}bh{has}bi{no}bj{control}bk{about}bl{texts}bm{an}bn{almost}bo{unorthographic}bp{life}bq{One}br{day}bs{however}bt{line}bu{text}bv{name}bw{Lorem}bx{Ipsum}by{decided}bz{to}ca{leave}cb{for}cc{World}cd{Grammar.}ce{The}cf{Big}cg{Oxmox}ch{advised}ci{her}cj{not}ck{do}cl{so,}cm{because}cn{were}co{thousands}cp{bad}cq{Commas,}cr{wild}cs{Question}ct{Marks}cu{devious}cv{Semikoli,}cw{but}cx{Little}cy{Blind}cz{Text}da{didn\\xe2\\x80\\x99t}db{listen.}dc{She}dd{packed}de{seven}df{versalia,}dg{put}dh{initial}di{belt}dj{made}dk{herself}dl{on}dm{way.}dn{When}do{she}dp{reached}dq{first}dr{hills}ds{Italic}dt{Mountains,}du{had}dv{last}dw{view}dx{back}dy{skyline}dz{hometown}ea{Bookmarksgrove,}eb{headline}ec{Alphabet}ed{Village}ee{subline}ef{own}eg{road,}eh{Line}ei{Lane.}ej{Pityful}ek{rethoric}el{question}em{ran}en{over}eo{cheek}:{a=1|b=3|c=1|d=1|e=19|f=1|g=1|h=1|i=1|j=1|k=5|l=1|m=2|n=2|o=3|p=1|q=1|r=1|s=2|t=1|u=1|v=1|w=1|x=10|y=1|z=5|aa=1|ab=1|ac=1|ad=1|ae=2|af=1|ag=1|ah=1|ai=1|aj=2|ak=1|al=1|am=1|an=2|ao=1|ap=1|aq=1|ar=1|as=2|at=1|au=1|av=1|aw=1|ax=1|ay=1|az=1|ba=2|bb=1|bc=1|bd=1|be=1|bf=1|bg=1|bh=1|bi=1|bj=1|bk=1|bl=1|bm=1|bn=1|bo=1|bp=1|bq=1|br=1|bs=1|bt=1|bu=1|bv=1|bw=1|bx=1|by=1|bz=2|ca=1|cb=1|cc=1|cd=1|ce=1|cf=1|cg=1|ch=1|ci=6|cj=1|ck=1|cl=1|cm=1|cn=1|co=1|cp=1|cq=1|cr=1|cs=1|ct=1|cu=1|cv=1|cw=1|cx=1|cy=1|cz=1|da=1|db=1|dc=1|dd=1|de=1|df=1|dg=1|dh=1|di=1|dj=1|dk=1|dl=2|dm=1|dn=1|do=2|dp=1|dq=1|dr=1|ds=1|dt=1|du=1|dv=1|dw=1|dx=1|dy=1|dz=1|ea=1|eb=1|ec=1|ed=1|ee=1|ef=1|eg=1|eh=1|ei=1|ej=1|ek=1|el=1|em=1|en=1|eo=1}a:{b=1}aa:{ab=1}ab:{ac=1}ac:{ad=1}ad:{ae=1}ae:{af=1|bt=1}af:{ag=1}ag:{ah=1}ah:{ai=1}ai:{aj=1}aj:{e=1|ak=1}ak:{al=1}al:{k=1}am:{an=1}an:{ao=1|as=1}ao:{e=1}ap:{aq=1}aq:{ar=1}ar:{as=1}as:{z=1|bm=1}at:{au=1}au:{s=1}av:{aw=1}aw:{ax=1}ax:{x=1}ay:{az=1}az:{ba=1}b:{c=1|h=1|cc=1}ba:{e=1|bb=1}bb:{bc=1}bc:{bd=1}bd:{e=1}be:{bf=1}bf:{bg=1}bg:{bh=1}bh:{bi=1}bi:{bj=1}bj:{bk=1}bk:{e=1}bl:{an=1}bm:{bn=1}bn:{bo=1}bo:{bp=1}bp:{bq=1}bq:{br=1}br:{bs=1}bs:{z=1}bt:{x=1}bu:{aj=1}bv:{x=1}bw:{bx=1}bx:{by=1}by:{bz=1}bz:{ca=1|ck=1}c:{d=1}ca:{cb=1}cb:{e=1}cc:{x=1}cd:{ce=1}ce:{cf=1}cf:{cg=1}cg:{ch=1}ch:{ci=1}ci:{cj=1|de=1|dh=1|dz=1|ef=1|eo=1}cj:{bz=1}ck:{cl=1}cl:{cm=1}cm:{m=1}cn:{co=1}co:{x=1}cp:{cq=1}cq:{cr=1}cr:{cs=1}cs:{ct=1}ct:{k=1}cu:{cv=1}cv:{cw=1}cw:{e=1}cx:{cy=1}cy:{cz=1}cz:{da=1}d:{e=1}da:{db=1}db:{dc=1}dc:{dd=1}dd:{ci=1}de:{df=1}df:{dg=1}dg:{ci=1}dh:{ba=1}di:{k=1}dj:{dk=1}dk:{dl=1}dl:{e=2}dm:{dn=1}dn:{do=1}do:{dp=1|du=1}dp:{e=1}dq:{dr=1}dr:{x=1}ds:{dt=1}dt:{do=1}du:{z=1}dv:{dw=1}dw:{dx=1}dx:{dl=1}dy:{x=1}dz:{ea=1}e:{b=1|f=1|i=1|o=2|w=1|y=1|ap=1|be=1|bv=1|cx=1|di=1|dm=1|dq=1|ds=1|dy=1|eb=1|ee=1|eh=1}ea:{e=1}eb:{x=1}ec:{ed=1}ed:{k=1}ee:{x=1}ef:{eg=1}eg:{e=1}eh:{ei=1}ei:{ej=1}ej:{z=1}ek:{el=1}el:{em=1}em:{en=1}en:{ci=1}eo:{a=1}f:{g=1}g:{b=1}h:{e=1}i:{j=1}j:{k=1}k:{e=1|l=1|am=1|cu=1|dj=1}l:{m=1}m:{n=1|cn=1}n:{e=1|s=1}o:{p=1|bl=1|bu=1}p:{q=1}q:{r=1}r:{n=1}s:{t=1|av=1}t:{u=1}u:{v=1}v:{e=1}w:{x=1}x:{e=2|o=1|ay=1|bw=1|cd=1|ci=2|cp=1|ec=1}y:{z=1}z:{aa=1|ae=1|at=1|dv=1|ek=1}a:b:{c=1}aa:ab:{ac=1}ab:ac:{ad=1}ac:ad:{ae=1}ad:ae:{af=1}ae:af:{ag=1}ae:bt:{x=1}af:ag:{ah=1}ag:ah:{ai=1}ah:ai:{aj=1}ai:aj:{ak=1}aj:ak:{al=1}aj:e:{bv=1}ak:al:{k=1}al:k:{am=1}am:an:{ao=1}an:ao:{e=1}an:as:{bm=1}ao:e:{ap=1}ap:aq:{ar=1}aq:ar:{as=1}ar:as:{z=1}as:bm:{bn=1}as:z:{at=1}at:au:{s=1}au:s:{av=1}av:aw:{ax=1}aw:ax:{x=1}ax:x:{ay=1}ay:az:{ba=1}az:ba:{bb=1}b:c:{d=1}b:cc:{x=1}b:h:{e=1}ba:bb:{bc=1}ba:e:{di=1}bb:bc:{bd=1}bc:bd:{e=1}bd:e:{be=1}be:bf:{bg=1}bf:bg:{bh=1}bg:bh:{bi=1}bh:bi:{bj=1}bi:bj:{bk=1}bj:bk:{e=1}bk:e:{o=1}bl:an:{as=1}bm:bn:{bo=1}bn:bo:{bp=1}bo:bp:{bq=1}bp:bq:{br=1}bq:br:{bs=1}br:bs:{z=1}bs:z:{ae=1}bt:x:{o=1}bu:aj:{e=1}bv:x:{bw=1}bw:bx:{by=1}bx:by:{bz=1}by:bz:{ca=1}bz:ca:{cb=1}bz:ck:{cl=1}c:d:{e=1}ca:cb:{e=1}cb:e:{b=1}cc:x:{cd=1}cd:ce:{cf=1}ce:cf:{cg=1}cf:cg:{ch=1}cg:ch:{ci=1}ch:ci:{cj=1}ci:cj:{bz=1}ci:de:{df=1}ci:dh:{ba=1}ci:dz:{ea=1}ci:ef:{eg=1}ci:eo:{a=1}cj:bz:{ck=1}ck:cl:{cm=1}cl:cm:{m=1}cm:m:{cn=1}cn:co:{x=1}co:x:{cp=1}cp:cq:{cr=1}cq:cr:{cs=1}cr:cs:{ct=1}cs:ct:{k=1}ct:k:{cu=1}cu:cv:{cw=1}cv:cw:{e=1}cw:e:{cx=1}cx:cy:{cz=1}cy:cz:{da=1}cz:da:{db=1}d:e:{f=1}da:db:{dc=1}db:dc:{dd=1}dc:dd:{ci=1}dd:ci:{de=1}de:df:{dg=1}df:dg:{ci=1}dg:ci:{dh=1}dh:ba:{e=1}di:k:{dj=1}dj:dk:{dl=1}dk:dl:{e=1}dl:e:{dm=1|dy=1}dm:dn:{do=1}dn:do:{dp=1}do:dp:{e=1}do:du:{z=1}dp:e:{dq=1}dq:dr:{x=1}dr:x:{e=1}ds:dt:{do=1}dt:do:{du=1}du:z:{dv=1}dv:dw:{dx=1}dw:dx:{dl=1}dx:dl:{e=1}dy:x:{ci=1}dz:ea:{e=1}e:ap:{aq=1}e:b:{cc=1}e:be:{bf=1}e:bv:{x=1}e:cx:{cy=1}e:di:{k=1}e:dm:{dn=1}e:dq:{dr=1}e:ds:{dt=1}e:dy:{x=1}e:eb:{x=1}e:ee:{x=1}e:eh:{ei=1}e:f:{g=1}e:i:{j=1}e:o:{p=1|bl=1}e:w:{x=1}e:y:{z=1}ea:e:{eb=1}eb:x:{ec=1}ec:ed:{k=1}ed:k:{e=1}ee:x:{ci=1}ef:eg:{e=1}eg:e:{eh=1}eh:ei:{ej=1}ei:ej:{z=1}ej:z:{ek=1}ek:el:{em=1}el:em:{en=1}em:en:{ci=1}en:ci:{eo=1}eo:a:{b=1}f:g:{b=1}g:b:{h=1}h:e:{i=1}i:j:{k=1}j:k:{l=1}k:am:{an=1}k:cu:{cv=1}k:dj:{dk=1}k:e:{ee=1}k:l:{m=1}l:m:{n=1}m:cn:{co=1}m:n:{e=1}n:e:{o=1}n:s:{t=1}o:bl:{an=1}o:bu:{aj=1}o:p:{q=1}p:q:{r=1}q:r:{n=1}r:n:{s=1}s:av:{aw=1}s:t:{u=1}t:u:{v=1}u:v:{e=1}v:e:{w=1}w:x:{e=1}x:ay:{az=1}x:bw:{bx=1}x:cd:{ce=1}x:ci:{dz=1|ef=1}x:cp:{cq=1}x:e:{y=1|ds=1}x:ec:{ed=1}x:o:{bu=1}y:z:{aa=1}z:aa:{ab=1}z:ae:{bt=1}z:at:{au=1}z:dv:{dw=1}z:ek:{el=1}'"
      ]
     },
     "execution_count": 51,
     "metadata": {},
     "output_type": "execute_result"
    }
   ],
   "source": [
    "strin = 'Far far away, behind the word mountains, far from the countries Vokalia and Consonantia, there live the blind texts. Separated they live in Bookmarksgrove right at the coast of the Semantics, a large language ocean. A small river named Duden flows by their place and supplies it with the necessary regelialia. It is a paradisematic country, in which roasted parts of sentences fly into your mouth. Even the all-powerful Pointing has no control about the blind texts it is an almost unorthographic life One day however a small line of blind text by the name of Lorem Ipsum decided to leave for the far World of Grammar. The Big Oxmox advised her not to do so, because there were thousands of bad Commas, wild Question Marks and devious Semikoli, but the Little Blind Text didn’t listen. She packed her seven versalia, put her initial into the belt and made herself on the way. When she reached the first hills of the Italic Mountains, she had a last view back on the skyline of her hometown Bookmarksgrove, the headline of Alphabet Village and the subline of her own road, the Line Lane. Pityful a rethoric question ran over her cheek'\n",
    "mo.loadString(strin,2)\n",
    "mo.repr()\n"
   ]
  },
  {
   "cell_type": "code",
   "execution_count": 52,
   "metadata": {
    "collapsed": false,
    "deletable": true,
    "editable": true
   },
   "outputs": [
    {
     "name": "stdout",
     "output_type": "stream",
     "text": [
      "were thousands of bad Commas, wild Question Marks and devious Semikoli, but the Little Blind Text didn’t listen. She packed her seven versalia, put her initial into the belt and\n"
     ]
    }
   ],
   "source": [
    "out = []\n",
    "for i in range(30):\n",
    "    out.append(mo.next(random.random(), out, 2))\n",
    "print ' '.join(out)"
   ]
  },
  {
   "cell_type": "markdown",
   "metadata": {
    "deletable": true,
    "editable": true
   },
   "source": [
    "# Cellular Automata Example"
   ]
  },
  {
   "cell_type": "code",
   "execution_count": 69,
   "metadata": {
    "collapsed": false,
    "deletable": true,
    "editable": true
   },
   "outputs": [
    {
     "name": "stdout",
     "output_type": "stream",
     "text": [
      "f{s}k{2}r{1}i{center}x{12}y{135}w{12}c{0}s{0}\n"
     ]
    }
   ],
   "source": [
    "from athenaCL.libATH import automata\n",
    "#a = automata.AutomataSpecification('f{s}x{20}y{5}r{2}')\n",
    "rule = 30 #30 #90 #110\n",
    "a = automata.Standard('k{2}r{1}x{12}',rule)\n",
    "print a"
   ]
  },
  {
   "cell_type": "markdown",
   "metadata": {
    "deletable": true,
    "editable": true
   },
   "source": [
    "Standard: \n",
    "\n",
    "* f{s}: Discrete cell values, rules match cell formations (neighborhoods)\n",
    "* k: number of values a cell can assume (colors)\n",
    "* r:  number of neighbor cells taken into account (neighborhood = 2r+1)\n",
    "* i: initialization as center or random\n",
    "* x: size of CA space\n",
    "* y: number of generations\n",
    "* sub-table is defined with width (w), center (c), and skip (s)\n",
    "\n"
   ]
  },
  {
   "cell_type": "code",
   "execution_count": 70,
   "metadata": {
    "collapsed": false,
    "deletable": true,
    "editable": true
   },
   "outputs": [
    {
     "name": "stdout",
     "output_type": "stream",
     "text": [
      "      +     \n",
      "     +++    \n",
      "    ++  +   \n",
      "   ++ ++++  \n",
      "  ++  +   + \n",
      " ++ ++++ +++\n",
      " +  +    +  \n",
      "++++++  +++ \n",
      "+     +++   \n",
      "++   ++  + +\n",
      "  + ++ +++ +\n",
      "+++ +  +   +\n",
      "    +++++ ++\n",
      "+  ++     + \n",
      "++++ +   ++ \n",
      "+    ++ ++  \n",
      "++  ++  + ++\n",
      "  +++ +++ + \n",
      " ++   +   ++\n",
      " + + +++ ++ \n",
      "++ + +   + +\n",
      "   + ++ ++ +\n",
      "+ ++ +  +  +\n",
      "  +  +++++++\n",
      "++++++      \n",
      "+     +    +\n",
      " +   +++  ++\n",
      " ++ ++  +++ \n",
      "++  + +++  +\n",
      "  +++ +  +++\n",
      "+++   ++++  \n",
      "+  + ++   ++\n",
      " +++ + + ++ \n",
      "++   + + + +\n",
      "  + ++ + + +\n",
      "+++ +  + + +\n",
      "    ++++ + +\n",
      "+  ++    + +\n",
      " +++ +  ++ +\n",
      " +   ++++  +\n",
      " ++ ++   +++\n",
      " +  + + ++  \n",
      "+++++ + + + \n",
      "+     + + + \n",
      "++   ++ + + \n",
      "+ + ++  + + \n",
      "+ + + +++ + \n",
      "+ + + +   + \n",
      "+ + + ++ ++ \n",
      "+ + + +  +  \n",
      "+ + + ++++++\n",
      "  + + +     \n",
      " ++ + ++    \n",
      "++  + + +   \n",
      "+ +++ + ++ +\n",
      "  +   + +  +\n",
      "++++ ++ ++++\n",
      "     +  +   \n",
      "    ++++++  \n",
      "   ++     + \n",
      "  ++ +   +++\n",
      "+++  ++ ++  \n",
      "+  +++  + ++\n",
      " +++  +++ + \n",
      "++  +++   ++\n",
      "  +++  + ++ \n",
      " ++  +++ + +\n",
      " + +++   + +\n",
      " + +  + ++ +\n",
      " + ++++ +  +\n",
      " + +    ++++\n",
      " + ++  ++   \n",
      "++ + +++ +  \n",
      "+  + +   +++\n",
      " +++ ++ ++  \n",
      "++   +  + + \n",
      "+ + +++++ + \n",
      "+ + +     + \n",
      "+ + ++   ++ \n",
      "+ + + + ++  \n",
      "+ + + + + ++\n",
      "  + + + + + \n",
      " ++ + + + ++\n",
      " +  + + + + \n",
      "+++++ + + ++\n",
      "      + + + \n",
      "     ++ + ++\n",
      "+   ++  + + \n",
      "++ ++ +++ + \n",
      "+  +  +   + \n",
      "++++++++ ++ \n",
      "+        +  \n",
      "++      ++++\n",
      "  +    ++   \n",
      " +++  ++ +  \n",
      "++  +++  ++ \n",
      "+ +++  +++  \n",
      "+ +  +++  ++\n",
      "  ++++  +++ \n",
      " ++   +++  +\n",
      " + + ++  +++\n"
     ]
    }
   ],
   "source": [
    "a.gen(100)\n",
    "a.display()"
   ]
  },
  {
   "cell_type": "code",
   "execution_count": 77,
   "metadata": {
    "collapsed": false,
    "deletable": true,
    "editable": true
   },
   "outputs": [
    {
     "name": "stdout",
     "output_type": "stream",
     "text": [
      "[48, 52, 56, 60, 64, 68, 72, 76, 80, 84, 88, 92]\n",
      "[[ 0.  0.  0. ...,  0.  0.  0.]\n",
      " [ 0.  0.  0. ...,  0.  0.  0.]\n",
      " [ 0.  0.  0. ...,  0.  0.  0.]\n",
      " ..., \n",
      " [ 0.  0.  1. ...,  1.  1.  0.]\n",
      " [ 0.  1.  1. ...,  0.  0.  1.]\n",
      " [ 0.  1.  0. ...,  1.  1.  1.]]\n"
     ]
    }
   ],
   "source": [
    "x = a.getCells()\n",
    "x1 = np.array(x)\n",
    "#scale = range(60,72)\n",
    "#scale = range(48,84,3)\n",
    "scale = range(48,96,4)\n",
    "print scale\n",
    "print x1"
   ]
  },
  {
   "cell_type": "code",
   "execution_count": 78,
   "metadata": {
    "collapsed": false,
    "deletable": true,
    "editable": true
   },
   "outputs": [
    {
     "name": "stdout",
     "output_type": "stream",
     "text": [
      "[[72], [68, 72, 76], [64, 68, 80], [60, 64, 72, 76, 80, 84], [56, 60, 72, 88], [52, 56, 64, 68, 72, 76, 84, 88, 92], [52, 64, 84], [48, 52, 56, 60, 64, 68, 80, 84, 88], [48, 72, 76, 80], [48, 52, 68, 72, 84, 92], [56, 64, 68, 76, 80, 84, 92], [48, 52, 56, 64, 76, 92], [64, 68, 72, 76, 80, 88, 92], [48, 60, 64, 88], [48, 52, 56, 60, 68, 84, 88], [48, 68, 72, 80, 84], [48, 52, 64, 68, 80, 88, 92], [56, 60, 64, 72, 76, 80, 88], [52, 56, 72, 88, 92], [52, 60, 68, 72, 76, 84, 88], [48, 52, 60, 68, 84, 92], [60, 68, 72, 80, 84, 92], [48, 56, 60, 68, 80, 92], [56, 68, 72, 76, 80, 84, 88, 92], [48, 52, 56, 60, 64, 68], [48, 72, 92], [52, 68, 72, 76, 88, 92], [52, 56, 64, 68, 80, 84, 88], [48, 52, 64, 72, 76, 80, 92], [56, 60, 64, 72, 84, 88, 92], [48, 52, 56, 72, 76, 80, 84], [48, 60, 68, 72, 88, 92], [52, 56, 60, 68, 76, 84, 88], [48, 52, 68, 76, 84, 92], [56, 64, 68, 76, 84, 92], [48, 52, 56, 64, 76, 84, 92], [64, 68, 72, 76, 84, 92], [48, 60, 64, 84, 92], [52, 56, 60, 68, 80, 84, 92], [52, 68, 72, 76, 80, 92], [52, 56, 64, 68, 84, 88, 92], [52, 64, 72, 80, 84], [48, 52, 56, 60, 64, 72, 80, 88], [48, 72, 80, 88], [48, 52, 68, 72, 80, 88], [48, 56, 64, 68, 80, 88], [48, 56, 64, 72, 76, 80, 88], [48, 56, 64, 72, 88], [48, 56, 64, 72, 76, 84, 88], [48, 56, 64, 72, 84], [48, 56, 64, 72, 76, 80, 84, 88, 92], [56, 64, 72], [52, 56, 64, 72, 76], [48, 52, 64, 72, 80], [48, 56, 60, 64, 72, 80, 84, 92], [56, 72, 80, 92], [48, 52, 56, 60, 68, 72, 80, 84, 88, 92], [68, 80], [64, 68, 72, 76, 80, 84], [60, 64, 88], [56, 60, 68, 84, 88, 92], [48, 52, 56, 68, 72, 80, 84], [48, 60, 64, 68, 80, 88, 92], [52, 56, 60, 72, 76, 80, 88], [48, 52, 64, 68, 72, 88, 92], [56, 60, 64, 76, 84, 88], [52, 56, 68, 72, 76, 84, 92], [52, 60, 64, 68, 84, 92], [52, 60, 72, 80, 84, 92], [52, 60, 64, 68, 72, 80, 92], [52, 60, 80, 84, 88, 92], [52, 60, 64, 76, 80], [48, 52, 60, 68, 72, 76, 84], [48, 60, 68, 84, 88, 92], [52, 56, 60, 68, 72, 80, 84], [48, 52, 68, 80, 88], [48, 56, 64, 68, 72, 76, 80, 88], [48, 56, 64, 88], [48, 56, 64, 68, 84, 88], [48, 56, 64, 72, 80, 84], [48, 56, 64, 72, 80, 88, 92], [56, 64, 72, 80, 88], [52, 56, 64, 72, 80, 88, 92], [52, 64, 72, 80, 88], [48, 52, 56, 60, 64, 72, 80, 88, 92], [72, 80, 88], [68, 72, 80, 88, 92], [48, 64, 68, 80, 88], [48, 52, 60, 64, 72, 76, 80, 88], [48, 60, 72, 88], [48, 52, 56, 60, 64, 68, 72, 76, 84, 88], [48, 84], [48, 52, 80, 84, 88, 92], [56, 76, 80], [52, 56, 60, 72, 76, 84], [48, 52, 64, 68, 72, 84, 88], [48, 56, 60, 64, 76, 80, 84], [48, 56, 68, 72, 76, 88, 92], [56, 60, 64, 68, 80, 84, 88], [52, 56, 72, 76, 80, 92], [52, 60, 68, 72, 84, 88, 92]]\n"
     ]
    }
   ],
   "source": [
    "notes = []\n",
    "for i in range(shape(x1)[0]):\n",
    "    notes.append([scale[i] for i in find(x1[i] == 1.)])\n",
    "\n",
    "print notes"
   ]
  },
  {
   "cell_type": "code",
   "execution_count": 79,
   "metadata": {
    "collapsed": false,
    "deletable": true,
    "editable": true
   },
   "outputs": [],
   "source": [
    "scoreTmp = []\n",
    "start = 0.5\n",
    "dur = 0.4\n",
    "vel = 127\n",
    "pan = 60\n",
    "for i in range(shape(x1)[0]):\n",
    "    for j in range(len(notes[i])):\n",
    "        scoreTmp.append([start, dur, vel, notes[i][j], pan])\n",
    "    start = start + dur\n",
    "#print scoreTmp"
   ]
  },
  {
   "cell_type": "code",
   "execution_count": 80,
   "metadata": {
    "collapsed": false,
    "deletable": true,
    "editable": true
   },
   "outputs": [],
   "source": [
    "from athenaCL.libATH import midiTools\n",
    "\n",
    "trackTmp = (('Tmp', 0, None, scoreTmp),)\n",
    "\n",
    "m = midiTools.MidiScore(trackTmp)\n",
    "m.write('./tmp1.mid')"
   ]
  },
  {
   "cell_type": "markdown",
   "metadata": {
    "deletable": true,
    "editable": true
   },
   "source": [
    "Exercise:\n",
    "\n",
    "* Try replacing the scale with major, minor, pentatonic scale\n",
    "\n",
    "* Use 16 cells as a drum pattern and read it sequentially to created drum loop variations"
   ]
  }
 ],
 "metadata": {
  "kernelspec": {
   "display_name": "Python 2",
   "language": "python",
   "name": "python2"
  },
  "language_info": {
   "codemirror_mode": {
    "name": "ipython",
    "version": 2
   },
   "file_extension": ".py",
   "mimetype": "text/x-python",
   "name": "python",
   "nbconvert_exporter": "python",
   "pygments_lexer": "ipython2",
   "version": "2.7.13"
  }
 },
 "nbformat": 4,
 "nbformat_minor": 0
}
