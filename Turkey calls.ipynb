{
 "cells": [
  {
   "cell_type": "code",
   "execution_count": 39,
   "metadata": {},
   "outputs": [],
   "source": [
    "import numpy as np\n",
    "import pandas as pd \n",
    "import os\n",
    "#import seaborn as sns\n",
    "import matplotlib.pyplot as plt\n",
    "#import seaborn as sns\n",
    "#from tqdm import tqdm\n",
    "from sklearn.model_selection import train_test_split"
   ]
  },
  {
   "cell_type": "markdown",
   "metadata": {},
   "source": [
    "The data can be obtained from https://www.kaggle.com/c/dont-call-me-turkey"
   ]
  },
  {
   "cell_type": "code",
   "execution_count": 7,
   "metadata": {},
   "outputs": [
    {
     "name": "stdout",
     "output_type": "stream",
     "text": [
      "/home/jovyan/DeepAndShallowMusic\r\n"
     ]
    }
   ],
   "source": [
    "!pwd "
   ]
  },
  {
   "cell_type": "code",
   "execution_count": 9,
   "metadata": {},
   "outputs": [
    {
     "name": "stdout",
     "output_type": "stream",
     "text": [
      " audio_files\r\n",
      "'Audio SVD.ipynb'\r\n",
      " Chords_RBM.ipynb\r\n",
      " Data_Factorization-2.ipynb\r\n",
      " dont-call-me-turkey\r\n",
      "'Feature_Extraction (librosa) -1.ipynb'\r\n",
      " Filtering.ipynb\r\n",
      "'Finding_Structure (librosa)-3.ipynb'\r\n",
      " flow_tutorial.ipynb\r\n",
      " Fourier.ipynb\r\n",
      " gan_Chroma2Midi.ipynb\r\n",
      " GrammarMarkov.ipynb\r\n",
      " LZify.ipynb\r\n",
      " Midi-Audio-Lab.ipynb\r\n",
      " midi_manipulation.py\r\n",
      " midi_manipulation.pyc\r\n",
      " ML0120EN-1.1-Review-TensorFlow-Hello-World.ipynb\r\n",
      " ML0120EN-1.2-Exercise-LinearRegression-no-solutions.ipynb\r\n",
      " ML0120EN-1.2-Review-LinearRegressionwithTensorFlow.ipynb\r\n",
      " music21Intro.ipynb\r\n",
      "'PCA with AE.ipynb'\r\n",
      " Phasors.ipynb\r\n",
      " Pop_Music_Midi\r\n",
      " Pretty-Midi.ipynb\r\n",
      " Pretty-Midi-Librosa-Tutorial.ipynb\r\n",
      " Read_Audio.ipynb\r\n",
      " rnn_midi.ipynb\r\n",
      " sample.mid\r\n",
      " sample.wav\r\n",
      "'Spectrogram inversion.ipynb'\r\n",
      " Spectrogram.ipynb\r\n",
      "'Stacked AE - STFT.ipynb'\r\n",
      " Tacotron2_and_WaveNet_text_to_speech_demo.ipynb\r\n",
      " test\r\n",
      "'Turkey calls.ipynb'\r\n",
      " vae_midi.ipynb\r\n",
      " vmo_guided_music_synthesis.ipynb\r\n",
      "'VMO-Intro copy.ipynb'\r\n",
      " VMO-Intro.ipynb\r\n"
     ]
    }
   ],
   "source": [
    "#!ls"
   ]
  },
  {
   "cell_type": "code",
   "execution_count": 53,
   "metadata": {},
   "outputs": [],
   "source": [
    "#cd ./dont-call-me-turkey  #change to the directory where you put the data"
   ]
  },
  {
   "cell_type": "code",
   "execution_count": 13,
   "metadata": {},
   "outputs": [
    {
     "name": "stdout",
     "output_type": "stream",
     "text": [
      "model.h5  model.json  sample_submission.csv  test.json\ttrain.json\r\n"
     ]
    }
   ],
   "source": [
    "!ls ./dont-call-me-turkey"
   ]
  },
  {
   "cell_type": "markdown",
   "metadata": {},
   "source": [
    "Other possible pretrained embeddings: L3open, EdgeL3, YAMnet\n",
    "Can try also traditional audio features from librosa: spectrogram, melspect, mfcc"
   ]
  },
  {
   "cell_type": "code",
   "execution_count": 43,
   "metadata": {},
   "outputs": [],
   "source": [
    "from tensorflow.keras import Sequential\n",
    "from tensorflow.keras import optimizers\n",
    "from tensorflow.keras.preprocessing.sequence import pad_sequences\n",
    "from tensorflow.keras.models import Sequential,Model\n",
    "#from keras.layers import LSTM, Dense, Bidirectional, Input,Dropout,BatchNormalization,CuDNNLSTM, GRU, CuDNNGRU, Embedding, GlobalMaxPooling1D, GlobalAveragePooling1D, Flatten\n",
    "from tensorflow.keras.layers import LSTM, Dense, Bidirectional, Input,Dropout,BatchNormalization,LSTM, GRU, Embedding, GlobalMaxPooling1D, GlobalAveragePooling1D, Flatten\n",
    "from tensorflow.keras import backend as K\n",
    "#from tensorflow.keras.engine.topology import Layer\n",
    "from tensorflow.keras import initializers, regularizers, constraints\n",
    "from sklearn.model_selection import KFold, cross_val_score, train_test_split"
   ]
  },
  {
   "cell_type": "code",
   "execution_count": 44,
   "metadata": {},
   "outputs": [
    {
     "data": {
      "text/plain": [
       "(1195, 5)"
      ]
     },
     "metadata": {},
     "output_type": "display_data"
    }
   ],
   "source": [
    "train = pd.read_json('./dont-call-me-turkey/train.json')\n",
    "display(train.shape)"
   ]
  },
  {
   "cell_type": "code",
   "execution_count": 45,
   "metadata": {},
   "outputs": [
    {
     "data": {
      "text/plain": [
       "pandas.core.frame.DataFrame"
      ]
     },
     "execution_count": 45,
     "metadata": {},
     "output_type": "execute_result"
    }
   ],
   "source": [
    "type(train)"
   ]
  },
  {
   "cell_type": "code",
   "execution_count": 46,
   "metadata": {},
   "outputs": [
    {
     "data": {
      "text/html": [
       "<div>\n",
       "<style scoped>\n",
       "    .dataframe tbody tr th:only-of-type {\n",
       "        vertical-align: middle;\n",
       "    }\n",
       "\n",
       "    .dataframe tbody tr th {\n",
       "        vertical-align: top;\n",
       "    }\n",
       "\n",
       "    .dataframe thead th {\n",
       "        text-align: right;\n",
       "    }\n",
       "</style>\n",
       "<table border=\"1\" class=\"dataframe\">\n",
       "  <thead>\n",
       "    <tr style=\"text-align: right;\">\n",
       "      <th></th>\n",
       "      <th>audio_embedding</th>\n",
       "      <th>is_turkey</th>\n",
       "      <th>vid_id</th>\n",
       "      <th>end_time_seconds_youtube_clip</th>\n",
       "      <th>start_time_seconds_youtube_clip</th>\n",
       "    </tr>\n",
       "  </thead>\n",
       "  <tbody>\n",
       "    <tr>\n",
       "      <th>0</th>\n",
       "      <td>[[172, 34, 216, 110, 208, 46, 95, 66, 161, 125...</td>\n",
       "      <td>0</td>\n",
       "      <td>kDCk3hLIVXo</td>\n",
       "      <td>70</td>\n",
       "      <td>60</td>\n",
       "    </tr>\n",
       "    <tr>\n",
       "      <th>1</th>\n",
       "      <td>[[169, 20, 165, 102, 205, 62, 110, 103, 211, 1...</td>\n",
       "      <td>1</td>\n",
       "      <td>DPcGzqHoo7Y</td>\n",
       "      <td>40</td>\n",
       "      <td>30</td>\n",
       "    </tr>\n",
       "    <tr>\n",
       "      <th>2</th>\n",
       "      <td>[[148, 8, 138, 60, 237, 48, 121, 108, 145, 177...</td>\n",
       "      <td>1</td>\n",
       "      <td>7yM63MTHh5k</td>\n",
       "      <td>240</td>\n",
       "      <td>230</td>\n",
       "    </tr>\n",
       "    <tr>\n",
       "      <th>3</th>\n",
       "      <td>[[151, 0, 162, 88, 171, 71, 47, 90, 179, 190, ...</td>\n",
       "      <td>1</td>\n",
       "      <td>luG3RmUAxxM</td>\n",
       "      <td>520</td>\n",
       "      <td>510</td>\n",
       "    </tr>\n",
       "    <tr>\n",
       "      <th>4</th>\n",
       "      <td>[[162, 17, 187, 111, 211, 105, 92, 67, 203, 15...</td>\n",
       "      <td>0</td>\n",
       "      <td>PIm3cjxTpOk</td>\n",
       "      <td>10</td>\n",
       "      <td>0</td>\n",
       "    </tr>\n",
       "  </tbody>\n",
       "</table>\n",
       "</div>"
      ],
      "text/plain": [
       "                                     audio_embedding  is_turkey       vid_id  \\\n",
       "0  [[172, 34, 216, 110, 208, 46, 95, 66, 161, 125...          0  kDCk3hLIVXo   \n",
       "1  [[169, 20, 165, 102, 205, 62, 110, 103, 211, 1...          1  DPcGzqHoo7Y   \n",
       "2  [[148, 8, 138, 60, 237, 48, 121, 108, 145, 177...          1  7yM63MTHh5k   \n",
       "3  [[151, 0, 162, 88, 171, 71, 47, 90, 179, 190, ...          1  luG3RmUAxxM   \n",
       "4  [[162, 17, 187, 111, 211, 105, 92, 67, 203, 15...          0  PIm3cjxTpOk   \n",
       "\n",
       "   end_time_seconds_youtube_clip  start_time_seconds_youtube_clip  \n",
       "0                             70                               60  \n",
       "1                             40                               30  \n",
       "2                            240                              230  \n",
       "3                            520                              510  \n",
       "4                             10                                0  "
      ]
     },
     "execution_count": 46,
     "metadata": {},
     "output_type": "execute_result"
    }
   ],
   "source": [
    "train.head()"
   ]
  },
  {
   "cell_type": "code",
   "execution_count": 47,
   "metadata": {},
   "outputs": [],
   "source": [
    "train_train, train_val = train_test_split(train, random_state = 42)\n",
    "xtrain = [k for k in train_train['audio_embedding']]\n",
    "ytrain = train_train['is_turkey'].values\n",
    "xval = [k for k in train_val['audio_embedding']]\n",
    "yval = train_val['is_turkey'].values"
   ]
  },
  {
   "cell_type": "code",
   "execution_count": 48,
   "metadata": {},
   "outputs": [],
   "source": [
    "x_train = pad_sequences(xtrain)\n",
    "x_val = pad_sequences(xval, maxlen=10)\n",
    "y_train = np.asarray(ytrain)\n",
    "y_val = np.asarray(yval)"
   ]
  },
  {
   "cell_type": "code",
   "execution_count": 49,
   "metadata": {},
   "outputs": [
    {
     "data": {
      "text/plain": [
       "(10, 128)"
      ]
     },
     "execution_count": 49,
     "metadata": {},
     "output_type": "execute_result"
    }
   ],
   "source": [
    "mat = x_train[2]\n",
    "type(x_train)\n",
    "x_train[1].shape"
   ]
  },
  {
   "cell_type": "code",
   "execution_count": 50,
   "metadata": {},
   "outputs": [
    {
     "data": {
      "text/plain": [
       "<matplotlib.image.AxesImage at 0x7f02d532fd90>"
      ]
     },
     "execution_count": 50,
     "metadata": {},
     "output_type": "execute_result"
    },
    {
     "data": {
      "image/png": "[encoded data removed]",
      "text/plain": [
       "<Figure size 144x288 with 1 Axes>"
      ]
     },
     "metadata": {
      "needs_background": "light"
     },
     "output_type": "display_data"
    }
   ],
   "source": [
    "plt.figure(figsize=(2,4))\n",
    "plt.imshow(mat.T)"
   ]
  },
  {
   "cell_type": "code",
   "execution_count": 56,
   "metadata": {},
   "outputs": [
    {
     "name": "stdout",
     "output_type": "stream",
     "text": [
      "Model: \"sequential_3\"\n",
      "_________________________________________________________________\n",
      "Layer (type)                 Output Shape              Param #   \n",
      "=================================================================\n",
      "batch_normalization_3 (Batch (None, 10, 128)           512       \n",
      "_________________________________________________________________\n",
      "bidirectional_6 (Bidirection (None, 10, 256)           198144    \n",
      "_________________________________________________________________\n",
      "bidirectional_7 (Bidirection (None, 128)               123648    \n",
      "_________________________________________________________________\n",
      "flatten_3 (Flatten)          (None, 128)               0         \n",
      "_________________________________________________________________\n",
      "dense_3 (Dense)              (None, 1)                 129       \n",
      "=================================================================\n",
      "Total params: 322,433\n",
      "Trainable params: 322,177\n",
      "Non-trainable params: 256\n",
      "_________________________________________________________________\n",
      "None\n"
     ]
    }
   ],
   "source": [
    "model = Sequential()\n",
    "model.add(BatchNormalization(momentum=0.98,input_shape=(10, 128)))\n",
    "#model.add(Bidirectional(CuDNNGRU(128, return_sequences = True)))\n",
    "model.add(Bidirectional(GRU(128, return_sequences = True)))\n",
    "#model.add(Bidirectional(GRU(64, return_sequences = True)))\n",
    "model.add(Bidirectional(GRU(64, return_sequences = False)))\n",
    "model.add(Flatten())\n",
    "model.add(Dense(1,activation='sigmoid'))\n",
    "model.compile(loss='binary_crossentropy', optimizer = optimizers.Nadam(lr=0.001), metrics=['accuracy'])\n",
    "print(model.summary())"
   ]
  },
  {
   "cell_type": "code",
   "execution_count": 57,
   "metadata": {},
   "outputs": [],
   "source": [
    "Winit = model.get_weights()"
   ]
  },
  {
   "cell_type": "code",
   "execution_count": 58,
   "metadata": {},
   "outputs": [
    {
     "name": "stdout",
     "output_type": "stream",
     "text": [
      "Saved model to disk\n"
     ]
    }
   ],
   "source": [
    "# serialize model to JSON\n",
    "model_json = model.to_json()\n",
    "with open(\"model.json\", \"w\") as json_file:\n",
    "    json_file.write(model_json)\n",
    "# serialize weights to HDF5\n",
    "model.save_weights(\"model.h5\")\n",
    "print(\"Saved model to disk\")"
   ]
  },
  {
   "cell_type": "code",
   "execution_count": 59,
   "metadata": {},
   "outputs": [
    {
     "name": "stdout",
     "output_type": "stream",
     "text": [
      "Train on 896 samples, validate on 299 samples\n",
      "Epoch 1/16\n",
      "896/896 - 12s - loss: 0.5735 - accuracy: 0.7121 - val_loss: 0.5784 - val_accuracy: 0.7324\n",
      "Epoch 2/16\n",
      "896/896 - 2s - loss: 0.3285 - accuracy: 0.9230 - val_loss: 0.4754 - val_accuracy: 0.8395\n",
      "Epoch 3/16\n",
      "896/896 - 2s - loss: 0.2307 - accuracy: 0.9442 - val_loss: 0.3959 - val_accuracy: 0.8729\n",
      "Epoch 4/16\n",
      "896/896 - 2s - loss: 0.1749 - accuracy: 0.9520 - val_loss: 0.3362 - val_accuracy: 0.8863\n",
      "Epoch 5/16\n",
      "896/896 - 2s - loss: 0.1395 - accuracy: 0.9598 - val_loss: 0.2889 - val_accuracy: 0.8930\n",
      "Epoch 6/16\n",
      "896/896 - 2s - loss: 0.1201 - accuracy: 0.9643 - val_loss: 0.2582 - val_accuracy: 0.8896\n",
      "Epoch 7/16\n",
      "896/896 - 2s - loss: 0.1036 - accuracy: 0.9710 - val_loss: 0.2341 - val_accuracy: 0.8963\n",
      "Epoch 8/16\n",
      "896/896 - 2s - loss: 0.0920 - accuracy: 0.9699 - val_loss: 0.2188 - val_accuracy: 0.8963\n",
      "Epoch 9/16\n",
      "896/896 - 2s - loss: 0.0814 - accuracy: 0.9732 - val_loss: 0.2065 - val_accuracy: 0.9030\n",
      "Epoch 10/16\n",
      "896/896 - 2s - loss: 0.0720 - accuracy: 0.9766 - val_loss: 0.2078 - val_accuracy: 0.9097\n",
      "Epoch 11/16\n",
      "896/896 - 2s - loss: 0.0624 - accuracy: 0.9799 - val_loss: 0.2083 - val_accuracy: 0.9064\n",
      "Epoch 12/16\n",
      "896/896 - 1s - loss: 0.0538 - accuracy: 0.9844 - val_loss: 0.2048 - val_accuracy: 0.9097\n",
      "Epoch 13/16\n",
      "896/896 - 2s - loss: 0.0537 - accuracy: 0.9844 - val_loss: 0.2676 - val_accuracy: 0.8729\n",
      "Epoch 14/16\n",
      "896/896 - 1s - loss: 0.0423 - accuracy: 0.9911 - val_loss: 0.2516 - val_accuracy: 0.8863\n",
      "Epoch 15/16\n",
      "896/896 - 2s - loss: 0.0358 - accuracy: 0.9911 - val_loss: 0.2714 - val_accuracy: 0.8729\n",
      "Epoch 16/16\n",
      "896/896 - 2s - loss: 0.0284 - accuracy: 0.9955 - val_loss: 0.2359 - val_accuracy: 0.8963\n"
     ]
    }
   ],
   "source": [
    "#fit on a portion of the training data, and validate on the rest\n",
    "history = model.fit(x_train, y_train,batch_size=512, epochs=16, validation_data=[x_val, y_val],verbose = 2)"
   ]
  },
  {
   "cell_type": "code",
   "execution_count": 60,
   "metadata": {},
   "outputs": [
    {
     "data": {
      "text/plain": [
       "dict_keys(['loss', 'accuracy', 'val_loss', 'val_accuracy'])"
      ]
     },
     "execution_count": 60,
     "metadata": {},
     "output_type": "execute_result"
    }
   ],
   "source": [
    "history_dict=history.history\n",
    "history_dict.keys()"
   ]
  },
  {
   "cell_type": "code",
   "execution_count": 61,
   "metadata": {},
   "outputs": [],
   "source": [
    "def plot_history(history):\n",
    "    history_dict=history.history\n",
    "    history_dict.keys()\n",
    "    loss_values = history_dict['loss']\n",
    "    val_loss_values = history_dict['val_loss']\n",
    "    epochs = range(1, len(loss_values) + 1)\n",
    "    # \"bo\" is for \"blue dot\"\n",
    "    plt.plot(epochs, loss_values, '-bo')\n",
    "    # b+ is for \"blue crosses\"\n",
    "    plt.plot(epochs, val_loss_values, '-b+')\n",
    "    plt.xlabel('Epochs')\n",
    "    plt.ylabel('Loss')\n",
    "    plt.figure()\n",
    "    acc_values = history_dict['accuracy']\n",
    "    val_acc_values = history_dict['val_accuracy']\n",
    "    plt.plot(epochs, acc_values, '-bo')\n",
    "    plt.plot(epochs, val_acc_values, '-b+')\n",
    "    plt.xlabel('Epochs')\n",
    "    plt.ylabel('Accuracy')"
   ]
  },
  {
   "cell_type": "code",
   "execution_count": 62,
   "metadata": {},
   "outputs": [
    {
     "data": {
      "image/png": "[encoded data removed]",
      "text/plain": [
       "<Figure size 432x288 with 1 Axes>"
      ]
     },
     "metadata": {
      "needs_background": "light"
     },
     "output_type": "display_data"
    },
    {
     "data": {
      "image/png": "[encoded data removed]",
      "text/plain": [
       "<Figure size 432x288 with 1 Axes>"
      ]
     },
     "metadata": {
      "needs_background": "light"
     },
     "output_type": "display_data"
    }
   ],
   "source": [
    "plot_history(history)"
   ]
  },
  {
   "cell_type": "code",
   "execution_count": 63,
   "metadata": {},
   "outputs": [],
   "source": [
    "if 0:\n",
    "    # load json and create model\n",
    "    json_file = open('model.json', 'r')\n",
    "    loaded_model_json = json_file.read()\n",
    "    json_file.close()\n",
    "    loaded_model = model_from_json(loaded_model_json)\n",
    "    # load weights into new model\n",
    "    loaded_model.load_weights(\"model.h5\")\n",
    "    print(\"Loaded model from disk\")\n"
   ]
  },
  {
   "cell_type": "markdown",
   "metadata": {},
   "source": [
    "### Early Stopping "
   ]
  },
  {
   "cell_type": "code",
   "execution_count": 64,
   "metadata": {},
   "outputs": [],
   "source": [
    "model.set_weights(Winit)"
   ]
  },
  {
   "cell_type": "code",
   "execution_count": 66,
   "metadata": {},
   "outputs": [
    {
     "name": "stdout",
     "output_type": "stream",
     "text": [
      "Train on 896 samples, validate on 299 samples\n",
      "Epoch 1/16\n",
      "896/896 - 2s - loss: 0.5351 - accuracy: 0.7310 - val_loss: 0.5011 - val_accuracy: 0.8127\n",
      "Epoch 2/16\n",
      "896/896 - 2s - loss: 0.2342 - accuracy: 0.9453 - val_loss: 0.3913 - val_accuracy: 0.8863\n",
      "Epoch 3/16\n",
      "896/896 - 2s - loss: 0.1580 - accuracy: 0.9587 - val_loss: 0.3253 - val_accuracy: 0.8796\n",
      "Epoch 4/16\n",
      "896/896 - 2s - loss: 0.1359 - accuracy: 0.9576 - val_loss: 0.2944 - val_accuracy: 0.8896\n",
      "Epoch 5/16\n",
      "896/896 - 1s - loss: 0.1048 - accuracy: 0.9665 - val_loss: 0.2462 - val_accuracy: 0.9130\n",
      "Epoch 6/16\n",
      "896/896 - 2s - loss: 0.0885 - accuracy: 0.9754 - val_loss: 0.2250 - val_accuracy: 0.9130\n",
      "Epoch 7/16\n",
      "896/896 - 2s - loss: 0.0762 - accuracy: 0.9777 - val_loss: 0.2174 - val_accuracy: 0.8997\n",
      "Epoch 8/16\n",
      "896/896 - 2s - loss: 0.0732 - accuracy: 0.9788 - val_loss: 0.1993 - val_accuracy: 0.9197\n",
      "Epoch 9/16\n",
      "896/896 - 2s - loss: 0.0578 - accuracy: 0.9844 - val_loss: 0.1949 - val_accuracy: 0.9097\n",
      "Epoch 10/16\n",
      "896/896 - 1s - loss: 0.0474 - accuracy: 0.9866 - val_loss: 0.1875 - val_accuracy: 0.9197\n",
      "Epoch 11/16\n",
      "896/896 - 2s - loss: 0.0390 - accuracy: 0.9911 - val_loss: 0.1898 - val_accuracy: 0.9231\n",
      "Epoch 12/16\n",
      "896/896 - 2s - loss: 0.0329 - accuracy: 0.9933 - val_loss: 0.1911 - val_accuracy: 0.9231\n",
      "Epoch 13/16\n",
      "Restoring model weights from the end of the best epoch.\n",
      "896/896 - 1s - loss: 0.0268 - accuracy: 0.9955 - val_loss: 0.2110 - val_accuracy: 0.9064\n",
      "Epoch 00013: early stopping\n"
     ]
    }
   ],
   "source": [
    "from tensorflow.keras.callbacks import EarlyStopping, ModelCheckpoint, ReduceLROnPlateau\n",
    "early_stop = EarlyStopping(monitor='val_loss', verbose=1, patience=3,  restore_best_weights=True)\n",
    "\n",
    "history = model.fit(x_train, y_train,batch_size=512, epochs=16, validation_data=[x_val, y_val],verbose = 2,callbacks=[early_stop])"
   ]
  },
  {
   "cell_type": "code",
   "execution_count": 67,
   "metadata": {},
   "outputs": [
    {
     "data": {
      "image/png": "[encoded data removed]",
      "text/plain": [
       "<Figure size 432x288 with 1 Axes>"
      ]
     },
     "metadata": {
      "needs_background": "light"
     },
     "output_type": "display_data"
    },
    {
     "data": {
      "image/png": "[encoded data removed]",
      "text/plain": [
       "<Figure size 432x288 with 1 Axes>"
      ]
     },
     "metadata": {
      "needs_background": "light"
     },
     "output_type": "display_data"
    }
   ],
   "source": [
    "plot_history(history)"
   ]
  },
  {
   "cell_type": "markdown",
   "metadata": {},
   "source": [
    "### Reduce Learning Rate"
   ]
  },
  {
   "cell_type": "code",
   "execution_count": 68,
   "metadata": {},
   "outputs": [],
   "source": [
    "model.set_weights(Winit)"
   ]
  },
  {
   "cell_type": "code",
   "execution_count": 69,
   "metadata": {},
   "outputs": [
    {
     "name": "stdout",
     "output_type": "stream",
     "text": [
      "Train on 896 samples, validate on 299 samples\n",
      "Epoch 1/16\n",
      "896/896 - 2s - loss: 0.5370 - accuracy: 0.7076 - val_loss: 0.4904 - val_accuracy: 0.8127\n",
      "Epoch 2/16\n",
      "896/896 - 1s - loss: 0.2198 - accuracy: 0.9453 - val_loss: 0.3816 - val_accuracy: 0.8829\n",
      "Epoch 3/16\n",
      "896/896 - 2s - loss: 0.1512 - accuracy: 0.9542 - val_loss: 0.3178 - val_accuracy: 0.8796\n",
      "Epoch 4/16\n",
      "896/896 - 2s - loss: 0.1185 - accuracy: 0.9643 - val_loss: 0.2698 - val_accuracy: 0.8997\n",
      "Epoch 5/16\n",
      "896/896 - 2s - loss: 0.1024 - accuracy: 0.9643 - val_loss: 0.2416 - val_accuracy: 0.9030\n",
      "Epoch 6/16\n",
      "896/896 - 2s - loss: 0.0884 - accuracy: 0.9688 - val_loss: 0.2234 - val_accuracy: 0.9064\n",
      "Epoch 7/16\n",
      "896/896 - 2s - loss: 0.0734 - accuracy: 0.9777 - val_loss: 0.2181 - val_accuracy: 0.8997\n",
      "Epoch 8/16\n",
      "\n",
      "Epoch 00008: ReduceLROnPlateau reducing learning rate to 0.00010000000474974513.\n",
      "896/896 - 2s - loss: 0.0643 - accuracy: 0.9777 - val_loss: 0.2061 - val_accuracy: 0.8997\n",
      "Epoch 9/16\n",
      "896/896 - 1s - loss: 0.0535 - accuracy: 0.9844 - val_loss: 0.2035 - val_accuracy: 0.9030\n",
      "Epoch 10/16\n",
      "\n",
      "Epoch 00010: ReduceLROnPlateau reducing learning rate to 1.0000000474974514e-05.\n",
      "896/896 - 2s - loss: 0.0525 - accuracy: 0.9833 - val_loss: 0.2011 - val_accuracy: 0.9064\n",
      "Epoch 11/16\n",
      "896/896 - 2s - loss: 0.0512 - accuracy: 0.9877 - val_loss: 0.1994 - val_accuracy: 0.9097\n",
      "Epoch 12/16\n",
      "896/896 - 1s - loss: 0.0510 - accuracy: 0.9844 - val_loss: 0.1977 - val_accuracy: 0.9164\n",
      "Epoch 13/16\n",
      "896/896 - 2s - loss: 0.0530 - accuracy: 0.9855 - val_loss: 0.1963 - val_accuracy: 0.9164\n",
      "Epoch 14/16\n",
      "896/896 - 2s - loss: 0.0516 - accuracy: 0.9866 - val_loss: 0.1951 - val_accuracy: 0.9197\n",
      "Epoch 15/16\n",
      "896/896 - 2s - loss: 0.0524 - accuracy: 0.9855 - val_loss: 0.1939 - val_accuracy: 0.9164\n",
      "Epoch 16/16\n",
      "\n",
      "Epoch 00016: ReduceLROnPlateau reducing learning rate to 1.0000000656873453e-06.\n",
      "896/896 - 2s - loss: 0.0521 - accuracy: 0.9855 - val_loss: 0.1928 - val_accuracy: 0.9130\n"
     ]
    }
   ],
   "source": [
    "#early_stop = EarlyStopping(monitor='val_loss', verbose=1, patience=3,  restore_best_weights=True)\n",
    "reduce_lr = ReduceLROnPlateau(monitor='val_accuracy', factor=0.1, patience=2, verbose=1, min_lr=1e-8)\n",
    "\n",
    "history = model.fit(x_train, y_train,batch_size=512, epochs=16, validation_data=[x_val, y_val],verbose = 2,callbacks=[reduce_lr,early_stop])"
   ]
  },
  {
   "cell_type": "code",
   "execution_count": 70,
   "metadata": {},
   "outputs": [
    {
     "data": {
      "image/png": "[encoded data removed]",
      "text/plain": [
       "<Figure size 432x288 with 1 Axes>"
      ]
     },
     "metadata": {
      "needs_background": "light"
     },
     "output_type": "display_data"
    },
    {
     "data": {
      "image/png": "[encoded data removed]",
      "text/plain": [
       "<Figure size 432x288 with 1 Axes>"
      ]
     },
     "metadata": {
      "needs_background": "light"
     },
     "output_type": "display_data"
    }
   ],
   "source": [
    "plot_history(history)"
   ]
  },
  {
   "cell_type": "markdown",
   "metadata": {},
   "source": [
    "### ROC"
   ]
  },
  {
   "cell_type": "code",
   "execution_count": 71,
   "metadata": {},
   "outputs": [],
   "source": [
    "from sklearn.metrics import roc_curve\n",
    "y_pred = model.predict(x_val).ravel()\n",
    "fpr, tpr, thresholds = roc_curve(yval, y_pred)"
   ]
  },
  {
   "cell_type": "code",
   "execution_count": 72,
   "metadata": {},
   "outputs": [
    {
     "name": "stderr",
     "output_type": "stream",
     "text": [
      "No handles with labels found to put in legend.\n"
     ]
    },
    {
     "data": {
      "text/plain": [
       "<matplotlib.legend.Legend at 0x7f024c3b89d0>"
      ]
     },
     "execution_count": 72,
     "metadata": {},
     "output_type": "execute_result"
    },
    {
     "data": {
      "image/png": "[encoded data removed]",
      "text/plain": [
       "<Figure size 432x288 with 1 Axes>"
      ]
     },
     "metadata": {
      "needs_background": "light"
     },
     "output_type": "display_data"
    }
   ],
   "source": [
    "plt.plot([0, 1], [0, 1], 'k--')\n",
    "plt.plot(fpr, tpr) # label='Keras (area = {:.3f})'.format(auc_keras))\n",
    "#plt.plot(fpr_rf, tpr_rf, label='RF (area = {:.3f})'.format(auc_rf))\n",
    "plt.xlabel('False positive rate')\n",
    "plt.ylabel('True positive rate')\n",
    "plt.title('ROC curve')\n",
    "plt.legend(loc='best')"
   ]
  },
  {
   "cell_type": "code",
   "execution_count": 73,
   "metadata": {},
   "outputs": [
    {
     "name": "stdout",
     "output_type": "stream",
     "text": [
      "For threshold 0.32230484 we get: tpr:  0.9014084507042254 fpr:  0.044585987261146494\n"
     ]
    },
    {
     "data": {
      "image/png": "[encoded data removed]",
      "text/plain": [
       "<Figure size 432x288 with 1 Axes>"
      ]
     },
     "metadata": {
      "needs_background": "light"
     },
     "output_type": "display_data"
    }
   ],
   "source": [
    "ind = [i for i, val in enumerate(tpr) if val>0.5] \n",
    "plt.plot(thresholds[ind],tpr[ind])\n",
    "#plt.plot(fpr_rf, tpr_rf, label='RF (area = {:.3f})'.format(auc_rf))\n",
    "plt.xlabel('Threshold')\n",
    "plt.ylabel('True positive rate')\n",
    "plt.grid(b=True)\n",
    "\n",
    "tpr_percentage = 0.90\n",
    "indval = [i for i, val in enumerate(tpr) if val>=tpr_percentage]\n",
    "print(\"For threshold\", thresholds[indval[0]], \"we get: tpr: \",tpr[indval[0]], \"fpr: \", fpr[indval[0]])\n",
    "threshold_percentage = thresholds[indval[0]]"
   ]
  },
  {
   "cell_type": "code",
   "execution_count": 74,
   "metadata": {},
   "outputs": [
    {
     "name": "stdout",
     "output_type": "stream",
     "text": [
      "Confusion Matrix: \n",
      "  [[150   7]\n",
      " [ 14 128]]\n",
      "tpr from Confusion Matrix: 0.9014084507042254\n"
     ]
    }
   ],
   "source": [
    "#jdemonstrate the concept of tpr in terms of confusion matrix\n",
    "from sklearn.metrics import confusion_matrix\n",
    "yres = np.zeros(np.shape(yval))\n",
    "yind = [i for i, res in enumerate(y_pred) if res >= threshold_percentage]\n",
    "yres[yind] = 1\n",
    "conf_mat = confusion_matrix(yval, yres)\n",
    "tn, fp, fn, tp = conf_mat.ravel()\n",
    "print(\"Confusion Matrix: \\n \", conf_mat)\n",
    "print(\"tpr from Confusion Matrix:\", tp/(tp+fn))"
   ]
  },
  {
   "attachments": {
    "1_6Vy8J9kL_iXZeAh5KrZgCw.png": {
     "image/png": "[encoded data removed]"
    }
   },
   "cell_type": "markdown",
   "metadata": {},
   "source": [
    "#### About differences between accuracy and ROC check \n",
    "\n",
    "![1_6Vy8J9kL_iXZeAh5KrZgCw.png](attachment:1_6Vy8J9kL_iXZeAh5KrZgCw.png)\n",
    "\n",
    "\n",
    "https://towardsdatascience.com/understanding-data-science-classification-metrics-in-scikit-learn-in-python-3bc336865019"
   ]
  },
  {
   "cell_type": "markdown",
   "metadata": {},
   "source": [
    "### Classifier with alternative threshold"
   ]
  },
  {
   "cell_type": "code",
   "execution_count": 76,
   "metadata": {},
   "outputs": [
    {
     "data": {
      "text/html": [
       "<div>\n",
       "<style scoped>\n",
       "    .dataframe tbody tr th:only-of-type {\n",
       "        vertical-align: middle;\n",
       "    }\n",
       "\n",
       "    .dataframe tbody tr th {\n",
       "        vertical-align: top;\n",
       "    }\n",
       "\n",
       "    .dataframe thead th {\n",
       "        text-align: right;\n",
       "    }\n",
       "</style>\n",
       "<table border=\"1\" class=\"dataframe\">\n",
       "  <thead>\n",
       "    <tr style=\"text-align: right;\">\n",
       "      <th></th>\n",
       "      <th>audio_embedding</th>\n",
       "      <th>vid_id</th>\n",
       "      <th>end_time_seconds_youtube_clip</th>\n",
       "      <th>start_time_seconds_youtube_clip</th>\n",
       "    </tr>\n",
       "  </thead>\n",
       "  <tbody>\n",
       "    <tr>\n",
       "      <th>0</th>\n",
       "      <td>[[177, 20, 226, 132, 198, 81, 111, 59, 132, 18...</td>\n",
       "      <td>pyKh38FXD3E</td>\n",
       "      <td>10</td>\n",
       "      <td>0</td>\n",
       "    </tr>\n",
       "    <tr>\n",
       "      <th>1</th>\n",
       "      <td>[[169, 21, 204, 161, 195, 72, 60, 39, 152, 184...</td>\n",
       "      <td>THhP1idrWXA</td>\n",
       "      <td>40</td>\n",
       "      <td>30</td>\n",
       "    </tr>\n",
       "    <tr>\n",
       "      <th>2</th>\n",
       "      <td>[[165, 13, 198, 141, 199, 81, 173, 54, 119, 11...</td>\n",
       "      <td>jsw3T6GY2Nw</td>\n",
       "      <td>40</td>\n",
       "      <td>30</td>\n",
       "    </tr>\n",
       "    <tr>\n",
       "      <th>3</th>\n",
       "      <td>[[167, 18, 188, 159, 198, 63, 156, 36, 179, 22...</td>\n",
       "      <td>nFkXTMHcjMU</td>\n",
       "      <td>24</td>\n",
       "      <td>14</td>\n",
       "    </tr>\n",
       "    <tr>\n",
       "      <th>4</th>\n",
       "      <td>[[178, 32, 181, 100, 198, 46, 82, 83, 136, 227...</td>\n",
       "      <td>Au8g9kAlrLQ</td>\n",
       "      <td>40</td>\n",
       "      <td>30</td>\n",
       "    </tr>\n",
       "  </tbody>\n",
       "</table>\n",
       "</div>"
      ],
      "text/plain": [
       "                                     audio_embedding       vid_id  \\\n",
       "0  [[177, 20, 226, 132, 198, 81, 111, 59, 132, 18...  pyKh38FXD3E   \n",
       "1  [[169, 21, 204, 161, 195, 72, 60, 39, 152, 184...  THhP1idrWXA   \n",
       "2  [[165, 13, 198, 141, 199, 81, 173, 54, 119, 11...  jsw3T6GY2Nw   \n",
       "3  [[167, 18, 188, 159, 198, 63, 156, 36, 179, 22...  nFkXTMHcjMU   \n",
       "4  [[178, 32, 181, 100, 198, 46, 82, 83, 136, 227...  Au8g9kAlrLQ   \n",
       "\n",
       "   end_time_seconds_youtube_clip  start_time_seconds_youtube_clip  \n",
       "0                             10                                0  \n",
       "1                             40                               30  \n",
       "2                             40                               30  \n",
       "3                             24                               14  \n",
       "4                             40                               30  "
      ]
     },
     "execution_count": 76,
     "metadata": {},
     "output_type": "execute_result"
    }
   ],
   "source": [
    "test = pd.read_json('./dont-call-me-turkey/test.json')\n",
    "test.head()"
   ]
  },
  {
   "cell_type": "code",
   "execution_count": 77,
   "metadata": {},
   "outputs": [],
   "source": [
    "xtest = [k for k in test['audio_embedding']]\n",
    "x_test = pad_sequences(xtest)"
   ]
  },
  {
   "cell_type": "code",
   "execution_count": 78,
   "metadata": {},
   "outputs": [
    {
     "data": {
      "text/plain": [
       "array([0.00283039], dtype=float32)"
      ]
     },
     "execution_count": 78,
     "metadata": {},
     "output_type": "execute_result"
    }
   ],
   "source": [
    "results = model.predict(np.array(x_test))\n",
    "results[0]"
   ]
  },
  {
   "cell_type": "code",
   "execution_count": 79,
   "metadata": {},
   "outputs": [
    {
     "name": "stdout",
     "output_type": "stream",
     "text": [
      "0 : Don't call me turkey\n",
      "1 : Don't call me turkey\n",
      "2 : Don't call me turkey\n",
      "3 : Don't call me turkey\n",
      "4 : Call me turkey\n",
      "5 : Don't call me turkey\n",
      "6 : Don't call me turkey\n",
      "7 : Don't call me turkey\n",
      "8 : Call me turkey\n",
      "9 : Call me turkey\n"
     ]
    }
   ],
   "source": [
    "#yres = [1 for i, res in enumerate(results) if res > threshold_percentage]\n",
    "\n",
    "for i, res in enumerate(results[0:10]):\n",
    "    if res > threshold_percentage:\n",
    "        print(i, ': Call me turkey')\n",
    "    else:\n",
    "        print(i, ': Don\\'t call me turkey')\n",
    "        "
   ]
  },
  {
   "cell_type": "code",
   "execution_count": null,
   "metadata": {},
   "outputs": [],
   "source": []
  }
 ],
 "metadata": {
  "kernelspec": {
   "display_name": "Python 3",
   "language": "python",
   "name": "python3"
  },
  "language_info": {
   "codemirror_mode": {
    "name": "ipython",
    "version": 3
   },
   "file_extension": ".py",
   "mimetype": "text/x-python",
   "name": "python",
   "nbconvert_exporter": "python",
   "pygments_lexer": "ipython3",
   "version": "3.7.6"
  }
 },
 "nbformat": 4,
 "nbformat_minor": 2
}
