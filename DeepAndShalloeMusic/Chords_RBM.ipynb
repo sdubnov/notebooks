{
 "cells": [
  {
   "cell_type": "code",
   "execution_count": 155,
   "metadata": {
    "collapsed": false,
    "deletable": true,
    "editable": true
   },
   "outputs": [],
   "source": [
    "import midi_manipulation\n",
    "import numpy as np"
   ]
  },
  {
   "cell_type": "code",
   "execution_count": 156,
   "metadata": {
    "collapsed": false,
    "deletable": true,
    "editable": true
   },
   "outputs": [
    {
     "name": "stdout",
     "output_type": "stream",
     "text": [
      "(1072, 156)\n"
     ]
    }
   ],
   "source": [
    "f = 'Naruto Shippuden OP 16 COMP.mid'\n",
    "song = np.array(midi_manipulation.midiToNoteStateMatrix(f))\n",
    "print np.shape(song)"
   ]
  },
  {
   "cell_type": "code",
   "execution_count": 157,
   "metadata": {
    "collapsed": false,
    "deletable": true,
    "editable": true
   },
   "outputs": [
    {
     "data": {
      "text/plain": [
       "<matplotlib.image.AxesImage at 0x12919ca10>"
      ]
     },
     "execution_count": 157,
     "metadata": {},
     "output_type": "execute_result"
    },
    {
     "data": {
      "image/png": "[encoded data removed]",
      "text/plain": [
       "<matplotlib.figure.Figure at 0x12f2f3710>"
      ]
     },
     "metadata": {},
     "output_type": "display_data"
    }
   ],
   "source": [
    "%matplotlib inline\n",
    "import matplotlib.pyplot as plt\n",
    "fig = plt.figure(figsize=(10, 10))\n",
    "plt.imshow(song.T)"
   ]
  },
  {
   "cell_type": "code",
   "execution_count": 158,
   "metadata": {
    "collapsed": false,
    "deletable": true,
    "editable": true
   },
   "outputs": [
    {
     "name": "stdout",
     "output_type": "stream",
     "text": [
      "78\n",
      "15600\n"
     ]
    }
   ],
   "source": [
    "import tensorflow as tf\n",
    "\n",
    "lowest_note = midi_manipulation.lowerBound\n",
    "highest_note = midi_manipulation.upperBound\n",
    "note_range = highest_note-lowest_note\n",
    "print(note_range)\n",
    "\n",
    "num_timesteps  = 100 #Timesteps in Music\n",
    "n_visible      = 2*note_range*num_timesteps  #Num Visible Layers\n",
    "n_hidden       = 300 #Num Hidden Layers\n",
    "print(n_visible)\n",
    "\n",
    "num_epochs = 400  #Num Epoch itterations\n",
    "batch_size = 50   #Num Batch Size\n",
    "lr         = tf.constant(0.100, tf.float32) #Learning rate, just messed around with it.\n",
    "\n",
    "x  = tf.placeholder(tf.float32, [None, n_visible], name=\"x\") #The placeholder variable that holds our data\n",
    "W  = tf.Variable(tf.random_normal([n_visible, n_hidden], 0.01), name=\"W\") #The weight matrix that stores the edge weights\n",
    "bh = tf.Variable(tf.zeros([1, n_hidden],  tf.float32, name=\"bh\")) #The bias vector for the hidden layer\n",
    "bv = tf.Variable(tf.zeros([1, n_visible],  tf.float32, name=\"bv\")) #The bias vector for the visible layer"
   ]
  },
  {
   "cell_type": "code",
   "execution_count": 159,
   "metadata": {
    "collapsed": false,
    "deletable": true,
    "editable": true
   },
   "outputs": [],
   "source": [
    "#This function lets us easily sample from a vector of probabilities\n",
    "def sample(probs):\n",
    "    #Takes in a vector of probabilities, and returns a random vector of 0s and 1s sampled from the input vector\n",
    "    return tf.floor(probs + tf.random_uniform(tf.shape(probs), 0, 1))\n",
    "\n",
    "from tensorflow.python.ops import control_flow_ops\n",
    "\n",
    "#This function runs the gibbs chain.\n",
    "def gibbs_sample(k):\n",
    "#    x_log = []   #this is for testing purposes to see if iterations change (or converge?)   \n",
    "\n",
    "    def gibbs_step(count, k, xk):\n",
    "        hk = sample(tf.nn.relu(tf.matmul(xk, W) + bh)) #Propagate the visible values to sample the hidden values\n",
    "        xk = sample(tf.nn.relu(tf.matmul(hk, tf.transpose(W)) + bv)) #Propagate the hidden values to sample the visible values\n",
    "        return count+1, k, xk\n",
    "\n",
    "#    ct = tf.constant(0) #counter\n",
    "#    [_, _, x_sample] = control_flow_ops.while_loop(lambda count, num_iter, *args: count < num_iter,\n",
    "#                                         gibbs_step, [ct, tf.constant(k), x])\n",
    "    \n",
    "    ct = 0\n",
    "    while ct < k:\n",
    "        [ct, k, x_sample] = gibbs_step(ct,k, x) \n",
    "#        x_log.append(x_sample)    \n",
    "        print('gibbs iteration {}'.format(ct))\n",
    "\n",
    "    # Stops tensorflow from propagating gradients back through the gibbs step\n",
    "    x_sample = tf.stop_gradient(x_sample)\n",
    "    return x_sample #x_log"
   ]
  },
  {
   "cell_type": "code",
   "execution_count": 160,
   "metadata": {
    "collapsed": false,
    "deletable": true,
    "editable": true
   },
   "outputs": [],
   "source": [
    "#The sample of x\n",
    "x_sample = gibbs_sample(1)\n",
    "#The sample of the hidden nodes, starting from the visible state of x\n",
    "h = sample(tf.nn.relu(tf.matmul(x, W) + bh))\n",
    "#The sample of the hidden nodes, starting from the visible state of x_sample\n",
    "h_sample = sample(tf.nn.relu(tf.matmul(x_sample, W) + bh))\n",
    "\n",
    "#Next, we update the values of W, bh, and bv, based on the difference between the samples that we drew and the original values\n",
    "size_bt = tf.cast(tf.shape(x)[0], tf.float32)\n",
    "W_adder  = tf.multiply(lr/size_bt, tf.subtract(tf.matmul(tf.transpose(x), h), tf.matmul(tf.transpose(x_sample), h_sample)))\n",
    "bv_adder = tf.multiply(lr/size_bt, tf.reduce_sum(tf.subtract(x, x_sample), 0, True))\n",
    "bh_adder = tf.multiply(lr/size_bt, tf.reduce_sum(tf.subtract(h, h_sample), 0, True))\n",
    "#When we do sess.run(updt), TensorFlow will run all 3 update steps\n",
    "updt = [W.assign_add(W_adder), bv.assign_add(bv_adder), bh.assign_add(bh_adder)]"
   ]
  },
  {
   "cell_type": "code",
   "execution_count": 161,
   "metadata": {
    "collapsed": false,
    "deletable": true,
    "editable": true
   },
   "outputs": [
    {
     "name": "stderr",
     "output_type": "stream",
     "text": [
      "100%|██████████| 400/400 [01:01<00:00,  6.86it/s]\n"
     ]
    }
   ],
   "source": [
    "from tqdm import tqdm\n",
    "\n",
    "sess = tf.InteractiveSession()\n",
    "\n",
    "#Training\n",
    "#initialize the variables of the model\n",
    "init = tf.global_variables_initializer()\n",
    "sess.run(init)\n",
    "\n",
    "#Run through all of the training data num_epochs times\n",
    "for epoch in tqdm(range(num_epochs)):\n",
    "\n",
    "    #Reshape the song so that each training example is a vector with num_timesteps x 2*note_range elements\n",
    "    song = song[:int(np.floor(song.shape[0]/num_timesteps))*num_timesteps]\n",
    "#    print(np.shape(song))\n",
    "    songflat = np.reshape(song, [song.shape[0]/num_timesteps, song.shape[1]*num_timesteps])\n",
    "#    print(np.shape(songflat))\n",
    "\n",
    "    #Train the RBM on batch_size examples at a time\n",
    "    for i in range(1, len(songflat), batch_size):\n",
    "        tr_x = songflat[i:i+batch_size]\n",
    "        sess.run(updt, feed_dict={x: tr_x})"
   ]
  },
  {
   "cell_type": "code",
   "execution_count": 162,
   "metadata": {
    "collapsed": false,
    "deletable": true,
    "editable": true
   },
   "outputs": [],
   "source": [
    "cnt = 0"
   ]
  },
  {
   "cell_type": "code",
   "execution_count": 163,
   "metadata": {
    "collapsed": false,
    "deletable": true,
    "editable": true
   },
   "outputs": [
    {
     "name": "stdout",
     "output_type": "stream",
     "text": [
      "BUILDING YOUR SONG NUMBER 0\n"
     ]
    }
   ],
   "source": [
    "#Run a gibbs chain where the visible nodes are initialized to 0\n",
    "improv = gibbs_sample(1).eval(session=sess, feed_dict={x: np.zeros((1, n_visible))}) #try 10 or more in gibbs_sample\n",
    "\n",
    "#Here we reshape the vector to be time x notes, and then save the vector as a midi file\n",
    "print(\"BUILDING YOUR SONG NUMBER \"+str(cnt))\n",
    "S = np.reshape(improv[0,:], (num_timesteps, 2*note_range))\n",
    "midi_manipulation.noteStateMatrixToMidi(S, \"generated_chord_{}\".format(cnt))\n",
    "cnt = cnt + 1\n",
    "\n",
    "#Repeat running this cell to get more and more improvisations (no need for training again)"
   ]
  },
  {
   "cell_type": "code",
   "execution_count": 164,
   "metadata": {
    "collapsed": false,
    "deletable": true,
    "editable": true
   },
   "outputs": [],
   "source": [
    "import music21 as mus\n",
    "s = mus.converter.parse('generated_chord_' + str(cnt-1) + '.mid')\n",
    "#s.show()"
   ]
  },
  {
   "cell_type": "code",
   "execution_count": 165,
   "metadata": {
    "collapsed": false,
    "deletable": true,
    "editable": true
   },
   "outputs": [
    {
     "data": {
      "text/html": [
       "\n",
       "                <div id='midiPlayerDiv27756'></div>\n",
       "                <link rel=\"stylesheet\" href=\"http://artusi.xyz/music21j/css/m21.css\" \n",
       "                    type=\"text/css\" />\n",
       "                <script>\n",
       "                require.config({\n",
       "                    paths: {'music21': 'http://artusi.xyz/music21j/src/music21'} \n",
       "                }); \n",
       "                require(['music21'], function() { \n",
       "                               mp = new music21.miditools.MidiPlayer();\n",
       "                               mp.addPlayer('#midiPlayerDiv27756'); \n",
       "                               mp.base64Load('data:audio/midi;base64,TVRoZAAAAAYAAQABBABNVHJrAAACDwD/AwAA4ABAiACQSSgAkEooggCASQAAgEoAggCQSiiCAIBKAIIAkEooAJBRKIIAgEoAAIBRAIYAkDkoAJBOKIIAgDkAAIBOAIYAkDcoAJA7KIIAgDcAAIA7AACQTiiCAIBOAIIAkEooggCQJiiCAIAmAIIAgEoAjACQMiiCAIAyAIIAkE4oggCATgAAkFEoggCAUQAAkC0oggCALQCWAJBKKIIAgEoAhACQTCiCAJArKACQNiiCAIBMAACAKwAAgDYAhgCQNigAkEwoggCANgCCAIBMAIQAkFEohACAUQAAkEUoAJBOKIIAgEUAAIBOAACQSiiCAIBKAACQKyiCAIArAACQSiiCAIBKAACQLSiCAIAtAACQSiiCAIBKAIQAkE4oggCATgAAkEwoggCATAAAkD0oAJBKKACQUSiCAIA9AACASgAAgFEAiACQSiiCAIBKAIIAkE4oggCATgAAkDkoAJBJKIIAgDkAAIBJAIIAkEkoggCASQAAkEooggCASgAAkD4oAJBMKIIAgD4AAIBMAIYAkD4oggCAPgAAkEooAJBRKACQUyiCAIBKAACAUQAAgFMAAJBOKIIAgE4AiACQSiiCAJBOKIIAgEoAAIBOAACQTCiCAIBMAIQAkEUoggCARQCCAJBFKIIAgEUAggCQNCgAkEooggCANAAAgEoAggCQSiiCAIBKAIgA/y8A'); \n",
       "                        });\n",
       "                </script>"
      ],
      "text/plain": [
       "<IPython.core.display.HTML object>"
      ]
     },
     "metadata": {},
     "output_type": "display_data"
    }
   ],
   "source": [
    "s.show('midi')"
   ]
  },
  {
   "cell_type": "code",
   "execution_count": null,
   "metadata": {
    "collapsed": true,
    "deletable": true,
    "editable": true
   },
   "outputs": [],
   "source": []
  }
 ],
 "metadata": {
  "kernelspec": {
   "display_name": "Python 2",
   "language": "python",
   "name": "python2"
  },
  "language_info": {
   "codemirror_mode": {
    "name": "ipython",
    "version": 2
   },
   "file_extension": ".py",
   "mimetype": "text/x-python",
   "name": "python",
   "nbconvert_exporter": "python",
   "pygments_lexer": "ipython2",
   "version": "2.7.13"
  }
 },
 "nbformat": 4,
 "nbformat_minor": 2
}
