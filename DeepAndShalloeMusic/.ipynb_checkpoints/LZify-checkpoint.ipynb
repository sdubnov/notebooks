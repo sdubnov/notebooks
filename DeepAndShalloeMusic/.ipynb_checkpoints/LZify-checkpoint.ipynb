{
 "cells": [
  {
   "cell_type": "markdown",
   "metadata": {
    "deletable": true,
    "editable": true
   },
   "source": [
    "## LZify: Applying Universal Prediction to Musical Style"
   ]
  },
  {
   "cell_type": "markdown",
   "metadata": {
    "deletable": true,
    "editable": true
   },
   "source": [
    "This notebook demonstrates the use of Incremental Parsing (IP) from the LZ78 method for creating a dictionary of motifs. These motifs are later used to generate new sequences resembling the input sequence.\n"
   ]
  },
  {
   "cell_type": "markdown",
   "metadata": {
    "deletable": true,
    "editable": true
   },
   "source": [
    "The IPMotif function computes the motif dictionary discovered in the text. It uses Incremental Parsing method to parse the text into unseen motifs."
   ]
  },
  {
   "cell_type": "code",
   "execution_count": 1,
   "metadata": {
    "collapsed": false,
    "deletable": true,
    "editable": true
   },
   "outputs": [],
   "source": [
    "def IPMotif(text):\n",
    "    \"\"\"Compute an associative dictionary (the motif dictionary).\"\"\"\n",
    "    \n",
    "    dictionary = {} \n",
    "    motif = \"\"\n",
    "    result = []\n",
    "    for c in text:\n",
    "        motif = motif + c\n",
    "        if motif in dictionary:\n",
    "            # Increase count for existing motif\n",
    "#            print '%s in dictionary' % motif\n",
    "            dictionary[motif] += 1\n",
    "        else:\n",
    "            # Add motif to the dictionary.\n",
    "            dictionary[motif] = 1\n",
    "            motif = \"\"\n",
    "#            print 'add %s to dictionary' % motif\n",
    "\n",
    "    return dictionary\n"
   ]
  },
  {
   "cell_type": "code",
   "execution_count": 3,
   "metadata": {
    "collapsed": false,
    "deletable": true,
    "editable": true
   },
   "outputs": [
    {
     "name": "stdout",
     "output_type": "stream",
     "text": [
      "{' c': 3, ' a': 1, ' f': 1, ' d': 1, ' h': 1, ' m': 3, ' s': 1, ' p': 1, ' w': 1, ' t': 2, ' ': 16, 'ty': 1, 'tu': 1, 'tr': 1, 'th': 1, 'ta': 2, 'e o': 1, 'e m': 1, 'yl': 1, 'de': 2, 'da': 1, 'e t': 1, 'n b': 1, 'ng ': 1, 'd': 4, 'h': 1, 'ers': 1, 'l': 1, 'n M': 1, 'p': 1, 'n ': 3, 'em': 1, 'el': 1, 'ec': 1, 'et': 1, 'ark': 2, 'er': 2, ' ch': 1, ' ca': 1, 'o ': 1, 're': 1, 'r': 4, 'ra': 1, 't': 7, 'cal': 2, 'e ': 4, 'c': 4, 'ate': 1, 'g': 1, 'od': 1, 'o': 4, 'ati': 1, 's': 6, 'r ': 1, 'ov': 1, ' ma': 1, 's a': 1, 'ca': 3, ' mo': 1, 's t': 1, 'usi': 1, 'B': 1, 'al': 1, ' th': 1, 'f': 1, 'us': 2, 'n': 8, 'ul': 1, 'ain': 1, 'del': 1, 'v': 1, 'cal ': 1, 'at': 3, 'ai': 2, 'am': 1, 'it': 1, 'as': 1, 'ar': 3, 'ini': 1, 'in': 3, 'ic': 1, 'id': 1, 'ni': 1, 'arko': 1, 'nd': 1, 'ng': 2, 's.': 1, 's ': 3, 'M': 1, 'a,': 1, 'ta ': 1, 'in ': 1, 'a': 13, 'e': 11, 'i': 7, 'm': 1, 'st': 1, 'u': 4, 'y': 2}\n"
     ]
    }
   ],
   "source": [
    "#text = \"Cest impressionnant le TGV en quatre heures, on traverse toute la France. On na pas le temps de regarder les paysages. Cest fantastique mais je reconnais que jai un peu la nostalgie des vieux trains. Dans les vieux films, jaime le bruit particulier que les roues du train font sur les rails. Cest un bruit que jassocie au cinéma, ça donne du rythme aux films policiers. Quand on entend ce bruit, ça signifie quil y a un danger. En TGV, je me sens comme dans un avion. Il faut reconnaître que cest confortable. Jen profite pour lire tranquillement le programme du\"\n",
    "#text = 'abracadabra' #bracadabra'\n",
    "text = \"By using music written in a certain style as training data, parameters can becalculated for Markov chains and hidden Markov models to capture the musical style of the training data as mathematical models.\"\n",
    "dict1 = IPMotif(text)\n",
    "print dict1"
   ]
  },
  {
   "cell_type": "markdown",
   "metadata": {
    "deletable": true,
    "editable": true
   },
   "source": [
    "The IPContinuation function transforms the IPMotif dictionary into a tree-like representation to allow finding continuations for new  motifs."
   ]
  },
  {
   "cell_type": "code",
   "execution_count": 28,
   "metadata": {
    "collapsed": false,
    "deletable": true,
    "editable": true
   },
   "outputs": [],
   "source": [
    "def IPContinuation(dict1):\n",
    "    \"\"\"Compute continuation dictionary from a motif dictionary\"\"\"\n",
    "    \n",
    "    dict2 = {}\n",
    "    for Wk in dict1:\n",
    "        counter = dict1[Wk]\n",
    "        W = Wk[:-1]\n",
    "        #print 'W =',W\n",
    "        k = Wk[-1]\n",
    "        #print 'k-',k\n",
    "        if W in dict2:\n",
    "            dict2[W].append((k,counter))\n",
    "            #print 'dict2', dict2\n",
    "        else:\n",
    "            dict2[W] = [(k,counter)]\n",
    "            #print 'dict2', dict2\n",
    "    dict2 = Normalize(dict2)    \n",
    "    return dict2\n",
    "                    \n",
    "                    \n",
    "def Normalize(dict2):\n",
    "    \"\"\"Turns the counters in every element of dict2 to probabilities\"\"\"\n",
    "    \n",
    "    for W in dict2:\n",
    "        cnt = [tup[1] for tup in dict2[W]]\n",
    "        ttl = sum(cnt)\n",
    "        for k,tup in enumerate(dict2[W]):\n",
    "            dict2[W][k] = (tup[0],float(tup[1])/ttl)\n",
    "    return dict2"
   ]
  },
  {
   "cell_type": "code",
   "execution_count": 29,
   "metadata": {
    "collapsed": false,
    "deletable": true,
    "editable": true
   },
   "outputs": [
    {
     "name": "stdout",
     "output_type": "stream",
     "text": [
      "{'': [(' ', 0.16532258064516128), ('T', 0.004032258064516129), ('d', 0.012096774193548387), ('l', 0.036290322580645164), ('p', 0.020161290322580645), ('t', 0.04435483870967742), ('\\xc3', 0.004032258064516129), ('r', 0.04838709677419355), ('C', 0.008064516129032258), ('G', 0.008064516129032258), ('c', 0.024193548387096774), ('\\xa7', 0.008064516129032258), ('g', 0.012096774193548387), ('o', 0.03225806451612903), ('s', 0.07661290322580645), (',', 0.012096774193548387), ('\\xa9', 0.004032258064516129), ('.', 0.004032258064516129), ('J', 0.004032258064516129), ('V', 0.004032258064516129), ('b', 0.008064516129032258), ('f', 0.012096774193548387), ('j', 0.008064516129032258), ('n', 0.06048387096774194), ('i', 0.05241935483870968), ('v', 0.012096774193548387), ('\\xae', 0.004032258064516129), ('y', 0.004032258064516129), ('a', 0.07258064516129033), ('e', 0.14112903225806453), ('m', 0.024193548387096774), ('q', 0.008064516129032258), ('u', 0.06048387096774194)], ' a': [(' ', 1.0)], ' f': [('o', 0.5), ('i', 0.5)], ' qu': [('e', 1.0)], ' d': [('u', 1.0)], ' e': [('n', 1.0)], ' o': [('n', 1.0)], ' l': [('e', 0.6666666666666666), ('a', 0.3333333333333333)], ' r': [('y', 1.0)], ' p': [('o', 0.6666666666666666), ('a', 0.3333333333333333)], ' q': [('u', 1.0)], ' t': [('r', 1.0)], ' ': [('b', 0.025), ('c', 0.025), ('a', 0.05), ('f', 0.075), ('d', 0.05), ('e', 0.05), ('n', 0.025), ('o', 0.05), ('l', 0.1), ('m', 0.025), ('r', 0.05), ('s', 0.025), ('p', 0.1), ('q', 0.075), ('t', 0.05), ('u', 0.025), ('F', 0.025), ('D', 0.025), ('O', 0.025), ('Q', 0.025), ('C', 0.025), ('E', 0.025), ('I', 0.025), ('\\xc3', 0.025)], 'le': [('m', 0.5), ('s', 0.5)], '\\xa7': [('a', 1.0)], ' po': [('u', 1.0)], 'tr': [('a', 0.5), ('e', 0.5)], ',': [(' ', 1.0)], 'te': [('n', 1.0)], 'ta': [('l', 1.0)], 'e l': [('e', 1.0)], 'e t': [('r', 1.0)], 'e r': [('e', 1.0)], 'd': [(' ', 0.5), ('a', 0.5)], 'l ': [('f', 1.0)], 'l': [('e', 0.375), ('a', 0.125), ('m', 0.125), ('i', 0.125), (' ', 0.25)], 'p': [('r', 0.5), ('s', 0.25), ('a', 0.25)], 't': [('r', 0.3), ('h', 0.1), ('e', 0.2), ('a', 0.2), (' ', 0.2)], 't ': [('r', 1.0)], 'en': [(' ', 0.5), ('t', 0.5)], 'me ': [('d', 1.0)], 'rui': [('t', 1.0)], 'eu': [('x', 0.5), (' ', 0.5)], 'es': [('t', 0.5), (' ', 0.25), ('.', 0.25)], 'er': [(' ', 0.5), ('.', 0.5)], 'rt': [('a', 1.0)], 'ru': [('i', 1.0)], 'est': [(' ', 1.0)], 'un ': [('d', 1.0)], 'r': [('t', 0.18181818181818182), ('u', 0.2727272727272727), ('e', 0.09090909090909091), ('a', 0.18181818181818182), (' ', 0.18181818181818182), ('s', 0.09090909090909091)], 'ra': [('n', 1.0)], 'C': [('e', 1.0)], 'e.': [(' ', 1.0)], 'G': [('V', 1.0)], 'e ': [('l', 0.14285714285714285), ('m', 0.07142857142857142), ('j', 0.07142857142857142), ('h', 0.07142857142857142), ('d', 0.07142857142857142), ('b', 0.07142857142857142), ('a', 0.07142857142857142), ('t', 0.14285714285714285), ('r', 0.14285714285714285), ('s', 0.07142857142857142), ('q', 0.07142857142857142)], 'on': [('n', 1.0)], 'c': [('o', 0.4), ('e', 0.2), ('i', 0.4)], 'g': [('i', 0.5), ('r', 0.5)], 'o': [('n', 0.2857142857142857), ('f', 0.14285714285714285), ('u', 0.2857142857142857), ('s', 0.14285714285714285), ('m', 0.14285714285714285)], 's': [('.', 0.1111111111111111), (',', 0.1111111111111111), ('o', 0.05555555555555555), (' ', 0.3888888888888889), ('u', 0.05555555555555555), ('t', 0.1111111111111111), ('i', 0.05555555555555555), ('a', 0.05555555555555555), ('e', 0.05555555555555555)], 'r ': [('l', 1.0)], 'ou': [('e', 1.0)], 'ci': [('e', 1.0)], 'co': [('n', 1.0)], 'pr': [('o', 1.0)], 'u ': [('c', 1.0)], ' le': [(' ', 1.0)], 'me': [(' ', 1.0)], 'b': [('l', 1.0)], 'ux': [(' ', 1.0)], 'f': [('i', 0.5), ('o', 0.5)], 'j': [('a', 1.0)], 'n': [('s', 0.07142857142857142), ('i', 0.07142857142857142), ('n', 0.07142857142857142), ('a', 0.07142857142857142), ('d', 0.07142857142857142), ('e', 0.07142857142857142), ('t', 0.14285714285714285), ('.', 0.07142857142857142), (' ', 0.35714285714285715)], 'n ': [('t', 0.25), ('n', 0.25), ('T', 0.25), ('a', 0.25)], 'un': [(' ', 1.0)], 'ui': [('l', 1.0)], 'v': [('i', 1.0)], 'ue': [(' ', 1.0)], 'ai': [('l', 0.25), ('n', 0.25), (' ', 0.25), ('s', 0.25)], 'vi': [('o', 1.0)], 'it': [('e', 1.0)], 'an': [('q', 0.3333333333333333), ('g', 0.3333333333333333), ('s', 0.3333333333333333)], 'in': [('\\xc3', 1.0)], 'ie': [('r', 1.0)], ', ': [('j', 1.0)], 's.': [(' ', 1.0)], 's,': [(' ', 1.0)], 's ': [('j', 0.16666666666666666), ('c', 0.16666666666666666), ('d', 0.16666666666666666), ('p', 0.16666666666666666), ('r', 0.16666666666666666), ('v', 0.16666666666666666)], 'nt': [(' ', 1.0)], 'a ': [('d', 1.0)], 'a': [('i', 0.29411764705882354), ('\\xc3', 0.058823529411764705), ('u', 0.058823529411764705), ('m', 0.058823529411764705), ('n', 0.23529411764705882), ('s', 0.058823529411764705), ('r', 0.058823529411764705), ('y', 0.058823529411764705), (' ', 0.11764705882352941)], 'e': [('m', 0.029411764705882353), ('n', 0.08823529411764706), ('g', 0.029411764705882353), ('u', 0.08823529411764706), ('s', 0.14705882352941177), ('r', 0.08823529411764706), ('.', 0.058823529411764705), (' ', 0.4411764705882353), ('c', 0.029411764705882353)], 'i': [('q', 0.08333333333333333), ('r', 0.08333333333333333), ('n', 0.16666666666666666), ('t', 0.16666666666666666), ('m', 0.08333333333333333), ('l', 0.08333333333333333), ('c', 0.08333333333333333), ('e', 0.16666666666666666), ('g', 0.08333333333333333)], 'm': [('e', 0.6), ('a', 0.2), ('s', 0.2)], 'st': [(' ', 1.0)], 'q': [('u', 1.0)], 'u': [('l', 0.07692307692307693), ('x', 0.15384615384615385), ('n', 0.23076923076923078), ('i', 0.15384615384615385), ('e', 0.15384615384615385), ('a', 0.07692307692307693), (' ', 0.15384615384615385)]}\n"
     ]
    }
   ],
   "source": [
    "dict2 = IPContinuation(dict1)\n",
    "print dict2"
   ]
  },
  {
   "cell_type": "markdown",
   "metadata": {
    "deletable": true,
    "editable": true
   },
   "source": [
    "Generting new sequence is done by traversing the IPContinuation tree and selecting possible branches according to their weights. If motif is not found, its last symbol is removed and the process is repeated for a shorter motif."
   ]
  },
  {
   "cell_type": "code",
   "execution_count": 30,
   "metadata": {
    "collapsed": false,
    "deletable": true,
    "editable": true
   },
   "outputs": [],
   "source": [
    "from numpy.random import multinomial as randm\n",
    "from numpy import where\n",
    "\n",
    "def IPGenerate(n,dict2):\n",
    "    p = 0\n",
    "    out = \"\"\n",
    "    for k in range(n):\n",
    "        while True:\n",
    "            context = out[-p:]\n",
    "            if context in dict2:\n",
    "                prob = [tup[1] for tup in dict2[context]]\n",
    "                conti = where(randm(1,prob))[0][0]\n",
    "                cont = dict2[context][conti][0]\n",
    "                out = out + cont\n",
    "#                print prob, conti, cont, out\n",
    "                break\n",
    "            else:\n",
    "                p = p-1\n",
    "    return out"
   ]
  },
  {
   "cell_type": "code",
   "execution_count": 31,
   "metadata": {
    "collapsed": false,
    "deletable": true,
    "editable": true
   },
   "outputs": [
    {
     "name": "stdout",
     "output_type": "stream",
     "text": [
      "t ryue h n a dux onnier.rangrtaliqun dun dux blest rysitent rysux le hransuileme dun duil fofofonnt ry conns. ry duileme du cier.nt rys. que tren nt ryr lailme dun dulasofime due re a duil fofin�ten a\n"
     ]
    }
   ],
   "source": [
    "out = IPGenerate(200,dict2)\n",
    "print out"
   ]
  },
  {
   "cell_type": "markdown",
   "metadata": {
    "deletable": true,
    "editable": true
   },
   "source": [
    "Try this with different languages. Can you identify which was the original language? Or distinguish between which languages were used for training?\n",
    "These simple experiments demonstrate few important points:\n",
    "1. The method captures the \"texture\" of the language but not it's meaning\n",
    "2. We could parse a new text using IPMotifs from two languages, count the length and number of motifs in order to decide what was the language of the new text\n",
    "3. In order to use it with musical information, we need first to translate audio to features, or in case of polyphonic midi change this into some proper representation. One possibility is using virtual fundamental or chroma for harmony, or some other speciailzed representation to capture repetition in terms of other specific musical properties\n",
    "\n",
    "In case when the representation (features) are partial or \"lossy\", the reconstruction is done by keeping a pointer to the original data"
   ]
  },
  {
   "cell_type": "markdown",
   "metadata": {
    "deletable": true,
    "editable": true
   },
   "source": [
    "# Comparing to Markov\n",
    "Let's create a similar continuation dictionary using Markov approach.\n",
    "\n",
    "We compute Markov model by setting a fixed length motif (Markov memory size) and finding all possible continuation for that motif.\n"
   ]
  },
  {
   "cell_type": "code",
   "execution_count": 32,
   "metadata": {
    "collapsed": false,
    "deletable": true,
    "editable": true
   },
   "outputs": [],
   "source": [
    "def Markov(text,order=0):\n",
    "    \"\"\"Compute a Markov models (fixed length motif dictionary).\"\"\"\n",
    "    \n",
    "    dict3 = {}\n",
    "    for i in range(len(text)-order):\n",
    "        W = text[i:i+order]\n",
    "        print 'W', W\n",
    "        k  = text[i+order]\n",
    "        print 'k', k\n",
    "        if W in dict3:\n",
    "            if k in list(zip(*dict3[W])[0]):\n",
    "                dict3[W][k] += 1\n",
    "                print 'dict', dict3\n",
    "            else:\n",
    "                dict3[W][k] = 1\n",
    "                print 'dict', dict3\n",
    "        else:\n",
    "            dict3[W] = {k:1}\n",
    "            print 'dict', dict3\n",
    "\n",
    "    for x in dict3:\n",
    "        dict3[x] = dict3[x].items()\n",
    "    dict3 = Normalize(dict3)    \n",
    "    return dict3\n"
   ]
  },
  {
   "cell_type": "code",
   "execution_count": 36,
   "metadata": {
    "collapsed": false,
    "deletable": true,
    "editable": true
   },
   "outputs": [
    {
     "name": "stdout",
     "output_type": "stream",
     "text": [
      "W abr\n",
      "k a\n",
      "dict {'abr': {'a': 1}}\n",
      "W bra\n",
      "k c\n",
      "dict {'abr': {'a': 1}, 'bra': {'c': 1}}\n",
      "W rac\n",
      "k a\n",
      "dict {'abr': {'a': 1}, 'rac': {'a': 1}, 'bra': {'c': 1}}\n",
      "W aca\n",
      "k d\n",
      "dict {'aca': {'d': 1}, 'abr': {'a': 1}, 'rac': {'a': 1}, 'bra': {'c': 1}}\n",
      "W cad\n",
      "k a\n",
      "dict {'aca': {'d': 1}, 'abr': {'a': 1}, 'rac': {'a': 1}, 'bra': {'c': 1}, 'cad': {'a': 1}}\n",
      "W ada\n",
      "k b\n",
      "dict {'aca': {'d': 1}, 'rac': {'a': 1}, 'abr': {'a': 1}, 'ada': {'b': 1}, 'bra': {'c': 1}, 'cad': {'a': 1}}\n",
      "W dab\n",
      "k r\n",
      "dict {'aca': {'d': 1}, 'rac': {'a': 1}, 'dab': {'r': 1}, 'abr': {'a': 1}, 'ada': {'b': 1}, 'bra': {'c': 1}, 'cad': {'a': 1}}\n",
      "W abr\n",
      "k a\n",
      "dict {'aca': {'d': 1}, 'rac': {'a': 1}, 'dab': {'r': 1}, 'abr': {'a': 2}, 'ada': {'b': 1}, 'bra': {'c': 1}, 'cad': {'a': 1}}\n",
      "{'aca': [('d', 1.0)], 'rac': [('a', 1.0)], 'dab': [('r', 1.0)], 'abr': [('a', 1.0)], 'ada': [('b', 1.0)], 'bra': [('c', 1.0)], 'cad': [('a', 1.0)]}\n"
     ]
    }
   ],
   "source": [
    "text1 = 'abracadabra'\n",
    "Mdict = Markov(text1,3)\n",
    "print Mdict"
   ]
  },
  {
   "cell_type": "markdown",
   "metadata": {
    "deletable": true,
    "editable": true
   },
   "source": [
    "We can start experimenting directly with this model, but would need to set up some random initial motif to start the IPContinuation process. Another option is to include all models from order 0 to the chosen maximal Markov order."
   ]
  },
  {
   "cell_type": "code",
   "execution_count": 37,
   "metadata": {
    "collapsed": false,
    "deletable": true,
    "editable": true
   },
   "outputs": [],
   "source": [
    "def MaxOrder(text,order):\n",
    "    dictall = {}\n",
    "    for o in range(order):\n",
    "        dicto = Markov(text,o)\n",
    "        dictall.update(dicto)\n",
    "    return dictall"
   ]
  },
  {
   "cell_type": "code",
   "execution_count": 40,
   "metadata": {
    "collapsed": false,
    "deletable": true,
    "editable": true
   },
   "outputs": [
    {
     "name": "stdout",
     "output_type": "stream",
     "text": [
      "W \n",
      "k a\n",
      "dict {'': {'a': 1}}\n",
      "W \n",
      "k b\n",
      "dict {'': {'a': 1, 'b': 1}}\n",
      "W \n",
      "k r\n",
      "dict {'': {'a': 1, 'r': 1, 'b': 1}}\n",
      "W \n",
      "k a\n",
      "dict {'': {'a': 2, 'r': 1, 'b': 1}}\n",
      "W \n",
      "k c\n",
      "dict {'': {'a': 2, 'r': 1, 'b': 1, 'c': 1}}\n",
      "W \n",
      "k a\n",
      "dict {'': {'a': 3, 'r': 1, 'b': 1, 'c': 1}}\n",
      "W \n",
      "k d\n",
      "dict {'': {'a': 3, 'r': 1, 'b': 1, 'c': 1, 'd': 1}}\n",
      "W \n",
      "k a\n",
      "dict {'': {'a': 4, 'r': 1, 'b': 1, 'c': 1, 'd': 1}}\n",
      "W \n",
      "k b\n",
      "dict {'': {'a': 4, 'r': 1, 'b': 2, 'c': 1, 'd': 1}}\n",
      "W \n",
      "k r\n",
      "dict {'': {'a': 4, 'r': 2, 'b': 2, 'c': 1, 'd': 1}}\n",
      "W \n",
      "k a\n",
      "dict {'': {'a': 5, 'r': 2, 'b': 2, 'c': 1, 'd': 1}}\n",
      "W a\n",
      "k b\n",
      "dict {'a': {'b': 1}}\n",
      "W b\n",
      "k r\n",
      "dict {'a': {'b': 1}, 'b': {'r': 1}}\n",
      "W r\n",
      "k a\n",
      "dict {'a': {'b': 1}, 'r': {'a': 1}, 'b': {'r': 1}}\n",
      "W a\n",
      "k c\n",
      "dict {'a': {'c': 1, 'b': 1}, 'r': {'a': 1}, 'b': {'r': 1}}\n",
      "W c\n",
      "k a\n",
      "dict {'a': {'c': 1, 'b': 1}, 'r': {'a': 1}, 'b': {'r': 1}, 'c': {'a': 1}}\n",
      "W a\n",
      "k d\n",
      "dict {'a': {'c': 1, 'b': 1, 'd': 1}, 'r': {'a': 1}, 'b': {'r': 1}, 'c': {'a': 1}}\n",
      "W d\n",
      "k a\n",
      "dict {'a': {'c': 1, 'b': 1, 'd': 1}, 'r': {'a': 1}, 'b': {'r': 1}, 'c': {'a': 1}, 'd': {'a': 1}}\n",
      "W a\n",
      "k b\n",
      "dict {'a': {'c': 1, 'b': 2, 'd': 1}, 'r': {'a': 1}, 'b': {'r': 1}, 'c': {'a': 1}, 'd': {'a': 1}}\n",
      "W b\n",
      "k r\n",
      "dict {'a': {'c': 1, 'b': 2, 'd': 1}, 'r': {'a': 1}, 'b': {'r': 2}, 'c': {'a': 1}, 'd': {'a': 1}}\n",
      "W r\n",
      "k a\n",
      "dict {'a': {'c': 1, 'b': 2, 'd': 1}, 'r': {'a': 2}, 'b': {'r': 2}, 'c': {'a': 1}, 'd': {'a': 1}}\n",
      "W ab\n",
      "k r\n",
      "dict {'ab': {'r': 1}}\n",
      "W br\n",
      "k a\n",
      "dict {'ab': {'r': 1}, 'br': {'a': 1}}\n",
      "W ra\n",
      "k c\n",
      "dict {'ab': {'r': 1}, 'ra': {'c': 1}, 'br': {'a': 1}}\n",
      "W ac\n",
      "k a\n",
      "dict {'ac': {'a': 1}, 'ab': {'r': 1}, 'ra': {'c': 1}, 'br': {'a': 1}}\n",
      "W ca\n",
      "k d\n",
      "dict {'ac': {'a': 1}, 'ab': {'r': 1}, 'ca': {'d': 1}, 'ra': {'c': 1}, 'br': {'a': 1}}\n",
      "W ad\n",
      "k a\n",
      "dict {'ac': {'a': 1}, 'ab': {'r': 1}, 'ad': {'a': 1}, 'ca': {'d': 1}, 'ra': {'c': 1}, 'br': {'a': 1}}\n",
      "W da\n",
      "k b\n",
      "dict {'ac': {'a': 1}, 'ab': {'r': 1}, 'ad': {'a': 1}, 'ca': {'d': 1}, 'da': {'b': 1}, 'ra': {'c': 1}, 'br': {'a': 1}}\n",
      "W ab\n",
      "k r\n",
      "dict {'ac': {'a': 1}, 'ab': {'r': 2}, 'ad': {'a': 1}, 'ca': {'d': 1}, 'da': {'b': 1}, 'ra': {'c': 1}, 'br': {'a': 1}}\n",
      "W br\n",
      "k a\n",
      "dict {'ac': {'a': 1}, 'ab': {'r': 2}, 'ad': {'a': 1}, 'ca': {'d': 1}, 'da': {'b': 1}, 'ra': {'c': 1}, 'br': {'a': 2}}\n",
      "W abr\n",
      "k a\n",
      "dict {'abr': {'a': 1}}\n",
      "W bra\n",
      "k c\n",
      "dict {'abr': {'a': 1}, 'bra': {'c': 1}}\n",
      "W rac\n",
      "k a\n",
      "dict {'abr': {'a': 1}, 'rac': {'a': 1}, 'bra': {'c': 1}}\n",
      "W aca\n",
      "k d\n",
      "dict {'aca': {'d': 1}, 'abr': {'a': 1}, 'rac': {'a': 1}, 'bra': {'c': 1}}\n",
      "W cad\n",
      "k a\n",
      "dict {'aca': {'d': 1}, 'abr': {'a': 1}, 'rac': {'a': 1}, 'bra': {'c': 1}, 'cad': {'a': 1}}\n",
      "W ada\n",
      "k b\n",
      "dict {'aca': {'d': 1}, 'rac': {'a': 1}, 'abr': {'a': 1}, 'ada': {'b': 1}, 'bra': {'c': 1}, 'cad': {'a': 1}}\n",
      "W dab\n",
      "k r\n",
      "dict {'aca': {'d': 1}, 'rac': {'a': 1}, 'dab': {'r': 1}, 'abr': {'a': 1}, 'ada': {'b': 1}, 'bra': {'c': 1}, 'cad': {'a': 1}}\n",
      "W abr\n",
      "k a\n",
      "dict {'aca': {'d': 1}, 'rac': {'a': 1}, 'dab': {'r': 1}, 'abr': {'a': 2}, 'ada': {'b': 1}, 'bra': {'c': 1}, 'cad': {'a': 1}}\n",
      "W abra\n",
      "k c\n",
      "dict {'abra': {'c': 1}}\n",
      "W brac\n",
      "k a\n",
      "dict {'brac': {'a': 1}, 'abra': {'c': 1}}\n",
      "W raca\n",
      "k d\n",
      "dict {'brac': {'a': 1}, 'abra': {'c': 1}, 'raca': {'d': 1}}\n",
      "W acad\n",
      "k a\n",
      "dict {'brac': {'a': 1}, 'acad': {'a': 1}, 'abra': {'c': 1}, 'raca': {'d': 1}}\n",
      "W cada\n",
      "k b\n",
      "dict {'brac': {'a': 1}, 'cada': {'b': 1}, 'acad': {'a': 1}, 'abra': {'c': 1}, 'raca': {'d': 1}}\n",
      "W adab\n",
      "k r\n",
      "dict {'acad': {'a': 1}, 'brac': {'a': 1}, 'cada': {'b': 1}, 'abra': {'c': 1}, 'raca': {'d': 1}, 'adab': {'r': 1}}\n",
      "W dabr\n",
      "k a\n",
      "dict {'acad': {'a': 1}, 'brac': {'a': 1}, 'cada': {'b': 1}, 'abra': {'c': 1}, 'raca': {'d': 1}, 'dabr': {'a': 1}, 'adab': {'r': 1}}\n",
      "{'': [('a', 0.45454545454545453), ('r', 0.18181818181818182), ('b', 0.18181818181818182), ('c', 0.09090909090909091), ('d', 0.09090909090909091)], 'ac': [('a', 1.0)], 'ab': [('r', 1.0)], 'rac': [('a', 1.0)], 'dab': [('r', 1.0)], 'ca': [('d', 1.0)], 'raca': [('d', 1.0)], 'aca': [('d', 1.0)], 'da': [('b', 1.0)], 'cada': [('b', 1.0)], 'acad': [('a', 1.0)], 'br': [('a', 1.0)], 'bra': [('c', 1.0)], 'ad': [('a', 1.0)], 'a': [('c', 0.25), ('b', 0.5), ('d', 0.25)], 'c': [('a', 1.0)], 'b': [('r', 1.0)], 'd': [('a', 1.0)], 'brac': [('a', 1.0)], 'abr': [('a', 1.0)], 'r': [('a', 1.0)], 'ra': [('c', 1.0)], 'abra': [('c', 1.0)], 'ada': [('b', 1.0)], 'dabr': [('a', 1.0)], 'adab': [('r', 1.0)], 'cad': [('a', 1.0)]}\n"
     ]
    }
   ],
   "source": [
    "text1 = 'abracadabra'\n",
    "dictM1 = MaxOrder(text1,5)\n",
    "print dictM1"
   ]
  },
  {
   "cell_type": "code",
   "execution_count": 41,
   "metadata": {
    "collapsed": false,
    "deletable": true,
    "editable": true
   },
   "outputs": [
    {
     "name": "stdout",
     "output_type": "stream",
     "text": [
      "racadabracadabracadabracadabracadabracadabracadabracadabracadabracadabracadabracadabracadabracadabra\n"
     ]
    }
   ],
   "source": [
    "out = IPGenerate(100,dictM1)\n",
    "print out"
   ]
  },
  {
   "cell_type": "markdown",
   "metadata": {
    "deletable": true,
    "editable": true
   },
   "source": [
    "Experiment: try using 'abracadabra' with IPGenerate. \n",
    "\n",
    "* At what order the generated sequence becomes a simple loop?\n",
    "* What happens in the Markov model that creates the loop? Look at the combined Markov dictionary.\n",
    "\n",
    "Try generating sequences using Markov order less then maximum order. Compare this to IPContinuation.\n",
    "\n",
    "Try it on longer text (text1 below for example). What order should you choose? Try it on music (how?).\n",
    "* Which one is more \"natural\"? Discuss your findings.\n",
    "* Compare the sizes of the dictionaries (len(dict2.keys()))\n",
    "\n",
    "In text it seems that Markov captures better the words, while LZ stays on the syllable level. "
   ]
  },
  {
   "cell_type": "code",
   "execution_count": 54,
   "metadata": {
    "collapsed": false,
    "deletable": true,
    "editable": true
   },
   "outputs": [
    {
     "name": "stdout",
     "output_type": "stream",
     "text": [
      "LZ Generate\n",
      " hcal h thtreth delta damvhers a,ovarkovthcal s al del thusical cal cal sta s arkovulatel chng ths arko chng thm ths arkovusinidelovdarko darkovs.e o fusical ain Mn binin Mdelng he maltyl ws thstr chtyln Marko cal pinidelyln busitr s aters thdelhs.usideldeln Mcal hs.ate odelarko chn M mainin bvhBe thdarkodel cal delgfemusinita ws.n bp mamp deldainita fain bn bodas.stramininical mo stusinical chdatel s arkovo w movng atin Mge markovre maltherstyllcal matin b pideldarkodamvs. ain Mng movn bsta hodas.ta cal mo th cal wng cal cal wn Me o thusinidelr wtr th wdelfama, pcal mo chndel model ams thng cal mo wta thuls arko cal wMmMers thtylov models arkovulinical charko cal th thBta the thusical ma,ni\n",
      "========\n",
      "Markov Order 3 Generate\n",
      "ta chaing dathe as cers music writters as the musicapture of to cers moden Markov models as to cers certa certa as to capture of trameted for Markov musicapture the the trains to cers moden as can Markov models. the the themata, parkov musin Maraing dathe of to cers a as can in style mata, parkov chaing dathe musican in style to chains capture the the the themathe of traing dataing daten ing dataing datical moden style the training dathe mated for Markov calculaten ing models.culatain ing daterta cers training mated hidden style of the moden Maraining musin becapture models a calculataing dataing data, parkov models. training dated for Markov musin in becal style matain becand hidden ing dat\n"
     ]
    }
   ],
   "source": [
    "#text1 = \"Exhale le vertige, et les danseurs prudents Ne contempleront pas sans d'amres nauses Le sourire \\xc3\\xa9ternel de tes trente-deux dents. Pourtant, qui n'a serr\\xc3\\xa9 dans ses bras un squelette, Et qui ne s'est nourri des choses du tombeau ? Qu'importe le parfum, l'habit ou la toilette ? Qui fait le d\\xc3\\xa9go\\xc3\\xbbt\\xc3\\xa9 montre qu'il se croit beau. Bayad\\xc3\\xa8re sans nez, irr\\xc3\\xa9sistible gouge, Dis donc \\xc3\\xa0 ces danseurs qui font les offusqu\\xc3\\xa9s : Fiers mignons, malgr\\xc3\\xa9 l'art des poudres et du rouge,Vous sentez tous la mort ! \\xc3\\x94 squelettes musqu\\xc3\\xa9s,Antino\\xc3\\xbcs fl\\xc3\\xa9tris, dandys, \\xc3\\xa0 face glabre, Cadavres verniss\\xc3\\xa9s, lovelaces chenus, Le branle universel de la danse macabre Vous entra\\xc3\\xaene en des lieux qui ne sont pas connus !Des quais froids de la Seine aux bords br\\xc3\\xbblants du Gange, Le troupeau mortel saute et se p\\xc3\\xa2me, sans voir Dans un trou du plafond la trompette de l'Ange Sinistrement b\\xc3\\xa9ante ainsi qu'un tromblon noir. En tout climat, sous tout soleil, la Mort t'admire En tes contorsions, risible Humanit\\xc3\\xa9, Et souvent, comme toi, se parfumant de myrrhe, M\\xc3\\xaale son ironie \\xc3\\xa0 ton insanit\\xc3\\xa9 ! \"\n",
    "text1 = text\n",
    "\n",
    "dict1 = IPMotif(text1)\n",
    "#print dict1    \n",
    "\n",
    "dict2 = IPContinuation(dict1)\n",
    "#print dict2\n",
    "\n",
    "outLZ = IPGenerate(700,dict2)\n",
    "print 'LZ Generate'\n",
    "print outLZ\n",
    "\n",
    "print '========'\n",
    "\n",
    "dict3 = MaxOrder(text1,3)\n",
    "outM = IPGenerate(700,dict3)\n",
    "print 'Markov Order 3 Generate'\n",
    "print outM"
   ]
  },
  {
   "cell_type": "code",
   "execution_count": 55,
   "metadata": {
    "collapsed": false,
    "deletable": true,
    "editable": true
   },
   "outputs": [
    {
     "name": "stdout",
     "output_type": "stream",
     "text": [
      "32\n",
      "131\n"
     ]
    }
   ],
   "source": [
    "print len(dict2.keys())\n",
    "print len(dict3.keys())"
   ]
  },
  {
   "cell_type": "code",
   "execution_count": 56,
   "metadata": {
    "collapsed": false,
    "deletable": true,
    "editable": true
   },
   "outputs": [
    {
     "name": "stdout",
     "output_type": "stream",
     "text": [
      "['', ' c', 'ai', 'ca', ' m', 'ar', 'us', ' t', 'in', 'ark', 'er', ' ', 'ng', 's ', 'ta', 'de', 'e ', 'a', 'c', 'e', 'd', 'n ', 'o', 'n', 'i', 's', 'r', 'u', 't', 'cal', 'y', 'at']\n"
     ]
    }
   ],
   "source": [
    "print dict2.keys()"
   ]
  },
  {
   "cell_type": "markdown",
   "metadata": {
    "deletable": true,
    "editable": true
   },
   "source": [
    "The LZ dictionary is smaller in size and it captures motifs (keys) of length 3 from text1 example. It is difficult to judge the quality of the generated sequence, and finding relations between data analysis and musical perception or aesthetics is still an open formidable question."
   ]
  },
  {
   "cell_type": "code",
   "execution_count": null,
   "metadata": {
    "collapsed": false,
    "deletable": true,
    "editable": true
   },
   "outputs": [],
   "source": []
  }
 ],
 "metadata": {
  "kernelspec": {
   "display_name": "Python 2",
   "language": "python",
   "name": "python2"
  },
  "language_info": {
   "codemirror_mode": {
    "name": "ipython",
    "version": 2
   },
   "file_extension": ".py",
   "mimetype": "text/x-python",
   "name": "python",
   "nbconvert_exporter": "python",
   "pygments_lexer": "ipython2",
   "version": "2.7.13"
  }
 },
 "nbformat": 4,
 "nbformat_minor": 0
}
