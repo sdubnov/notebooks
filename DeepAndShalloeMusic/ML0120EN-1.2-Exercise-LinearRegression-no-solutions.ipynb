{
 "cells": [
  {
   "cell_type": "markdown",
   "metadata": {
    "deletable": true,
    "editable": true
   },
   "source": [
    "<a href=\"https://www.bigdatauniversity.com\"><img src = \"https://ibm.box.com/shared/static/jvcqp2iy2jlx2b32rmzdt0tx8lvxgzkp.png\" width = 300, align = \"center\"></a>\n",
    "\n",
    "<h1 align=center> <font size = 5> Exercise-Linear Regression with TensorFlow </font></h1>"
   ]
  },
  {
   "cell_type": "markdown",
   "metadata": {
    "deletable": true,
    "editable": true
   },
   "source": [
    "This exercise is about modelling a linear relationship between \"chirps of a cricket\" and ground temperature. \n",
    "\n",
    "In 1948, G. W. Pierce in his book \"Songs of Insects\" mentioned that we can predict temperature by listening to the freuency of songs(chirps) made by stripped Crickets. He recorded change in behaviour of crickets by recording number of chirps made by them at several \"different temperatures\" and found that there is a pattern in the way crickets respond to the rate of change in ground temperature 60 to 100 degrees of farenhite. He also found out that Crickets did not sing   \n",
    "above or below this temperature.\n",
    "\n",
    "This data is derieved from the above mentioned book and aim is to fit a linear model and predict the \"Best Fit Line\" for the given \"Chirps(per 15 Second)\" in Column 'A' and the corresponding \"Temperatures(Farenhite)\" in Column 'B' using TensorFlow. So that one could easily tell what temperature it is just by listening to the songs of cricket. \n",
    "\n"
   ]
  },
  {
   "cell_type": "markdown",
   "metadata": {
    "deletable": true,
    "editable": true
   },
   "source": [
    "### Let's import tensorFlow and python dependencies "
   ]
  },
  {
   "cell_type": "code",
   "execution_count": 39,
   "metadata": {
    "collapsed": true,
    "deletable": true,
    "editable": true,
    "scrolled": false
   },
   "outputs": [],
   "source": [
    "import tensorflow as tf\n",
    "import numpy as np\n",
    "import pandas as pd\n",
    "import matplotlib.pyplot as plt\n",
    "\n"
   ]
  },
  {
   "cell_type": "markdown",
   "metadata": {
    "deletable": true,
    "editable": true
   },
   "source": [
    "### Download and Explore the Data "
   ]
  },
  {
   "cell_type": "code",
   "execution_count": 40,
   "metadata": {
    "collapsed": false,
    "deletable": true,
    "editable": true
   },
   "outputs": [
    {
     "name": "stdout",
     "output_type": "stream",
     "text": [
      "WARNING: cannot verify ibm.box.com's certificate, issued by ���CN=GeoTrust SSL CA - G3,O=GeoTrust Inc.,C=US���:\n",
      "  Unable to locally verify the issuer's authority.\n",
      "WARNING: cannot verify ibm.ent.box.com's certificate, issued by ���CN=GeoTrust SSL CA - G3,O=GeoTrust Inc.,C=US���:\n",
      "  Unable to locally verify the issuer's authority.\n",
      "WARNING: cannot verify public.boxcloud.com's certificate, issued by ���CN=GeoTrust SSL CA - G3,O=GeoTrust Inc.,C=US���:\n",
      "  Unable to locally verify the issuer's authority.\n",
      "2017-09-28 03:51:21 URL:https://public.boxcloud.com/d/1/F8QIVK93JMjVeGZr33r7CE7k8OeYZmGIFuQs4Hmxfxo7xwEHxAe8VMhwJEVa38zv_75qGFWLMapFm25G66EutPIEfBEvUOG6gmjOd8a-FkaBfeMLsH2kNHqnTaXNRthGz2Iqqbg1pGCD8mc_mbbxi1f0B-dPLd19F0Cvy1TwcfxY5p0OcD2YAM8i6Cz-6_3s8TMYtD9yWN1glMktMGN9iQ_KuSmK-DHjNY0DLFhPi-2cAuMVFhpTzcFDSQVCnATgIjlVHeuT2TDH0X_NrWupMg7ckiZUbB30iAdhuKhc_6EsixxRi_0fge_aDSe6_LEGwmXwqj1WnZCf_5hFugnYVK3NsmW4mnFB0and-C1oEwDWTzk2bPNLNqESB6SXg2-Vs8gLG2ULMLb9v7555FEv5ogNNykFvb9b_XAuewEicYzZN0sNivVogjOyAQq3BECVVK1ozqxMX6aHwmQztF8srimBdnQR8O3xQSGqffGzLerTTkAESLTrGKyJZl4Em6alzxuMTSIQynn-lQPSTWn7SHrbSJrweZDwy-WZ115SpDJEtWhr16MGgnzBWz556Q9nfzgE-QsLHWdmKr_5kKO0RQYDnu3RSas_JjNV3DkF3MmlKf22B7znJozntB0m35jw_ukeYKAt5-kw33YI5UWmQKKLLLLsnkKBSQZzFBGM_p6idiupuym9DbwWDG995MNuyc07Xe8YDEx1tGD2bjd9Zitpk6v2n9o6VAjWt49RL-hqTLT_GOugHjAX3afEY4Oy4CcwOvFzx_DWgfZJontdPXRaM6V7iYB2dsMjHd5mTiFTzdxhV5yw8zZQiyC8J8RrlRMBQn8em2vycpqVmKRxahUErhQ_fvicBz2P1Xu_6G4wxH_Yd-T6ypdSC4lDwL3M9Z4YvFb8EQjSx_RbtgJ5LXM0Z6MXjrw-EE0Cg-a4u2Y3R4UI0BnwWuvJNWWZJ2RcE1W1dyOklYBspOZk2GddN5wMuIHIH0z2_1jeQlOxqcr1J9GUzbANCfktRGbD6yYy7kOoKsXcegXJ8_OolON49KgdsAbATy1NnZGvn_e6PmKxBoiTrY7sSrSgiMe6-lGtcIY0Mzvllm_pRnUT5iqwL-sbmtrMOnJF6h3tjqne-SoE4LX1g99a8l-VA9Ee1ONB5CKuMe8RL-ZiVpRafNURg7hxfxJE/download [164/164] -> \"PierceCricketData.csv\" [1]\n"
     ]
    }
   ],
   "source": [
    "#downloading dataset\n",
    "!wget -nv --no-check-certificate -O PierceCricketData.csv https://ibm.box.com/shared/static/reyjo1hk43m2x79nreywwfwcdd5yi8zu.csv"
   ]
  },
  {
   "cell_type": "code",
   "execution_count": 41,
   "metadata": {
    "collapsed": false,
    "deletable": true,
    "editable": true
   },
   "outputs": [
    {
     "data": {
      "text/html": [
       "<div>\n",
       "<table border=\"1\" class=\"dataframe\">\n",
       "  <thead>\n",
       "    <tr style=\"text-align: right;\">\n",
       "      <th></th>\n",
       "      <th>Chirps</th>\n",
       "      <th>Temp</th>\n",
       "    </tr>\n",
       "  </thead>\n",
       "  <tbody>\n",
       "    <tr>\n",
       "      <th>0</th>\n",
       "      <td>20.0</td>\n",
       "      <td>88.6</td>\n",
       "    </tr>\n",
       "    <tr>\n",
       "      <th>1</th>\n",
       "      <td>16.0</td>\n",
       "      <td>71.6</td>\n",
       "    </tr>\n",
       "    <tr>\n",
       "      <th>2</th>\n",
       "      <td>19.8</td>\n",
       "      <td>93.3</td>\n",
       "    </tr>\n",
       "    <tr>\n",
       "      <th>3</th>\n",
       "      <td>18.4</td>\n",
       "      <td>84.3</td>\n",
       "    </tr>\n",
       "    <tr>\n",
       "      <th>4</th>\n",
       "      <td>17.1</td>\n",
       "      <td>80.6</td>\n",
       "    </tr>\n",
       "  </tbody>\n",
       "</table>\n",
       "</div>"
      ],
      "text/plain": [
       "   Chirps  Temp\n",
       "0    20.0  88.6\n",
       "1    16.0  71.6\n",
       "2    19.8  93.3\n",
       "3    18.4  84.3\n",
       "4    17.1  80.6"
      ]
     },
     "execution_count": 41,
     "metadata": {},
     "output_type": "execute_result"
    }
   ],
   "source": [
    "df = pd.read_csv(\"PierceCricketData.csv\")\n",
    "df.head()"
   ]
  },
  {
   "cell_type": "markdown",
   "metadata": {
    "deletable": true,
    "editable": true
   },
   "source": [
    "<h6> Plot the Data Points </h6>"
   ]
  },
  {
   "cell_type": "code",
   "execution_count": 74,
   "metadata": {
    "collapsed": false,
    "deletable": true,
    "editable": true
   },
   "outputs": [
    {
     "name": "stdout",
     "output_type": "stream",
     "text": [
      "15\n"
     ]
    },
    {
     "data": {
      "image/png": "[encoded data removed]",
      "text/plain": [
       "<matplotlib.figure.Figure at 0x11d6f9610>"
      ]
     },
     "metadata": {},
     "output_type": "display_data"
    }
   ],
   "source": [
    "%matplotlib inline\n",
    "\n",
    "x_data, y_data = (df[\"Chirps\"].values,df[\"Temp\"].values)\n",
    "\n",
    "# plots the data points\n",
    "plt.plot(x_data, y_data, 'ro')\n",
    "# label the axis\n",
    "plt.xlabel(\"# Chirps per 15 sec\")\n",
    "plt.ylabel(\"Temp in Farenhiet\")\n",
    "print x_data.size"
   ]
  },
  {
   "cell_type": "markdown",
   "metadata": {
    "deletable": true,
    "editable": true
   },
   "source": [
    "Looking at the scatter plot we can analyse that there is a linear relationship between the data points that connect chirps to the temperature and optimal way to infer this knowledge is by fitting a line that best describes the data. Which follows the linear equation: \n",
    "\n",
    " ####                                          Ypred = m X + c \n",
    "\n",
    "We have to estimate the values of the slope 'm' and the inrtercept 'c' to fit a line where, X is the \"Chirps\" and Ypred is \"Predicted Temperature\" in this case. \n"
   ]
  },
  {
   "cell_type": "markdown",
   "metadata": {
    "deletable": true,
    "editable": true
   },
   "source": [
    "### Create a Data Flow Graph using TensorFlow \n",
    "\n",
    "Model the above equation by assigning arbitrary values of your choice for slope \"m\" and intercept \"c\" which can predict the temp \"Ypred\" given Chirps \"X\" as input. \n",
    "\n",
    "example m=3 and c=2\n",
    "\n",
    "Also, create a place holder for actual temperature \"Y\" which we will be needing for Optimization to estimate the actual values of slope and intercept.\n"
   ]
  },
  {
   "cell_type": "code",
   "execution_count": 109,
   "metadata": {
    "collapsed": true,
    "deletable": true,
    "editable": true
   },
   "outputs": [],
   "source": [
    "# Create place holders and Variables along with the Linear model.\n",
    "# use tf.placeholder(tf.float32, shape=(x_data.size)) command to load the X and Y data\n",
    "# use tf.Variable to create a variable (do not forget to initialise)\n",
    "# construct a Y prediction model (Ypred) using tf.add, tf.multiply\n",
    "# Your code goes here\n",
    "\n"
   ]
  },
  {
   "cell_type": "markdown",
   "metadata": {
    "deletable": true,
    "editable": true
   },
   "source": [
    "###  Create and Run a Session to Visualize the Predicted Line from above Graph \n",
    "\n",
    "<h6> Feel free to change the values of \"m\" and \"c\" in future to check how the initial position of line changes </h6>\n"
   ]
  },
  {
   "cell_type": "code",
   "execution_count": 110,
   "metadata": {
    "collapsed": true,
    "deletable": true,
    "editable": true
   },
   "outputs": [],
   "source": [
    "#create session and initialize variables\n",
    "session = tf.Session()\n",
    "session.run(tf.global_variables_initializer())"
   ]
  },
  {
   "cell_type": "code",
   "execution_count": 111,
   "metadata": {
    "collapsed": false,
    "deletable": true,
    "editable": true
   },
   "outputs": [
    {
     "data": {
      "text/plain": [
       "<matplotlib.text.Text at 0x11e56b050>"
      ]
     },
     "execution_count": 111,
     "metadata": {},
     "output_type": "execute_result"
    },
    {
     "data": {
      "image/png": "[encoded data removed]",
      "text/plain": [
       "<matplotlib.figure.Figure at 0x11dd83b90>"
      ]
     },
     "metadata": {},
     "output_type": "display_data"
    }
   ],
   "source": [
    "#get prediction with initial parameter values:\n",
    "#run the session with your prediction model Ypred and feed x_data into X\n",
    "#Your code goes here\n",
    "\n",
    "\n",
    "#plot initial prediction against datapoints\n",
    "plt.plot(x_data, pred)\n",
    "plt.plot(x_data, y_data, 'ro')\n",
    "# label the axis\n",
    "plt.xlabel(\"# Chirps per 15 sec\")\n",
    "plt.ylabel(\"Temp in Farenhiet\")\n"
   ]
  },
  {
   "cell_type": "markdown",
   "metadata": {
    "deletable": true,
    "editable": true
   },
   "source": [
    "### Define a  Graph for Loss Function\n",
    "\n",
    "The essence of estimating the values for \"m\" and \"c\" lies in minimizing the difference between predicted \"Ypred\" and actual \"Y\" temperature values which is defined in the form of Mean Squared error loss function. \n",
    "      \n",
    "$$ loss = \\frac{1}{n}\\sum_{i=1}^n{[Ypred_i - {Y}_i]^2} $$\n",
    "\n",
    "Note: There are also other ways to model the loss function based on distance metric between predicted and actual temperature values. For this exercise Mean Suared error criteria is considered. \n"
   ]
  },
  {
   "cell_type": "code",
   "execution_count": 112,
   "metadata": {
    "collapsed": true,
    "deletable": true,
    "editable": true
   },
   "outputs": [],
   "source": [
    "# use tf.squared_difference and tf.reduce_mean to create a loss function\n",
    "#Your code goes here\n",
    "\n",
    "loss = tf.reduce_mean(tf.squared_difference(Ypred,Y))\n",
    "\n",
    "\n"
   ]
  },
  {
   "cell_type": "markdown",
   "metadata": {
    "deletable": true,
    "editable": true
   },
   "source": [
    "### Define an Optimization Graph to Minimize the Loss and Training the Model\n",
    "\n",
    "\n",
    "\n"
   ]
  },
  {
   "cell_type": "code",
   "execution_count": 118,
   "metadata": {
    "collapsed": true,
    "deletable": true,
    "editable": true
   },
   "outputs": [],
   "source": [
    "# create an optimizer by using tf.train.GradientDescentOptimizer with learning_rate=0.01\n",
    "# create a train operation that calls optimizer.minimze method with you loss function as parameter\n",
    "# in other words, pass the loss function to the optimizer to minimize.\n",
    "# Your code goes here\n",
    "\n"
   ]
  },
  {
   "cell_type": "markdown",
   "metadata": {
    "deletable": true,
    "editable": true
   },
   "source": [
    "### Initialize all the vairiables again\n"
   ]
  },
  {
   "cell_type": "code",
   "execution_count": 119,
   "metadata": {
    "collapsed": true,
    "deletable": true,
    "editable": true
   },
   "outputs": [],
   "source": [
    "session.run(tf.global_variables_initializer())"
   ]
  },
  {
   "cell_type": "markdown",
   "metadata": {
    "deletable": true,
    "editable": true
   },
   "source": [
    "###  Run session to train and predict the values of 'm' and 'c' for different training steps along with storing the losses in each step"
   ]
  },
  {
   "cell_type": "markdown",
   "metadata": {
    "deletable": true,
    "editable": true
   },
   "source": [
    "Get the predicted m and c values by running a session on Training a linear model. Also collect the loss for different steps to print and plot.  "
   ]
  },
  {
   "cell_type": "code",
   "execution_count": 120,
   "metadata": {
    "collapsed": false,
    "deletable": true,
    "editable": true
   },
   "outputs": [
    {
     "name": "stdout",
     "output_type": "stream",
     "text": [
      "3.09353 2.00561\n",
      "Finished by Convergence Criterion\n",
      "81\n",
      "18.44\n"
     ]
    }
   ],
   "source": [
    "#run the session in parallel for [train, m, c,loss] by feeding x_data and y_data\n",
    "#use _, _m , _c,_l as output variables so we can store then into steps dictionary and losses list for later\n",
    "\n",
    "convergenceTolerance = 0.0001\n",
    "previous_m = np.inf\n",
    "previous_c = np.inf\n",
    "\n",
    "steps = {}\n",
    "steps['m'] = []\n",
    "steps['c'] = []\n",
    "\n",
    "losses=[]\n",
    "\n",
    "for k in range(10000):\n",
    "    \n",
    "   ########## Your Code goes Here ###########\n",
    "\n",
    "\n",
    "    if k%100 == 0 :\n",
    "        print _m, _c\n",
    "        \n",
    "    steps['m'].append(_m)\n",
    "    steps['c'].append(_c)\n",
    "    losses.append(_l)\n",
    "    if (np.abs(previous_m - _m) <= convergenceTolerance) or (np.abs(previous_c - _c) <= convergenceTolerance):\n",
    "        \n",
    "        print \"Finished by Convergence Criterion\"\n",
    "        print k\n",
    "        print _l\n",
    "        break\n",
    "    previous_m = _m, \n",
    "    previous_c = _c, "
   ]
  },
  {
   "cell_type": "markdown",
   "metadata": {},
   "source": [
    "### Plot the new prediction"
   ]
  },
  {
   "cell_type": "code",
   "execution_count": 121,
   "metadata": {
    "collapsed": false
   },
   "outputs": [
    {
     "name": "stdout",
     "output_type": "stream",
     "text": [
      "(4.6525583, 2.1022892)\n"
     ]
    },
    {
     "data": {
      "text/plain": [
       "<matplotlib.text.Text at 0x11edb0d90>"
      ]
     },
     "execution_count": 121,
     "metadata": {},
     "output_type": "execute_result"
    },
    {
     "data": {
      "image/png": "[encoded data removed]",
      "text/plain": [
       "<matplotlib.figure.Figure at 0x11ee22990>"
      ]
     },
     "metadata": {},
     "output_type": "display_data"
    }
   ],
   "source": [
    "pred = session.run(Ypred, feed_dict={X:x_data})\n",
    "\n",
    "m_opt, c_opt = session.run([m, c])\n",
    "print(m_opt, c_opt)\n",
    "\n",
    "#plot initial prediction against datapoints\n",
    "plt.plot(x_data, pred)\n",
    "plt.plot(x_data, y_data, 'ro')\n",
    "# label the axis\n",
    "plt.xlabel(\"# Chirps per 15 sec\")\n",
    "plt.ylabel(\"Temp in Farenhiet\")\n",
    "\n"
   ]
  },
  {
   "cell_type": "markdown",
   "metadata": {
    "deletable": true,
    "editable": true
   },
   "source": [
    "### Print the loss function"
   ]
  },
  {
   "cell_type": "code",
   "execution_count": 122,
   "metadata": {
    "collapsed": false,
    "deletable": true,
    "editable": true
   },
   "outputs": [
    {
     "data": {
      "text/plain": [
       "[<matplotlib.lines.Line2D at 0x11faa33d0>]"
      ]
     },
     "execution_count": 122,
     "metadata": {},
     "output_type": "execute_result"
    },
    {
     "data": {
      "image/png": "[encoded data removed]",
      "text/plain": [
       "<matplotlib.figure.Figure at 0x11eee63d0>"
      ]
     },
     "metadata": {},
     "output_type": "display_data"
    }
   ],
   "source": [
    "#use plt.plot to display the result stored in losses list\n",
    "# Your Code Goes Here\n",
    "\n",
    "plt.plot(losses[:])\n",
    "\n"
   ]
  },
  {
   "cell_type": "code",
   "execution_count": 80,
   "metadata": {
    "collapsed": true
   },
   "outputs": [],
   "source": [
    "session.close() "
   ]
  },
  {
   "cell_type": "markdown",
   "metadata": {
    "deletable": true,
    "editable": true
   },
   "source": [
    "This Exercise is about giving Overview about how to use TensorFlow for Predicting Ground Temperature given the number of Cricket Chirps per 15 secs. Idea is to use TnesorFlow's dataflow graph to define Optimization and Training graphs to find out the actual values of 'm' and 'c' that best describes the given Data. \n",
    "\n",
    "\n",
    "Please Feel free to change the initial values of 'm' and 'c' to check how the training steps Vary. \n",
    "\n",
    "\n",
    "\n",
    "\n",
    "## Want to learn more?\n",
    "\n",
    "Running deep learning programs usually needs a high performance platform. PowerAI speeds up deep learning and AI. Built on IBM's Power Systems, PowerAI is a scalable software platform that accelerates deep learning and AI with blazing performance for individual users or enterprises. The PowerAI platform supports popular machine learning libraries and dependencies including Tensorflow, Caffe, Torch, and Theano. You can download a [free version of PowerAI](https://cocl.us/ML0120EN_PAI).\n",
    "\n",
    "Also, you can use Data Science Experience to run these notebooks faster with bigger datasets. Data Science Experience is IBM's leading cloud solution for data scientists, built by data scientists. With Jupyter notebooks, RStudio, Apache Spark and popular libraries pre-packaged in the cloud, DSX enables data scientists to collaborate on their projects without having to install anything. Join the fast-growing community of DSX users today with a free account at [Data Science Experience](https://cocl.us/ML0120EN_DSX)This is the end of this lesson. Hopefully, now you have a deeper and intuitive understanding regarding the LSTM model. Thank you for reading this notebook, and good luck on your studies.\n"
   ]
  },
  {
   "cell_type": "markdown",
   "metadata": {
    "deletable": true,
    "editable": true
   },
   "source": [
    "### Thanks for completing this lesson!\n",
    "\n",
    "Notebook created by:  <a href = \"https://ca.linkedin.com/in/shashibushan-yenkanchi\"> Shashibushan Yenkanchi </a> </h4>\n"
   ]
  },
  {
   "cell_type": "markdown",
   "metadata": {
    "deletable": true,
    "editable": true
   },
   "source": [
    "# REFERENCES"
   ]
  },
  {
   "cell_type": "markdown",
   "metadata": {
    "deletable": true,
    "editable": true
   },
   "source": [
    "http://mathbits.com/MathBits/TISection/Statistics2/linearREAL.htm"
   ]
  }
 ],
 "metadata": {
  "anaconda-cloud": {},
  "kernelspec": {
   "display_name": "Python 2",
   "language": "python",
   "name": "python2"
  },
  "language_info": {
   "codemirror_mode": {
    "name": "ipython",
    "version": 2
   },
   "file_extension": ".py",
   "mimetype": "text/x-python",
   "name": "python",
   "nbconvert_exporter": "python",
   "pygments_lexer": "ipython2",
   "version": "2.7.13"
  },
  "widgets": {
   "state": {},
   "version": "1.1.2"
  }
 },
 "nbformat": 4,
 "nbformat_minor": 1
}
